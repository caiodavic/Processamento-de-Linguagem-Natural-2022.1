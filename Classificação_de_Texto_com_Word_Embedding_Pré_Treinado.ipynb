{
  "cells": [
    {
      "cell_type": "markdown",
      "metadata": {
        "id": "view-in-github",
        "colab_type": "text"
      },
      "source": [
        "<a href=\"https://colab.research.google.com/github/caiodavic/Processamento-de-Linguagem-Natural-2022.1/blob/main/Classifica%C3%A7%C3%A3o_de_Texto_com_Word_Embedding_Pr%C3%A9_Treinado.ipynb\" target=\"_parent\"><img src=\"https://colab.research.google.com/assets/colab-badge.svg\" alt=\"Open In Colab\"/></a>"
      ]
    },
    {
      "cell_type": "markdown",
      "metadata": {
        "id": "RAgFfzWXoUYb"
      },
      "source": [
        "# Classificação de Sátiras com Word Embedding Pré Treinado\n",
        "- Vamos classificar um dataset que contém notícias reais e sátiras utilizando Word Embeddings. Vamos utilizar um Vetor de Palavras disponibilizado [no repósitorio de Word Embeddings do NILC](http://www.nilc.icmc.usp.br/embeddings). "
      ]
    },
    {
      "cell_type": "markdown",
      "metadata": {
        "id": "Z81ZT8Ido-FY"
      },
      "source": [
        "### Importando as Bibliotecas necessárias"
      ]
    },
    {
      "cell_type": "code",
      "execution_count": null,
      "metadata": {
        "colab": {
          "base_uri": "https://localhost:8080/"
        },
        "id": "X2NfcxhJoN2m",
        "outputId": "74720993-0581-4e8a-e686-97110ccad31f"
      },
      "outputs": [
        {
          "output_type": "stream",
          "name": "stdout",
          "text": [
            "Looking in indexes: https://pypi.org/simple, https://us-python.pkg.dev/colab-wheels/public/simple/\n",
            "Collecting gensim==4.2.0\n",
            "  Downloading gensim-4.2.0-cp38-cp38-manylinux_2_12_x86_64.manylinux2010_x86_64.whl (24.1 MB)\n",
            "\u001b[K     |████████████████████████████████| 24.1 MB 1.5 MB/s \n",
            "\u001b[?25hRequirement already satisfied: scipy>=0.18.1 in /usr/local/lib/python3.8/dist-packages (from gensim==4.2.0) (1.7.3)\n",
            "Requirement already satisfied: smart-open>=1.8.1 in /usr/local/lib/python3.8/dist-packages (from gensim==4.2.0) (5.2.1)\n",
            "Requirement already satisfied: numpy>=1.17.0 in /usr/local/lib/python3.8/dist-packages (from gensim==4.2.0) (1.21.6)\n",
            "Installing collected packages: gensim\n",
            "  Attempting uninstall: gensim\n",
            "    Found existing installation: gensim 3.6.0\n",
            "    Uninstalling gensim-3.6.0:\n",
            "      Successfully uninstalled gensim-3.6.0\n",
            "Successfully installed gensim-4.2.0\n"
          ]
        }
      ],
      "source": [
        "!pip install gensim==4.2.0\n",
        "from gensim.models import KeyedVectors\n",
        "import pandas as pd\n",
        "import numpy as np\n",
        "from keras.preprocessing.text import Tokenizer\n",
        "import tensorflow as tf\n",
        "from tensorflow.keras.preprocessing.sequence import pad_sequences\n",
        "from sklearn.model_selection import train_test_split"
      ]
    },
    {
      "cell_type": "code",
      "execution_count": null,
      "metadata": {
        "colab": {
          "base_uri": "https://localhost:8080/"
        },
        "id": "KGwzQ2WDpezq",
        "outputId": "f1697750-6b30-4600-8ffc-60611c5713ef"
      },
      "outputs": [
        {
          "output_type": "stream",
          "name": "stdout",
          "text": [
            "Mounted at /content/gdrive\n"
          ]
        }
      ],
      "source": [
        "from google.colab import drive\n",
        "drive.mount('/content/gdrive')"
      ]
    },
    {
      "cell_type": "markdown",
      "metadata": {
        "id": "NvfNeBifpWRW"
      },
      "source": [
        "### Leitura de Dados e Divisão dos Dados"
      ]
    },
    {
      "cell_type": "code",
      "execution_count": null,
      "metadata": {
        "colab": {
          "base_uri": "https://localhost:8080/",
          "height": 206
        },
        "id": "1jNqeIY1pUeI",
        "outputId": "81d0203c-bb6f-4044-d26a-11e5502c7e48"
      },
      "outputs": [
        {
          "output_type": "execute_result",
          "data": {
            "text/plain": [
              "                                               title  \\\n",
              "0   crise e tao grande que nem tiozao do pave fez...   \n",
              "1   nao me representam diz jesus sobre intolerant...   \n",
              "2   marina silva e heloisa helena montam novo par...   \n",
              "3   dez propostas que podem realmente mudar o brasil   \n",
              "4   apresentadora do cidade alerta bahia dara cur...   \n",
              "\n",
              "                                                text   label  \n",
              "0  a familia guimaraes passou a noite de natal pe...  satire  \n",
              "1  uma menina de 11 anos apedrejada ao sair de um...  satire  \n",
              "2  insatisfeitas com seus partidos com as siglas ...  satire  \n",
              "3  o instituto nupal nucleo de pesquisas da ameri...  satire  \n",
              "4  assassinatos sequestros mortes violentas.  nen...  satire  "
            ],
            "text/html": [
              "\n",
              "  <div id=\"df-5fd0c2c3-7a3a-49f1-9a79-330239d04f83\">\n",
              "    <div class=\"colab-df-container\">\n",
              "      <div>\n",
              "<style scoped>\n",
              "    .dataframe tbody tr th:only-of-type {\n",
              "        vertical-align: middle;\n",
              "    }\n",
              "\n",
              "    .dataframe tbody tr th {\n",
              "        vertical-align: top;\n",
              "    }\n",
              "\n",
              "    .dataframe thead th {\n",
              "        text-align: right;\n",
              "    }\n",
              "</style>\n",
              "<table border=\"1\" class=\"dataframe\">\n",
              "  <thead>\n",
              "    <tr style=\"text-align: right;\">\n",
              "      <th></th>\n",
              "      <th>title</th>\n",
              "      <th>text</th>\n",
              "      <th>label</th>\n",
              "    </tr>\n",
              "  </thead>\n",
              "  <tbody>\n",
              "    <tr>\n",
              "      <th>0</th>\n",
              "      <td>crise e tao grande que nem tiozao do pave fez...</td>\n",
              "      <td>a familia guimaraes passou a noite de natal pe...</td>\n",
              "      <td>satire</td>\n",
              "    </tr>\n",
              "    <tr>\n",
              "      <th>1</th>\n",
              "      <td>nao me representam diz jesus sobre intolerant...</td>\n",
              "      <td>uma menina de 11 anos apedrejada ao sair de um...</td>\n",
              "      <td>satire</td>\n",
              "    </tr>\n",
              "    <tr>\n",
              "      <th>2</th>\n",
              "      <td>marina silva e heloisa helena montam novo par...</td>\n",
              "      <td>insatisfeitas com seus partidos com as siglas ...</td>\n",
              "      <td>satire</td>\n",
              "    </tr>\n",
              "    <tr>\n",
              "      <th>3</th>\n",
              "      <td>dez propostas que podem realmente mudar o brasil</td>\n",
              "      <td>o instituto nupal nucleo de pesquisas da ameri...</td>\n",
              "      <td>satire</td>\n",
              "    </tr>\n",
              "    <tr>\n",
              "      <th>4</th>\n",
              "      <td>apresentadora do cidade alerta bahia dara cur...</td>\n",
              "      <td>assassinatos sequestros mortes violentas.  nen...</td>\n",
              "      <td>satire</td>\n",
              "    </tr>\n",
              "  </tbody>\n",
              "</table>\n",
              "</div>\n",
              "      <button class=\"colab-df-convert\" onclick=\"convertToInteractive('df-5fd0c2c3-7a3a-49f1-9a79-330239d04f83')\"\n",
              "              title=\"Convert this dataframe to an interactive table.\"\n",
              "              style=\"display:none;\">\n",
              "        \n",
              "  <svg xmlns=\"http://www.w3.org/2000/svg\" height=\"24px\"viewBox=\"0 0 24 24\"\n",
              "       width=\"24px\">\n",
              "    <path d=\"M0 0h24v24H0V0z\" fill=\"none\"/>\n",
              "    <path d=\"M18.56 5.44l.94 2.06.94-2.06 2.06-.94-2.06-.94-.94-2.06-.94 2.06-2.06.94zm-11 1L8.5 8.5l.94-2.06 2.06-.94-2.06-.94L8.5 2.5l-.94 2.06-2.06.94zm10 10l.94 2.06.94-2.06 2.06-.94-2.06-.94-.94-2.06-.94 2.06-2.06.94z\"/><path d=\"M17.41 7.96l-1.37-1.37c-.4-.4-.92-.59-1.43-.59-.52 0-1.04.2-1.43.59L10.3 9.45l-7.72 7.72c-.78.78-.78 2.05 0 2.83L4 21.41c.39.39.9.59 1.41.59.51 0 1.02-.2 1.41-.59l7.78-7.78 2.81-2.81c.8-.78.8-2.07 0-2.86zM5.41 20L4 18.59l7.72-7.72 1.47 1.35L5.41 20z\"/>\n",
              "  </svg>\n",
              "      </button>\n",
              "      \n",
              "  <style>\n",
              "    .colab-df-container {\n",
              "      display:flex;\n",
              "      flex-wrap:wrap;\n",
              "      gap: 12px;\n",
              "    }\n",
              "\n",
              "    .colab-df-convert {\n",
              "      background-color: #E8F0FE;\n",
              "      border: none;\n",
              "      border-radius: 50%;\n",
              "      cursor: pointer;\n",
              "      display: none;\n",
              "      fill: #1967D2;\n",
              "      height: 32px;\n",
              "      padding: 0 0 0 0;\n",
              "      width: 32px;\n",
              "    }\n",
              "\n",
              "    .colab-df-convert:hover {\n",
              "      background-color: #E2EBFA;\n",
              "      box-shadow: 0px 1px 2px rgba(60, 64, 67, 0.3), 0px 1px 3px 1px rgba(60, 64, 67, 0.15);\n",
              "      fill: #174EA6;\n",
              "    }\n",
              "\n",
              "    [theme=dark] .colab-df-convert {\n",
              "      background-color: #3B4455;\n",
              "      fill: #D2E3FC;\n",
              "    }\n",
              "\n",
              "    [theme=dark] .colab-df-convert:hover {\n",
              "      background-color: #434B5C;\n",
              "      box-shadow: 0px 1px 3px 1px rgba(0, 0, 0, 0.15);\n",
              "      filter: drop-shadow(0px 1px 2px rgba(0, 0, 0, 0.3));\n",
              "      fill: #FFFFFF;\n",
              "    }\n",
              "  </style>\n",
              "\n",
              "      <script>\n",
              "        const buttonEl =\n",
              "          document.querySelector('#df-5fd0c2c3-7a3a-49f1-9a79-330239d04f83 button.colab-df-convert');\n",
              "        buttonEl.style.display =\n",
              "          google.colab.kernel.accessAllowed ? 'block' : 'none';\n",
              "\n",
              "        async function convertToInteractive(key) {\n",
              "          const element = document.querySelector('#df-5fd0c2c3-7a3a-49f1-9a79-330239d04f83');\n",
              "          const dataTable =\n",
              "            await google.colab.kernel.invokeFunction('convertToInteractive',\n",
              "                                                     [key], {});\n",
              "          if (!dataTable) return;\n",
              "\n",
              "          const docLinkHtml = 'Like what you see? Visit the ' +\n",
              "            '<a target=\"_blank\" href=https://colab.research.google.com/notebooks/data_table.ipynb>data table notebook</a>'\n",
              "            + ' to learn more about interactive tables.';\n",
              "          element.innerHTML = '';\n",
              "          dataTable['output_type'] = 'display_data';\n",
              "          await google.colab.output.renderOutput(dataTable, element);\n",
              "          const docLink = document.createElement('div');\n",
              "          docLink.innerHTML = docLinkHtml;\n",
              "          element.appendChild(docLink);\n",
              "        }\n",
              "      </script>\n",
              "    </div>\n",
              "  </div>\n",
              "  "
            ]
          },
          "metadata": {},
          "execution_count": 3
        }
      ],
      "source": [
        "data = pd.read_csv('/content/gdrive/MyDrive/2022.1/PLN/csv_satiras_reais.csv')\n",
        "data.head()"
      ]
    },
    {
      "cell_type": "code",
      "execution_count": null,
      "metadata": {
        "id": "q6Q4mCLlrpRG"
      },
      "outputs": [],
      "source": [
        "x = data['text']\n",
        "y = [1 if i == 'satire' else 0 for i in data['label']]\n",
        "x_train,x_test,y_train,y_test = train_test_split(x,y,test_size = 0.2)"
      ]
    },
    {
      "cell_type": "markdown",
      "metadata": {
        "id": "axhAsaM_r0CE"
      },
      "source": [
        "### Preparação dos dados"
      ]
    },
    {
      "cell_type": "markdown",
      "metadata": {
        "id": "nDvTSGNsr4UQ"
      },
      "source": [
        "#### Tokenização, criação do vocabulário e \"padded\"\n",
        "- A fim de transformar nossos dados  para que a primeira camada possa receber, precisamos tokenizar, e fazer com que todos os vetores de sentenças tenham a mesma dimensão.\n"
      ]
    },
    {
      "cell_type": "code",
      "execution_count": null,
      "metadata": {
        "id": "twPB8ycYpbmO"
      },
      "outputs": [],
      "source": [
        "from keras.preprocessing.text import Tokenizer\n",
        "vocab_size = 10000\n",
        "oov_token = \"<OOV>\"\n",
        "max_length = 100\n",
        "tokenizer = Tokenizer(num_words = vocab_size, oov_token = oov_token)"
      ]
    },
    {
      "cell_type": "markdown",
      "metadata": {
        "id": "U3d6C5Drsr2H"
      },
      "source": [
        "- Vamos criar nosso tokenizador com os dados da coluna de texto do treinamento "
      ]
    },
    {
      "cell_type": "code",
      "execution_count": null,
      "metadata": {
        "id": "8vR7mHCjsndf"
      },
      "outputs": [],
      "source": [
        "tokenizer.fit_on_texts(x_train)\n",
        "word_index = tokenizer.word_index"
      ]
    },
    {
      "cell_type": "code",
      "source": [
        "word_index"
      ],
      "metadata": {
        "id": "WP_heR6NFCAZ"
      },
      "execution_count": null,
      "outputs": []
    },
    {
      "cell_type": "code",
      "execution_count": null,
      "metadata": {
        "colab": {
          "base_uri": "https://localhost:8080/"
        },
        "id": "9NElPVK8s1qE",
        "outputId": "44d4af26-1194-4311-c870-f4044e1bec31"
      },
      "outputs": [
        {
          "data": {
            "text/plain": [
              "62191"
            ]
          },
          "execution_count": 7,
          "metadata": {},
          "output_type": "execute_result"
        }
      ],
      "source": [
        "len(word_index)"
      ]
    },
    {
      "cell_type": "markdown",
      "metadata": {
        "id": "yafHhIO2tUk7"
      },
      "source": [
        "- Agora precisamos mapear nossas palavras para o índice que o tokenizador criou."
      ]
    },
    {
      "cell_type": "code",
      "execution_count": null,
      "metadata": {
        "id": "8NtOqzcOq0IO"
      },
      "outputs": [],
      "source": [
        "x_train_sequences = tokenizer.texts_to_sequences(x_train)\n",
        "x_test_sequences = tokenizer.texts_to_sequences(x_test)"
      ]
    },
    {
      "cell_type": "markdown",
      "metadata": {
        "id": "wCSH_vV1tfm-"
      },
      "source": [
        "- Com as palavras mapeadas para valores, precisamos agora tornar todas as sequências do mesmo tamanho. Temos um tamanho máximo de 100. Vamos utilizar `padding`e `truncating`com o valor 'post', isso significa que tanto para truncar a sentença ou aumentar o seu vetor será feito no final do vetor."
      ]
    },
    {
      "cell_type": "code",
      "execution_count": null,
      "metadata": {
        "id": "Qv_wqXlWta7k"
      },
      "outputs": [],
      "source": [
        "x_train_padded = pad_sequences(x_train_sequences,maxlen=100,padding = 'post',truncating='post')\n",
        "x_test_padded = pad_sequences(x_test_sequences,maxlen=100,padding = 'post',truncating='post')"
      ]
    },
    {
      "cell_type": "markdown",
      "metadata": {
        "id": "18ZnaE2buNcQ"
      },
      "source": [
        "### Gerando a Matrix de Embeddings para o nosso vocabulário\n",
        "- Primeiro vamos importar um Word Embedding pré-treinado utilizando a biblioteca gensim\n",
        "- Depois vamos mapear cada palavra do nosso vocabulário para o Vetor correspondete no Word Embedding. "
      ]
    },
    {
      "cell_type": "code",
      "execution_count": null,
      "metadata": {
        "id": "Y7KG198Xt47P"
      },
      "outputs": [],
      "source": [
        "from gensim.models import KeyedVectors\n",
        "model_embedding = KeyedVectors.load_word2vec_format('/content/gdrive/MyDrive/2022.1/PLN/skip_s100.txt')"
      ]
    },
    {
      "cell_type": "code",
      "source": [
        "model_embedding.most_similar(positive=['amor'])"
      ],
      "metadata": {
        "colab": {
          "base_uri": "https://localhost:8080/"
        },
        "id": "wYUiPVxFGCpw",
        "outputId": "a6a1f891-a3bf-4ba9-ee4e-9d37acdb4caf"
      },
      "execution_count": null,
      "outputs": [
        {
          "output_type": "execute_result",
          "data": {
            "text/plain": [
              "[('desamor', 0.8173337578773499),\n",
              " ('afeto', 0.7566705942153931),\n",
              " ('encanto', 0.75653475522995),\n",
              " ('sublime', 0.7454006671905518),\n",
              " ('encantamento', 0.7423512935638428),\n",
              " ('ciúme', 0.7335120439529419),\n",
              " ('arrebatamento', 0.7330907583236694),\n",
              " ('sortilégio', 0.7301666140556335),\n",
              " ('fingimento', 0.7118589878082275),\n",
              " ('ódio', 0.7108227014541626)]"
            ]
          },
          "metadata": {},
          "execution_count": 14
        }
      ]
    },
    {
      "cell_type": "code",
      "execution_count": null,
      "metadata": {
        "colab": {
          "base_uri": "https://localhost:8080/"
        },
        "id": "031QYgJGvFi-",
        "outputId": "2c935c85-20dd-4af0-cefe-038f3657ee5a"
      },
      "outputs": [
        {
          "data": {
            "text/plain": [
              "array([ 0.094688,  0.020484, -0.049591, -0.154428, -0.194843,  0.178407,\n",
              "        0.216229,  0.08028 , -0.13208 , -0.069052,  0.182697, -0.050938,\n",
              "        0.122551,  0.011508,  0.021781,  0.152326,  0.052517,  0.285276,\n",
              "        0.475469, -0.123257,  0.031875,  0.411406,  0.203213,  0.224658,\n",
              "       -0.130703, -0.200906,  0.086363, -0.145371, -0.252867, -0.145347,\n",
              "       -0.047758, -0.071754,  0.101082, -0.196188, -0.02103 ,  0.224569,\n",
              "        0.138657, -0.004517, -0.158483,  0.050521,  0.089682,  0.051699,\n",
              "        0.194155, -0.221766,  0.622454, -0.125129,  0.255115, -0.035937,\n",
              "        0.2972  ,  0.095792, -0.15754 , -0.103723,  0.703258,  0.430454,\n",
              "        0.249805,  0.005314,  0.173957,  0.069553,  0.00305 ,  0.368506,\n",
              "        0.174279,  0.09282 ,  0.021418, -0.041932,  0.039243, -0.16786 ,\n",
              "        0.062402,  0.110994,  0.20235 ,  0.168782,  0.052548,  0.392852,\n",
              "        0.040046,  0.007114,  0.285834,  0.075967,  0.0569  ,  0.146031,\n",
              "        0.092562, -0.595235,  0.313186, -0.019095, -0.165676,  0.12529 ,\n",
              "        0.167313, -0.005799,  0.15359 , -0.441751, -0.095155, -0.143279,\n",
              "       -0.08136 , -0.167512, -0.061502, -0.253084, -0.35369 , -0.218298,\n",
              "       -0.023197, -0.074931,  0.037884,  0.126063], dtype=float32)"
            ]
          },
          "execution_count": 11,
          "metadata": {},
          "output_type": "execute_result"
        }
      ],
      "source": [
        "model_embedding.get_vector('amor')"
      ]
    },
    {
      "cell_type": "code",
      "execution_count": null,
      "metadata": {
        "id": "wEI23mOJvY-G"
      },
      "outputs": [],
      "source": [
        "def get_embedding_matrix(word_index,embeddings_index):\n",
        "    embedding_matrix = np.zeros((len(word_index)+1,100))\n",
        "    for word,i in word_index.items():\n",
        "        if embeddings_index.has_index_for(word):\n",
        "            embedding_vector = embeddings_index.get_vector(word)\n",
        "            embedding_matrix[i] = embedding_vector\n",
        "    return embedding_matrix"
      ]
    },
    {
      "cell_type": "code",
      "execution_count": null,
      "metadata": {
        "id": "tlhpULKmwoqc"
      },
      "outputs": [],
      "source": [
        "embedding_matrix = get_embedding_matrix(tokenizer.word_index, model_embedding)"
      ]
    },
    {
      "cell_type": "markdown",
      "metadata": {
        "id": "6X__uU5KxaqH"
      },
      "source": [
        "### Construindo a Rede Neural"
      ]
    },
    {
      "cell_type": "code",
      "execution_count": null,
      "metadata": {
        "id": "uMzZxRrXxaY7"
      },
      "outputs": [],
      "source": [
        "model = tf.keras.Sequential()\n",
        "model.add(tf.keras.layers.Embedding(input_dim=len(tokenizer.word_index)+1,output_dim=100,weights=[embedding_matrix],input_length=100,trainable=False))\n",
        "model.add(tf.keras.layers.Bidirectional(tf.keras.layers.SimpleRNN(64,activation='relu')))\n",
        "model.add(tf.keras.layers.Dense(6,activation='relu'))\n",
        "model.add(tf.keras.layers.Dense(1,activation='sigmoid'))"
      ]
    },
    {
      "cell_type": "code",
      "execution_count": null,
      "metadata": {
        "id": "9ogY5tMnxriD"
      },
      "outputs": [],
      "source": [
        "model.compile(loss=\"binary_crossentropy\", optimizer='adam', metrics=['accuracy'])"
      ]
    },
    {
      "cell_type": "code",
      "execution_count": null,
      "metadata": {
        "colab": {
          "base_uri": "https://localhost:8080/"
        },
        "id": "HN_KXwe1xtia",
        "outputId": "5d3fc479-fd67-4427-9b36-00a551845da7"
      },
      "outputs": [
        {
          "output_type": "stream",
          "name": "stdout",
          "text": [
            "Model: \"sequential\"\n",
            "_________________________________________________________________\n",
            " Layer (type)                Output Shape              Param #   \n",
            "=================================================================\n",
            " embedding (Embedding)       (None, 100, 100)          6220900   \n",
            "                                                                 \n",
            " bidirectional (Bidirectiona  (None, 128)              21120     \n",
            " l)                                                              \n",
            "                                                                 \n",
            " dense (Dense)               (None, 6)                 774       \n",
            "                                                                 \n",
            " dense_1 (Dense)             (None, 1)                 7         \n",
            "                                                                 \n",
            "=================================================================\n",
            "Total params: 6,242,801\n",
            "Trainable params: 21,901\n",
            "Non-trainable params: 6,220,900\n",
            "_________________________________________________________________\n"
          ]
        }
      ],
      "source": [
        "model.summary()"
      ]
    },
    {
      "cell_type": "code",
      "execution_count": null,
      "metadata": {
        "colab": {
          "base_uri": "https://localhost:8080/"
        },
        "id": "i3kQQ9Nax5H0",
        "outputId": "405521b2-132f-4e53-e16c-a959a88e81b7"
      },
      "outputs": [
        {
          "output_type": "stream",
          "name": "stdout",
          "text": [
            "Epoch 1/10\n",
            "250/250 [==============================] - 26s 90ms/step - loss: 0.4279 - accuracy: 0.8019 - val_loss: 0.2865 - val_accuracy: 0.8840\n",
            "Epoch 2/10\n",
            "250/250 [==============================] - 22s 89ms/step - loss: 0.2799 - accuracy: 0.8936 - val_loss: 0.3370 - val_accuracy: 0.8690\n",
            "Epoch 3/10\n",
            "250/250 [==============================] - 22s 89ms/step - loss: 0.2703 - accuracy: 0.8939 - val_loss: 0.2271 - val_accuracy: 0.9085\n",
            "Epoch 4/10\n",
            "250/250 [==============================] - 23s 90ms/step - loss: 0.2310 - accuracy: 0.9094 - val_loss: 0.2412 - val_accuracy: 0.9035\n",
            "Epoch 5/10\n",
            "250/250 [==============================] - 22s 90ms/step - loss: 20.2711 - accuracy: 0.8611 - val_loss: 0.2901 - val_accuracy: 0.8800\n",
            "Epoch 6/10\n",
            "250/250 [==============================] - 24s 96ms/step - loss: 0.2233 - accuracy: 0.9111 - val_loss: 0.2352 - val_accuracy: 0.9070\n",
            "Epoch 7/10\n",
            "250/250 [==============================] - 22s 88ms/step - loss: 0.2228 - accuracy: 0.9114 - val_loss: 0.2379 - val_accuracy: 0.9000\n",
            "Epoch 8/10\n",
            "250/250 [==============================] - 23s 91ms/step - loss: 0.1914 - accuracy: 0.9269 - val_loss: 0.2309 - val_accuracy: 0.9080\n",
            "Epoch 9/10\n",
            "250/250 [==============================] - 22s 88ms/step - loss: 0.2052 - accuracy: 0.9209 - val_loss: 0.2684 - val_accuracy: 0.8945\n",
            "Epoch 10/10\n",
            "250/250 [==============================] - 22s 88ms/step - loss: 0.1738 - accuracy: 0.9324 - val_loss: 0.2066 - val_accuracy: 0.9170\n"
          ]
        }
      ],
      "source": [
        "history = model.fit(x_train_padded,np.array(y_train),epochs=10,validation_data=(x_test_padded,np.array(y_test)))"
      ]
    },
    {
      "cell_type": "code",
      "execution_count": null,
      "metadata": {
        "colab": {
          "base_uri": "https://localhost:8080/"
        },
        "id": "8hWdF7w2yMx7",
        "outputId": "d82491ba-acc8-4cc8-d0a9-152d5b738e00"
      },
      "outputs": [
        {
          "output_type": "stream",
          "name": "stdout",
          "text": [
            "63/63 [==============================] - 1s 18ms/step - loss: 0.2066 - accuracy: 0.9170\n",
            "A acurácia foi de: 0.9169999957084656\n"
          ]
        }
      ],
      "source": [
        "loss, accuracy = model.evaluate(x_test_padded, np.array(y_test))\n",
        "print(f'A acurácia foi de: {accuracy}')"
      ]
    },
    {
      "cell_type": "code",
      "execution_count": null,
      "metadata": {
        "colab": {
          "base_uri": "https://localhost:8080/"
        },
        "id": "Z1fuF9HlzeIQ",
        "outputId": "61c17d9a-7c48-41c5-cd63-d9e946aa2934"
      },
      "outputs": [
        {
          "output_type": "stream",
          "name": "stdout",
          "text": [
            "63/63 [==============================] - 1s 17ms/step\n"
          ]
        }
      ],
      "source": [
        "predict = model.predict(x_test_padded)"
      ]
    },
    {
      "cell_type": "code",
      "execution_count": null,
      "metadata": {
        "id": "VNF0oLWc0hmO"
      },
      "outputs": [],
      "source": [
        "predict_bin = np.array([1 if i>0.5 else 0 for i in predict])"
      ]
    },
    {
      "cell_type": "code",
      "execution_count": null,
      "metadata": {
        "id": "0WPsWNo00RJa"
      },
      "outputs": [],
      "source": [
        "from sklearn.metrics import confusion_matrix"
      ]
    },
    {
      "cell_type": "code",
      "execution_count": null,
      "metadata": {
        "colab": {
          "base_uri": "https://localhost:8080/",
          "height": 606
        },
        "id": "c4HIf8PCyyrt",
        "outputId": "f65457f6-f7b6-4f5a-b7cb-7c46d6371e84"
      },
      "outputs": [
        {
          "output_type": "display_data",
          "data": {
            "text/plain": [
              "<Figure size 720x720 with 2 Axes>"
            ],
            "image/png": "[encoded data removed]"
          },
          "metadata": {
            "needs_background": "light"
          }
        }
      ],
      "source": [
        "import matplotlib.pyplot as plt\n",
        "import seaborn as sns\n",
        "conf_mat = confusion_matrix(y_true = y_test, y_pred = predict_bin)\n",
        "fig, ax = plt.subplots(figsize=(10,10))\n",
        "sns.heatmap(conf_mat, annot=True, fmt='d',\n",
        "            xticklabels=set(y_test), yticklabels=set(y_test))\n",
        "plt.ylabel('Actual')\n",
        "plt.xlabel('Predicted')\n",
        "plt.show()"
      ]
    },
    {
      "cell_type": "code",
      "execution_count": null,
      "metadata": {
        "colab": {
          "base_uri": "https://localhost:8080/"
        },
        "id": "cORekCgh2f6x",
        "outputId": "506d0310-d0a4-404e-d230-7da7dadd91b0"
      },
      "outputs": [
        {
          "output_type": "execute_result",
          "data": {
            "text/plain": [
              "[('comfinalidade', 0.3696272373199463),\n",
              " ('atutela', 0.3682810366153717),\n",
              " ('construçio', 0.36499056220054626),\n",
              " ('ascen-deram', 0.3600977957248688),\n",
              " ('antes_de_ir_de_ferias_saiba_onde_vao_estar_os_radares_da_psp',\n",
              "  0.35418379306793213),\n",
              " ('foifixado', 0.3528690040111542),\n",
              " ('administração-geral', 0.3500579297542572),\n",
              " ('redware', 0.3483659327030182),\n",
              " ('apenas000', 0.3444063365459442),\n",
              " ('audi-toria', 0.34424516558647156)]"
            ]
          },
          "metadata": {},
          "execution_count": 28
        }
      ],
      "source": [
        "model_embedding.most_similar(negative=['amor'])"
      ]
    },
    {
      "cell_type": "code",
      "source": [],
      "metadata": {
        "id": "8PM-QnAYLTrR"
      },
      "execution_count": null,
      "outputs": []
    }
  ],
  "metadata": {
    "accelerator": "GPU",
    "colab": {
      "provenance": [],
      "authorship_tag": "ABX9TyOW35VFr7eIH9zKCTULgAlr",
      "include_colab_link": true
    },
    "gpuClass": "standard",
    "kernelspec": {
      "display_name": "Python 3",
      "name": "python3"
    },
    "language_info": {
      "name": "python"
    }
  },
  "nbformat": 4,
  "nbformat_minor": 0
}