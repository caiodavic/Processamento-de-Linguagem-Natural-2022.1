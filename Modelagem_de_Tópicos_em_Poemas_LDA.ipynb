{
  "nbformat": 4,
  "nbformat_minor": 0,
  "metadata": {
    "colab": {
      "provenance": [],
      "authorship_tag": "ABX9TyPRgWIqZS2Mwjzp8nF4ETpb",
      "include_colab_link": true
    },
    "kernelspec": {
      "name": "python3",
      "display_name": "Python 3"
    },
    "language_info": {
      "name": "python"
    }
  },
  "cells": [
    {
      "cell_type": "markdown",
      "metadata": {
        "id": "view-in-github",
        "colab_type": "text"
      },
      "source": [
        "<a href=\"https://colab.research.google.com/github/caiodavic/Processamento-de-Linguagem-Natural-2022.1/blob/main/Modelagem_de_T%C3%B3picos_em_Poemas_LDA.ipynb\" target=\"_parent\"><img src=\"https://colab.research.google.com/assets/colab-badge.svg\" alt=\"Open In Colab\"/></a>"
      ]
    },
    {
      "cell_type": "code",
      "execution_count": null,
      "metadata": {
        "id": "IuobcY1FCdRc",
        "colab": {
          "base_uri": "https://localhost:8080/"
        },
        "outputId": "188cef3e-de4f-45b9-dfe6-ae35f00f9f54"
      },
      "outputs": [
        {
          "output_type": "stream",
          "name": "stderr",
          "text": [
            "[nltk_data] Downloading package stopwords to /root/nltk_data...\n",
            "[nltk_data]   Package stopwords is already up-to-date!\n"
          ]
        }
      ],
      "source": [
        "import pandas as pd\n",
        "import numpy as np\n",
        "from sklearn.feature_extraction.text import CountVectorizer\n",
        "import nltk\n",
        "nltk.download('stopwords')\n",
        "from nltk.corpus import stopwords\n",
        "import re\n",
        "from wordcloud import WordCloud"
      ]
    },
    {
      "cell_type": "markdown",
      "source": [
        "# Modelagem de poemas com LDA\n",
        "- O Dataframe que iremos utilizar foi retirado do seguinte link do kaggle: https://www.kaggle.com/datasets/oliveirasp6/poems-in-portuguese?resource=download\n",
        "- O Dataframe tem poemas em português, assim como seus autores e o número de visitas que cada poema obteve no site em que estava postado.\n"
      ],
      "metadata": {
        "id": "F_MWLRLwrOwS"
      }
    },
    {
      "cell_type": "code",
      "source": [
        "df = pd.read_csv('portuguese-poems.csv')\n",
        "print(df.shape)"
      ],
      "metadata": {
        "colab": {
          "base_uri": "https://localhost:8080/"
        },
        "id": "3LI0HcGyzzUR",
        "outputId": "484ccfc6-bf78-4b84-d3a6-25c0ab17df6d"
      },
      "execution_count": null,
      "outputs": [
        {
          "output_type": "stream",
          "name": "stdout",
          "text": [
            "(15543, 4)\n"
          ]
        }
      ]
    },
    {
      "cell_type": "code",
      "source": [
        "df.Content[0]"
      ],
      "metadata": {
        "colab": {
          "base_uri": "https://localhost:8080/",
          "height": 72
        },
        "id": "1qxfe25vKyub",
        "outputId": "d7ee888b-14fa-4aef-c8c2-2a14cbd81022"
      },
      "execution_count": null,
      "outputs": [
        {
          "output_type": "execute_result",
          "data": {
            "text/plain": [
              "'Eu não tinha este rosto de hoje,\\r\\nAssim calmo, assim triste, assim magro,\\r\\nNem estes olhos tão vazios,\\r\\nNem o lábio amargo.\\n\\r\\nEu não tinha estas mãos sem força,\\r\\nTão paradas e frias e mortas;\\r\\nEu não tinha este coração\\r\\nQue nem se mostra.\\n\\r\\nEu não dei por esta mudança,\\r\\nTão simples, tão certa, tão fácil:\\r\\n- Em que espelho ficou perdida\\r\\nA minha face?'"
            ],
            "application/vnd.google.colaboratory.intrinsic+json": {
              "type": "string"
            }
          },
          "metadata": {},
          "execution_count": 70
        }
      ]
    },
    {
      "cell_type": "code",
      "source": [
        "df.dropna(inplace=True)\n",
        "df.shape"
      ],
      "metadata": {
        "colab": {
          "base_uri": "https://localhost:8080/"
        },
        "id": "GxxdPa3BJBNe",
        "outputId": "459594c0-12a1-472c-f475-06dbb62f6bc0"
      },
      "execution_count": null,
      "outputs": [
        {
          "output_type": "execute_result",
          "data": {
            "text/plain": [
              "(15541, 4)"
            ]
          },
          "metadata": {},
          "execution_count": 71
        }
      ]
    },
    {
      "cell_type": "code",
      "source": [
        "stop_words = set(stopwords.words(\"portuguese\"))\n",
        "stop_words.update(['que', 'até', 'esse', \n",
        "                    'essa', 'pro', 'pra',\n",
        "                    'oi']) \n"
      ],
      "metadata": {
        "id": "Dt184pPEKCop"
      },
      "execution_count": null,
      "outputs": []
    },
    {
      "cell_type": "markdown",
      "source": [
        "- É de grande importância preparar os dados, removendo stopwords, pontuação, dígitos, entre outros que podem atrapalhar a modelagem de tópico."
      ],
      "metadata": {
        "id": "EqN7RkS1rmIc"
      }
    },
    {
      "cell_type": "code",
      "source": [
        "def clean_text(poem):  \n",
        "  poem = poem.lower()\n",
        "  poem = re.sub(\"^\\d+\\s|\\s\\d+\\s|\\s\\d+$\", \"\", poem)\n",
        "  poem = re.sub('[,.!?;:/]', '', poem)\n",
        "  poem = re.sub('\\r\\n', ' ',poem)\n",
        "  poem = re.sub('\\n', ' ',poem)\n",
        "  poem = ' '.join(i for i in poem.split() if not(i in stop_words) and len(i) > 2 and (not any (c.isdigit() for c in i)))\n",
        "\n",
        "  return poem"
      ],
      "metadata": {
        "id": "nVM7nfJk1NYU",
        "colab": {
          "base_uri": "https://localhost:8080/"
        },
        "outputId": "92d8a175-e4b1-42e6-d71a-1b0757e26283"
      },
      "execution_count": null,
      "outputs": [
        {
          "output_type": "stream",
          "name": "stderr",
          "text": [
            "<>:3: DeprecationWarning: invalid escape sequence \\d\n",
            "<>:3: DeprecationWarning: invalid escape sequence \\d\n",
            "<>:3: DeprecationWarning: invalid escape sequence \\d\n",
            "<ipython-input-73-d2339a115edb>:3: DeprecationWarning: invalid escape sequence \\d\n",
            "  poem = re.sub(\"^\\d+\\s|\\s\\d+\\s|\\s\\d+$\", \"\", poem)\n"
          ]
        }
      ]
    },
    {
      "cell_type": "code",
      "source": [
        "df['clean_poem'] = df.Content.apply(clean_text)"
      ],
      "metadata": {
        "id": "7CDHFDGAIKi2"
      },
      "execution_count": null,
      "outputs": []
    },
    {
      "cell_type": "code",
      "source": [
        "df.clean_poem[0]"
      ],
      "metadata": {
        "colab": {
          "base_uri": "https://localhost:8080/",
          "height": 54
        },
        "id": "b_GZFQfHKjhw",
        "outputId": "a1e697cf-5658-452a-875e-d4645d6fa0e4"
      },
      "execution_count": null,
      "outputs": [
        {
          "output_type": "execute_result",
          "data": {
            "text/plain": [
              "'rosto hoje assim calmo assim triste assim magro olhos tão vazios lábio amargo mãos força tão paradas frias mortas coração mostra dei mudança tão simples tão certa tão fácil espelho ficou perdida face'"
            ],
            "application/vnd.google.colaboratory.intrinsic+json": {
              "type": "string"
            }
          },
          "metadata": {},
          "execution_count": 75
        }
      ]
    },
    {
      "cell_type": "code",
      "source": [
        "df.head(5)"
      ],
      "metadata": {
        "colab": {
          "base_uri": "https://localhost:8080/",
          "height": 493
        },
        "id": "6M1M60NGIiHV",
        "outputId": "bd234188-1fcd-4d63-a593-1b54cefaf837"
      },
      "execution_count": null,
      "outputs": [
        {
          "output_type": "execute_result",
          "data": {
            "text/plain": [
              "                       Author                              Title  \\\n",
              "0            Cecília Meireles                            Retrato   \n",
              "1             Fernando Pessoa  Para ser grande, sê inteiro: nada   \n",
              "2            Marina Colasanti              Eu sei, mas não devia   \n",
              "3  Carlos Drummond de Andrade                          Quadrilha   \n",
              "4          Eugénio de Andrade                   É urgente o amor   \n",
              "\n",
              "                                                                                                                                                                                                                                                                                                       Content  \\\n",
              "0  Eu não tinha este rosto de hoje,\\r\\nAssim calmo, assim triste, assim magro,\\r\\nNem estes olhos tão vazios,\\r\\nNem o lábio amargo.\\n\\r\\nEu não tinha estas mãos sem força,\\r\\nTão paradas e frias e mortas;\\r\\nEu não tinha este coração\\r\\nQue nem se mostra.\\n\\r\\nEu não dei por esta mudança,\\r\\nTão s...   \n",
              "1                                                                                                                    Para ser grande, sê inteiro: nada\\r\\nTeu exagera ou exclui.\\r\\nSê todo em cada coisa. Põe quanto és\\r\\nNo mínimo que fazes.\\r\\nAssim em cada lago a lua toda\\r\\nBrilha, porque alta vive.   \n",
              "2  Eu sei que a gente se acostuma. Mas não devia.\\r\\nA gente se acostuma a morar em apartamento de fundos \\r\\ne a não ter outra vista que não seja as janelas ao redor. \\n\\r\\nE porque não tem vista, logo se acostuma a não olhar para fora.\\r\\nE porque não olha para fora logo se acostuma a não abrir d...   \n",
              "3  João amava Teresa que amava Raimundo\\r\\nque amava Maria que amava Joaquim que amava Lili\\r\\nque não amava ninguém.\\r\\nJoão foi para os Estados Unidos, Teresa para o convento,\\r\\nRaimundo morreu de desastre, Maria ficou pra tia,\\r\\nJoaquim suicidou-se e Lili casou com J. Pinto Fernandes\\r\\nque nã...   \n",
              "4  É urgente o amor.\\r\\nÉ urgente um barco no mar.\\n\\r\\nÉ urgente destruir certas palavras,\\r\\nódio, solidão e crueldade,\\r\\nalguns lamentos,\\r\\nmuitas espadas.\\n\\r\\nÉ urgente inventar alegria,\\r\\nmultiplicar os beijos, as searas,\\r\\né urgente descobrir rosas e rios\\r\\ne manhãs claras.\\n\\r\\nCai o s...   \n",
              "\n",
              "     Views  \\\n",
              "0  1018431   \n",
              "1  1979413   \n",
              "2   301509   \n",
              "3  1421206   \n",
              "4   621197   \n",
              "\n",
              "                                                                                                                                                                                                                                                                                                    clean_poem  \n",
              "0                                                                                                      rosto hoje assim calmo assim triste assim magro olhos tão vazios lábio amargo mãos força tão paradas frias mortas coração mostra dei mudança tão simples tão certa tão fácil espelho ficou perdida face  \n",
              "1                                                                                                                                                                                  grande inteiro nada exagera exclui todo cada coisa põe quanto mínimo fazes assim cada lago lua toda brilha porque alta vive  \n",
              "2  sei gente acostuma devia gente acostuma morar apartamento fundos ter outra vista janelas redor porque vista logo acostuma olhar porque olha logo acostuma abrir todo cortinas porque abre cortinas logo acostuma acender cedo luz medida acostuma esquece sol esquece esquece amplidão gente acostuma ac...  \n",
              "3                                                                             joão amava teresa amava raimundo amava maria amava joaquim amava lili amava ninguém joão estados unidos teresa convento raimundo morreu desastre maria ficou tia joaquim suicidou-se lili casou pinto fernandes entrado história  \n",
              "4                      urgente amor urgente barco mar urgente destruir certas palavras ódio solidão crueldade alguns lamentos muitas espadas urgente inventar alegria multiplicar beijos searas urgente descobrir rosas rios manhãs claras cai silêncio ombros luz impura doer urgente amor urgente permanecer  "
            ],
            "text/html": [
              "\n",
              "  <div id=\"df-af44d3a3-383e-4b29-84f7-6b653e6d1217\">\n",
              "    <div class=\"colab-df-container\">\n",
              "      <div>\n",
              "<style scoped>\n",
              "    .dataframe tbody tr th:only-of-type {\n",
              "        vertical-align: middle;\n",
              "    }\n",
              "\n",
              "    .dataframe tbody tr th {\n",
              "        vertical-align: top;\n",
              "    }\n",
              "\n",
              "    .dataframe thead th {\n",
              "        text-align: right;\n",
              "    }\n",
              "</style>\n",
              "<table border=\"1\" class=\"dataframe\">\n",
              "  <thead>\n",
              "    <tr style=\"text-align: right;\">\n",
              "      <th></th>\n",
              "      <th>Author</th>\n",
              "      <th>Title</th>\n",
              "      <th>Content</th>\n",
              "      <th>Views</th>\n",
              "      <th>clean_poem</th>\n",
              "    </tr>\n",
              "  </thead>\n",
              "  <tbody>\n",
              "    <tr>\n",
              "      <th>0</th>\n",
              "      <td>Cecília Meireles</td>\n",
              "      <td>Retrato</td>\n",
              "      <td>Eu não tinha este rosto de hoje,\\r\\nAssim calmo, assim triste, assim magro,\\r\\nNem estes olhos tão vazios,\\r\\nNem o lábio amargo.\\n\\r\\nEu não tinha estas mãos sem força,\\r\\nTão paradas e frias e mortas;\\r\\nEu não tinha este coração\\r\\nQue nem se mostra.\\n\\r\\nEu não dei por esta mudança,\\r\\nTão s...</td>\n",
              "      <td>1018431</td>\n",
              "      <td>rosto hoje assim calmo assim triste assim magro olhos tão vazios lábio amargo mãos força tão paradas frias mortas coração mostra dei mudança tão simples tão certa tão fácil espelho ficou perdida face</td>\n",
              "    </tr>\n",
              "    <tr>\n",
              "      <th>1</th>\n",
              "      <td>Fernando Pessoa</td>\n",
              "      <td>Para ser grande, sê inteiro: nada</td>\n",
              "      <td>Para ser grande, sê inteiro: nada\\r\\nTeu exagera ou exclui.\\r\\nSê todo em cada coisa. Põe quanto és\\r\\nNo mínimo que fazes.\\r\\nAssim em cada lago a lua toda\\r\\nBrilha, porque alta vive.</td>\n",
              "      <td>1979413</td>\n",
              "      <td>grande inteiro nada exagera exclui todo cada coisa põe quanto mínimo fazes assim cada lago lua toda brilha porque alta vive</td>\n",
              "    </tr>\n",
              "    <tr>\n",
              "      <th>2</th>\n",
              "      <td>Marina Colasanti</td>\n",
              "      <td>Eu sei, mas não devia</td>\n",
              "      <td>Eu sei que a gente se acostuma. Mas não devia.\\r\\nA gente se acostuma a morar em apartamento de fundos \\r\\ne a não ter outra vista que não seja as janelas ao redor. \\n\\r\\nE porque não tem vista, logo se acostuma a não olhar para fora.\\r\\nE porque não olha para fora logo se acostuma a não abrir d...</td>\n",
              "      <td>301509</td>\n",
              "      <td>sei gente acostuma devia gente acostuma morar apartamento fundos ter outra vista janelas redor porque vista logo acostuma olhar porque olha logo acostuma abrir todo cortinas porque abre cortinas logo acostuma acender cedo luz medida acostuma esquece sol esquece esquece amplidão gente acostuma ac...</td>\n",
              "    </tr>\n",
              "    <tr>\n",
              "      <th>3</th>\n",
              "      <td>Carlos Drummond de Andrade</td>\n",
              "      <td>Quadrilha</td>\n",
              "      <td>João amava Teresa que amava Raimundo\\r\\nque amava Maria que amava Joaquim que amava Lili\\r\\nque não amava ninguém.\\r\\nJoão foi para os Estados Unidos, Teresa para o convento,\\r\\nRaimundo morreu de desastre, Maria ficou pra tia,\\r\\nJoaquim suicidou-se e Lili casou com J. Pinto Fernandes\\r\\nque nã...</td>\n",
              "      <td>1421206</td>\n",
              "      <td>joão amava teresa amava raimundo amava maria amava joaquim amava lili amava ninguém joão estados unidos teresa convento raimundo morreu desastre maria ficou tia joaquim suicidou-se lili casou pinto fernandes entrado história</td>\n",
              "    </tr>\n",
              "    <tr>\n",
              "      <th>4</th>\n",
              "      <td>Eugénio de Andrade</td>\n",
              "      <td>É urgente o amor</td>\n",
              "      <td>É urgente o amor.\\r\\nÉ urgente um barco no mar.\\n\\r\\nÉ urgente destruir certas palavras,\\r\\nódio, solidão e crueldade,\\r\\nalguns lamentos,\\r\\nmuitas espadas.\\n\\r\\nÉ urgente inventar alegria,\\r\\nmultiplicar os beijos, as searas,\\r\\né urgente descobrir rosas e rios\\r\\ne manhãs claras.\\n\\r\\nCai o s...</td>\n",
              "      <td>621197</td>\n",
              "      <td>urgente amor urgente barco mar urgente destruir certas palavras ódio solidão crueldade alguns lamentos muitas espadas urgente inventar alegria multiplicar beijos searas urgente descobrir rosas rios manhãs claras cai silêncio ombros luz impura doer urgente amor urgente permanecer</td>\n",
              "    </tr>\n",
              "  </tbody>\n",
              "</table>\n",
              "</div>\n",
              "      <button class=\"colab-df-convert\" onclick=\"convertToInteractive('df-af44d3a3-383e-4b29-84f7-6b653e6d1217')\"\n",
              "              title=\"Convert this dataframe to an interactive table.\"\n",
              "              style=\"display:none;\">\n",
              "        \n",
              "  <svg xmlns=\"http://www.w3.org/2000/svg\" height=\"24px\"viewBox=\"0 0 24 24\"\n",
              "       width=\"24px\">\n",
              "    <path d=\"M0 0h24v24H0V0z\" fill=\"none\"/>\n",
              "    <path d=\"M18.56 5.44l.94 2.06.94-2.06 2.06-.94-2.06-.94-.94-2.06-.94 2.06-2.06.94zm-11 1L8.5 8.5l.94-2.06 2.06-.94-2.06-.94L8.5 2.5l-.94 2.06-2.06.94zm10 10l.94 2.06.94-2.06 2.06-.94-2.06-.94-.94-2.06-.94 2.06-2.06.94z\"/><path d=\"M17.41 7.96l-1.37-1.37c-.4-.4-.92-.59-1.43-.59-.52 0-1.04.2-1.43.59L10.3 9.45l-7.72 7.72c-.78.78-.78 2.05 0 2.83L4 21.41c.39.39.9.59 1.41.59.51 0 1.02-.2 1.41-.59l7.78-7.78 2.81-2.81c.8-.78.8-2.07 0-2.86zM5.41 20L4 18.59l7.72-7.72 1.47 1.35L5.41 20z\"/>\n",
              "  </svg>\n",
              "      </button>\n",
              "      \n",
              "  <style>\n",
              "    .colab-df-container {\n",
              "      display:flex;\n",
              "      flex-wrap:wrap;\n",
              "      gap: 12px;\n",
              "    }\n",
              "\n",
              "    .colab-df-convert {\n",
              "      background-color: #E8F0FE;\n",
              "      border: none;\n",
              "      border-radius: 50%;\n",
              "      cursor: pointer;\n",
              "      display: none;\n",
              "      fill: #1967D2;\n",
              "      height: 32px;\n",
              "      padding: 0 0 0 0;\n",
              "      width: 32px;\n",
              "    }\n",
              "\n",
              "    .colab-df-convert:hover {\n",
              "      background-color: #E2EBFA;\n",
              "      box-shadow: 0px 1px 2px rgba(60, 64, 67, 0.3), 0px 1px 3px 1px rgba(60, 64, 67, 0.15);\n",
              "      fill: #174EA6;\n",
              "    }\n",
              "\n",
              "    [theme=dark] .colab-df-convert {\n",
              "      background-color: #3B4455;\n",
              "      fill: #D2E3FC;\n",
              "    }\n",
              "\n",
              "    [theme=dark] .colab-df-convert:hover {\n",
              "      background-color: #434B5C;\n",
              "      box-shadow: 0px 1px 3px 1px rgba(0, 0, 0, 0.15);\n",
              "      filter: drop-shadow(0px 1px 2px rgba(0, 0, 0, 0.3));\n",
              "      fill: #FFFFFF;\n",
              "    }\n",
              "  </style>\n",
              "\n",
              "      <script>\n",
              "        const buttonEl =\n",
              "          document.querySelector('#df-af44d3a3-383e-4b29-84f7-6b653e6d1217 button.colab-df-convert');\n",
              "        buttonEl.style.display =\n",
              "          google.colab.kernel.accessAllowed ? 'block' : 'none';\n",
              "\n",
              "        async function convertToInteractive(key) {\n",
              "          const element = document.querySelector('#df-af44d3a3-383e-4b29-84f7-6b653e6d1217');\n",
              "          const dataTable =\n",
              "            await google.colab.kernel.invokeFunction('convertToInteractive',\n",
              "                                                     [key], {});\n",
              "          if (!dataTable) return;\n",
              "\n",
              "          const docLinkHtml = 'Like what you see? Visit the ' +\n",
              "            '<a target=\"_blank\" href=https://colab.research.google.com/notebooks/data_table.ipynb>data table notebook</a>'\n",
              "            + ' to learn more about interactive tables.';\n",
              "          element.innerHTML = '';\n",
              "          dataTable['output_type'] = 'display_data';\n",
              "          await google.colab.output.renderOutput(dataTable, element);\n",
              "          const docLink = document.createElement('div');\n",
              "          docLink.innerHTML = docLinkHtml;\n",
              "          element.appendChild(docLink);\n",
              "        }\n",
              "      </script>\n",
              "    </div>\n",
              "  </div>\n",
              "  "
            ]
          },
          "metadata": {},
          "execution_count": 76
        }
      ]
    },
    {
      "cell_type": "markdown",
      "source": [
        "- WordCloud é uma ferramenta legal para visualizarmos as palavras mais frequentes no nosso documento."
      ],
      "metadata": {
        "id": "ZyA1DPuKsJnG"
      }
    },
    {
      "cell_type": "code",
      "source": [
        "long_string = ','.join(list(df['clean_poem'].values))\n",
        "\n",
        "wordcloud = WordCloud(background_color=\"white\", max_words=5000, contour_width=3, contour_color='steelblue')\n",
        "\n",
        "wordcloud.generate(long_string)\n",
        "\n",
        "wordcloud.to_image()"
      ],
      "metadata": {
        "colab": {
          "base_uri": "https://localhost:8080/",
          "height": 217
        },
        "id": "A26MgQ2LJSeH",
        "outputId": "3c47d1ca-a709-4966-a869-8ea4c192ea75"
      },
      "execution_count": null,
      "outputs": [
        {
          "output_type": "execute_result",
          "data": {
            "text/plain": [
              "<PIL.Image.Image image mode=RGB size=400x200 at 0x7F07056A2C10>"
            ],
            "image/png": "[encoded data removed]"
          },
          "metadata": {},
          "execution_count": 77
        }
      ]
    },
    {
      "cell_type": "markdown",
      "source": [
        "- Utilizaremos TFs, e não TF-IDFs. Como LDA se baseia em frequência de palavras, TFs se aplica melhor para esse caso.\n",
        "\n",
        "- LDA trabalha com frequência de termos nos documentos, então precisamos da própria contagem dos termos. "
      ],
      "metadata": {
        "id": "6UhQ2PtGLmO9"
      }
    },
    {
      "cell_type": "code",
      "source": [
        "tf_vectorizer = CountVectorizer(\n",
        "        min_df = 30,\n",
        "        max_df = 0.5,\n",
        "        max_features = 10000,\n",
        "        stop_words = stop_words, \n",
        "        ngram_range = (1,2)\n",
        "  )\n",
        "\n",
        "vec_text = tf_vectorizer.fit_transform(df.clean_poem)\n",
        "words = tf_vectorizer.get_feature_names()\n",
        "print(vec_text.shape)\n",
        "print(len(words))\n"
      ],
      "metadata": {
        "colab": {
          "base_uri": "https://localhost:8080/"
        },
        "id": "gCoBgJ3yJvT_",
        "outputId": "7044a81c-ba46-4797-d2c0-579f1efe28fc"
      },
      "execution_count": null,
      "outputs": [
        {
          "output_type": "stream",
          "name": "stdout",
          "text": [
            "(15541, 5292)\n",
            "5292\n"
          ]
        },
        {
          "output_type": "stream",
          "name": "stderr",
          "text": [
            "/usr/local/lib/python3.7/dist-packages/sklearn/utils/deprecation.py:87: FutureWarning: Function get_feature_names is deprecated; get_feature_names is deprecated in 1.0 and will be removed in 1.2. Please use get_feature_names_out instead.\n",
            "  warnings.warn(msg, category=FutureWarning)\n"
          ]
        }
      ]
    },
    {
      "cell_type": "code",
      "source": [
        "words[0:10]"
      ],
      "metadata": {
        "colab": {
          "base_uri": "https://localhost:8080/"
        },
        "id": "GsGSFGe5MeR0",
        "outputId": "d38199c3-a7eb-4809-e1c2-7a4842da0586"
      },
      "execution_count": null,
      "outputs": [
        {
          "output_type": "execute_result",
          "data": {
            "text/plain": [
              "['abaixo',\n",
              " 'abandona',\n",
              " 'abandonada',\n",
              " 'abandonado',\n",
              " 'abandonar',\n",
              " 'abandono',\n",
              " 'abelha',\n",
              " 'abelhas',\n",
              " 'aberta',\n",
              " 'abertas']"
            ]
          },
          "metadata": {},
          "execution_count": 79
        }
      ]
    },
    {
      "cell_type": "markdown",
      "source": [
        "## Encontrando tópicos\n",
        "##### O resultado terá\n",
        "\n",
        "- uma matriz que descreve a relação entre palavras e tópicos\n",
        "- uma matriz que descreve a relação entre documentos e tópicos"
      ],
      "metadata": {
        "id": "_7JfYc2hOL4w"
      }
    },
    {
      "cell_type": "code",
      "source": [
        "from sklearn.decomposition import LatentDirichletAllocation"
      ],
      "metadata": {
        "id": "2z43miAIOP4i"
      },
      "execution_count": null,
      "outputs": []
    },
    {
      "cell_type": "code",
      "source": [
        "def print_top_words(model, feature_names, n_top_words):\n",
        "  for topic_idx, topic in enumerate(model.components_):\n",
        "    print(f\"\\n--\\nTopic #{topic_idx + 1}: \")\n",
        "\n",
        "    message = \", \".join([feature_names[i] for i in topic.argsort()[:-n_top_words - 1:-1]])\n",
        "    print(message)\n",
        "  print()\n"
      ],
      "metadata": {
        "id": "FsFqYenjOSR0"
      },
      "execution_count": null,
      "outputs": []
    },
    {
      "cell_type": "code",
      "source": [
        "def display_topics(W, H, feature_names, documents, no_top_words, no_top_documents):\n",
        "    for topic_idx, topic in enumerate(H):\n",
        "        print(f\"\\n--\\nTopic #{topic_idx + 1}: \")\n",
        "        print(\", \".join([feature_names[i]\n",
        "                for i in topic.argsort()[:-no_top_words - 1:-1]]).upper())\n",
        "        \n",
        "        top_d_idx = np.argsort(W[:,topic_idx])[::-1][0:no_top_documents]\n",
        "        for d in top_d_idx: \n",
        "          doc_data = df[['Author', 'Title']].iloc[d]\n",
        "          print(f'{doc_data[1]} - {doc_data[0]} : \\t{W[d, topic_idx]:.2f}')"
      ],
      "metadata": {
        "id": "QofjWqIYOxnj"
      },
      "execution_count": null,
      "outputs": []
    },
    {
      "cell_type": "code",
      "source": [
        "lda = LatentDirichletAllocation(n_components=10,  # número de tópicos que vamos tentar descobrir\n",
        "                                max_iter = 5,\n",
        "                                learning_method='online', # caso online, demorará menos e irá usar um conjunto de dados menor\n",
        "                                random_state=0)\n",
        "\n",
        "lda.fit(vec_text)\n",
        "doc_topic_matrix = lda.transform(vec_text)"
      ],
      "metadata": {
        "id": "Kj_2IZYWPYDY"
      },
      "execution_count": null,
      "outputs": []
    },
    {
      "cell_type": "markdown",
      "source": [
        "- Ao chamar o transform com a representação textual em formato de vetor como parâmetro, o LDA nos retorna a matriz que apresenta a relação entre documentos (nossos poemas) e tópicos "
      ],
      "metadata": {
        "id": "FLpTCCsZRt3v"
      }
    },
    {
      "cell_type": "code",
      "source": [
        "print('Matriz documento-tópicos:' + str(doc_topic_matrix.shape))\n",
        "print('Matriz tópicos-termos:' + str(lda.components_.shape))"
      ],
      "metadata": {
        "colab": {
          "base_uri": "https://localhost:8080/"
        },
        "id": "oV_6QzxqREvX",
        "outputId": "e39627e7-24e3-412e-e272-93494dfe453e"
      },
      "execution_count": null,
      "outputs": [
        {
          "output_type": "stream",
          "name": "stdout",
          "text": [
            "Matriz documento-tópicos:(15541, 10)\n",
            "Matriz tópicos-termos:(10, 5292)\n"
          ]
        }
      ]
    },
    {
      "cell_type": "markdown",
      "source": [
        "- Analisando as palavras com maior probabilidade em cada tópico"
      ],
      "metadata": {
        "id": "Wq33BNzPmy6L"
      }
    },
    {
      "cell_type": "code",
      "source": [
        "tf_feature_names = tf_vectorizer.get_feature_names()\n",
        "print_top_words(lda, tf_feature_names,15)"
      ],
      "metadata": {
        "colab": {
          "base_uri": "https://localhost:8080/"
        },
        "id": "dKVeJ-vCTLG4",
        "outputId": "7bde2060-ab68-4030-83d1-275fe7cbfdb8"
      },
      "execution_count": null,
      "outputs": [
        {
          "output_type": "stream",
          "name": "stdout",
          "text": [
            "\n",
            "--\n",
            "Topic #1: \n",
            "the, and, los, that, del, las, una, with, not, all, con, edição, borges, completa, poesia\n",
            "\n",
            "--\n",
            "Topic #2: \n",
            "mim, tudo, vida, tão, amor, ter, nada, sempre, assim, dia, nunca, tempo, alma, coração, ver\n",
            "\n",
            "--\n",
            "Topic #3: \n",
            "quero, sei, amor, tudo, deus, nada, porque, vida, hoje, mim, belo, parte, bem, mundo, existe\n",
            "\n",
            "--\n",
            "Topic #4: \n",
            "mar, noite, sol, dia, corpo, rio, mãos, vento, onde, água, cidade, águas, sobre, sob, vem\n",
            "\n",
            "--\n",
            "Topic #5: \n",
            "amor, alma, luz, flor, noite, olhos, céu, onde, sol, flores, voz, sonho, olhar, peito, lua\n",
            "\n",
            "--\n",
            "Topic #6: \n",
            "todos, poeta, gente, homem, poesia, outros, sempre, ainda, porque, palavras, todas, anos, mundo, tempo, vez\n",
            "\n",
            "--\n",
            "Topic #7: \n",
            "terra, deus, tão, olhos, onde, morte, vem, senhor, sangue, rei, vós, pois, filho, mil, mãe\n",
            "\n",
            "--\n",
            "Topic #8: \n",
            "poema, livro, paulo, rio, publicado, janeiro, publicado livro, rio janeiro, série, integrante, integrante série, poema integrante, poesia, poesias, poemas\n",
            "\n",
            "--\n",
            "Topic #9: \n",
            "casa, mulher, mão, boca, língua, corpo, seios, disse, mãe, pernas, pura, dom, duas, havia, menina\n",
            "\n",
            "--\n",
            "Topic #10: \n",
            "vida, tempo, sobre, luz, cada, morte, onde, silêncio, terra, dia, espaço, noite, pedra, sol, mundo\n",
            "\n"
          ]
        }
      ]
    },
    {
      "cell_type": "markdown",
      "source": [
        "- Analisando os tópicos e os 5 poemas mais associados com cada tópico"
      ],
      "metadata": {
        "id": "W0xjmhaim4ra"
      }
    },
    {
      "cell_type": "code",
      "source": [
        "display_topics(doc_topic_matrix,\n",
        "               lda.components_, \n",
        "               words,\n",
        "               df,\n",
        "               10, \n",
        "               5)"
      ],
      "metadata": {
        "id": "406LLdahRVvn",
        "colab": {
          "base_uri": "https://localhost:8080/"
        },
        "outputId": "fe3e2788-eedf-47fe-bf79-654d3c61494b"
      },
      "execution_count": null,
      "outputs": [
        {
          "output_type": "stream",
          "name": "stdout",
          "text": [
            "\n",
            "--\n",
            "Topic #1: \n",
            "THE, AND, LOS, THAT, DEL, LAS, UNA, WITH, NOT, ALL\n",
            "40 - ELEVATION - Fernando Pessoa : \t1.00\n",
            "Now are no Janus’ temple-doors thrown wide - Fernando Pessoa : \t1.00\n",
            "52 - SUMMERLAND - Fernando Pessoa : \t1.00\n",
            "16 - LULLABY - Fernando Pessoa : \t1.00\n",
            "47 - FIAT LUX - Fernando Pessoa : \t1.00\n",
            "\n",
            "--\n",
            "Topic #2: \n",
            "MIM, TUDO, VIDA, TÃO, AMOR, TER, NADA, SEMPRE, ASSIM, DIA\n",
            "Soneto do amor total - Vinicius de Moraes : \t0.98\n",
            "Limites do Amor - Affonso Romano de Sant'Anna : \t0.97\n",
            "Tu tens um medo - Cecília Meireles : \t0.97\n",
            "Na véspera de nada - Fernando Pessoa : \t0.97\n",
            "Herança - Cecília Meireles : \t0.97\n",
            "\n",
            "--\n",
            "Topic #3: \n",
            "QUERO, SEI, AMOR, TUDO, DEUS, NADA, PORQUE, VIDA, HOJE, MIM\n",
            "A Perfeição - Clarice Lispector : \t0.97\n",
            "Precisão - Clarice Lispector : \t0.97\n",
            "Requiem por um bicho - Ruy Belo : \t0.96\n",
            "Elogio da amada - Ruy Belo : \t0.96\n",
            "Cerimonial - Ruy Belo : \t0.96\n",
            "\n",
            "--\n",
            "Topic #4: \n",
            "MAR, NOITE, SOL, DIA, CORPO, RIO, MÃOS, VENTO, ONDE, ÁGUA\n",
            "Pus o meu sonho num navio - Cecília Meireles : \t0.98\n",
            "Canção - Cecília Meireles : \t0.98\n",
            "Trova - Mário Quintana : \t0.92\n",
            "Pescaria - Cecília Meireles : \t0.91\n",
            "Tenho um relógio parado - Fernando Pessoa : \t0.89\n",
            "\n",
            "--\n",
            "Topic #5: \n",
            "AMOR, ALMA, LUZ, FLOR, NOITE, OLHOS, CÉU, ONDE, SOL, FLORES\n",
            "X. MAR PORTUGUÊS - Fernando Pessoa : \t0.98\n",
            "Neste sol de sempre - J.Cardia : \t0.92\n",
            "Quando eu estiver com as raízes - Juan Ramón Jiménez : \t0.92\n",
            "Há palavras que nos beijam - Alexandre O'Neill : \t0.90\n",
            "Noite - Angela Santos : \t0.89\n",
            "\n",
            "--\n",
            "Topic #6: \n",
            "TODOS, POETA, GENTE, HOMEM, POESIA, OUTROS, SEMPRE, AINDA, PORQUE, PALAVRAS\n",
            "Cero a la izquierda - Lois Pereiro : \t0.92\n",
            "Jogada - Mário Donizete Massari : \t0.91\n",
            "Dentro de casa - José Tolentino Mendonça : \t0.91\n",
            "Porque os outros se mascaram mas tu não - Sophia de Mello Breyner Andresen : \t0.90\n",
            "Porque - Sophia de Mello Breyner Andresen : \t0.90\n",
            "\n",
            "--\n",
            "Topic #7: \n",
            "TERRA, DEUS, TÃO, OLHOS, ONDE, MORTE, VEM, SENHOR, SANGUE, REI\n",
            "Roçou-me - Fernando Pessoa : \t0.91\n",
            "As vendedoras de roupas - Stéphane Mallarmé : \t0.89\n",
            "Inverno - Roberto Saito : \t0.87\n",
            "POEMA - Langston Hughes : \t0.87\n",
            "Memória V - Manuel Geraldo : \t0.85\n",
            "\n",
            "--\n",
            "Topic #8: \n",
            "POEMA, LIVRO, PAULO, RIO, PUBLICADO, JANEIRO, PUBLICADO LIVRO, RIO JANEIRO, SÉRIE, INTEGRANTE\n",
            "As Andorinhas de Antônio Nobre - Cassiano Ricardo : \t0.96\n",
            "Elle est si belle, - Fernando Pessoa : \t0.95\n",
            "Este é um poema quadrado - Bob Cobbing : \t0.93\n",
            "Ao Promotor Leandro Borges - Tobias Barreto : \t0.92\n",
            "Os Andaimes - Guilherme de Almeida : \t0.90\n",
            "\n",
            "--\n",
            "Topic #9: \n",
            "CASA, MULHER, MÃO, BOCA, LÍNGUA, CORPO, SEIOS, DISSE, MÃE, PERNAS\n",
            "Aviso na entrada do cinema - Anízio Vianna : \t0.96\n",
            "Poema Tirado de uma Notícia de Jornal - Manuel Bandeira : \t0.94\n",
            "Poema tirado de uma notícia de jornal - Manuel Bandeira : \t0.94\n",
            "Notícia de jornal - Manuel Bandeira : \t0.94\n",
            "Soneto de amor - José Régio : \t0.93\n",
            "\n",
            "--\n",
            "Topic #10: \n",
            "VIDA, TEMPO, SOBRE, LUZ, CADA, MORTE, ONDE, SILÊNCIO, TERRA, DIA\n",
            "Pedra Filosofal - António Gedeão : \t0.99\n",
            "Hoje apetece-me o silêncio - Desconhecido : \t0.95\n",
            "Por trás da palavra há o caos - Camilo Mota : \t0.94\n",
            "ecologia lírica - João Apolinário : \t0.94\n",
            "Superados - Birão Santana : \t0.94\n"
          ]
        }
      ]
    },
    {
      "cell_type": "markdown",
      "source": [
        "- Associando cada linha a cada tópico a partir das maiores associações (probabilidades)"
      ],
      "metadata": {
        "id": "9NODiplZnIMI"
      }
    },
    {
      "cell_type": "code",
      "source": [
        "main_topic = []\n",
        "mt_prob = []\n",
        "for l in range(len(df['Author'])):\n",
        "  main_topic.append(doc_topic_matrix[l,:].argmax() + 1)\n",
        "  mt_prob.append(doc_topic_matrix[l,:].max())\n",
        "\n",
        "df = df.assign(main_topic = main_topic, main_topic_prob = mt_prob)"
      ],
      "metadata": {
        "id": "CnOHEsfHSUyo"
      },
      "execution_count": null,
      "outputs": []
    },
    {
      "cell_type": "code",
      "source": [
        "df.head()"
      ],
      "metadata": {
        "colab": {
          "base_uri": "https://localhost:8080/",
          "height": 510
        },
        "id": "fUn1SUWXmcX9",
        "outputId": "7f390eb4-1ebe-42b6-8393-41daafd9d798"
      },
      "execution_count": null,
      "outputs": [
        {
          "output_type": "execute_result",
          "data": {
            "text/plain": [
              "                       Author                              Title  \\\n",
              "0            Cecília Meireles                            Retrato   \n",
              "1             Fernando Pessoa  Para ser grande, sê inteiro: nada   \n",
              "2            Marina Colasanti              Eu sei, mas não devia   \n",
              "3  Carlos Drummond de Andrade                          Quadrilha   \n",
              "4          Eugénio de Andrade                   É urgente o amor   \n",
              "\n",
              "                                                                                                                                                                                                                                                                                                       Content  \\\n",
              "0  Eu não tinha este rosto de hoje,\\r\\nAssim calmo, assim triste, assim magro,\\r\\nNem estes olhos tão vazios,\\r\\nNem o lábio amargo.\\n\\r\\nEu não tinha estas mãos sem força,\\r\\nTão paradas e frias e mortas;\\r\\nEu não tinha este coração\\r\\nQue nem se mostra.\\n\\r\\nEu não dei por esta mudança,\\r\\nTão s...   \n",
              "1                                                                                                                    Para ser grande, sê inteiro: nada\\r\\nTeu exagera ou exclui.\\r\\nSê todo em cada coisa. Põe quanto és\\r\\nNo mínimo que fazes.\\r\\nAssim em cada lago a lua toda\\r\\nBrilha, porque alta vive.   \n",
              "2  Eu sei que a gente se acostuma. Mas não devia.\\r\\nA gente se acostuma a morar em apartamento de fundos \\r\\ne a não ter outra vista que não seja as janelas ao redor. \\n\\r\\nE porque não tem vista, logo se acostuma a não olhar para fora.\\r\\nE porque não olha para fora logo se acostuma a não abrir d...   \n",
              "3  João amava Teresa que amava Raimundo\\r\\nque amava Maria que amava Joaquim que amava Lili\\r\\nque não amava ninguém.\\r\\nJoão foi para os Estados Unidos, Teresa para o convento,\\r\\nRaimundo morreu de desastre, Maria ficou pra tia,\\r\\nJoaquim suicidou-se e Lili casou com J. Pinto Fernandes\\r\\nque nã...   \n",
              "4  É urgente o amor.\\r\\nÉ urgente um barco no mar.\\n\\r\\nÉ urgente destruir certas palavras,\\r\\nódio, solidão e crueldade,\\r\\nalguns lamentos,\\r\\nmuitas espadas.\\n\\r\\nÉ urgente inventar alegria,\\r\\nmultiplicar os beijos, as searas,\\r\\né urgente descobrir rosas e rios\\r\\ne manhãs claras.\\n\\r\\nCai o s...   \n",
              "\n",
              "     Views  \\\n",
              "0  1018431   \n",
              "1  1979413   \n",
              "2   301509   \n",
              "3  1421206   \n",
              "4   621197   \n",
              "\n",
              "                                                                                                                                                                                                                                                                                                    clean_poem  \\\n",
              "0                                                                                                      rosto hoje assim calmo assim triste assim magro olhos tão vazios lábio amargo mãos força tão paradas frias mortas coração mostra dei mudança tão simples tão certa tão fácil espelho ficou perdida face   \n",
              "1                                                                                                                                                                                  grande inteiro nada exagera exclui todo cada coisa põe quanto mínimo fazes assim cada lago lua toda brilha porque alta vive   \n",
              "2  sei gente acostuma devia gente acostuma morar apartamento fundos ter outra vista janelas redor porque vista logo acostuma olhar porque olha logo acostuma abrir todo cortinas porque abre cortinas logo acostuma acender cedo luz medida acostuma esquece sol esquece esquece amplidão gente acostuma ac...   \n",
              "3                                                                             joão amava teresa amava raimundo amava maria amava joaquim amava lili amava ninguém joão estados unidos teresa convento raimundo morreu desastre maria ficou tia joaquim suicidou-se lili casou pinto fernandes entrado história   \n",
              "4                      urgente amor urgente barco mar urgente destruir certas palavras ódio solidão crueldade alguns lamentos muitas espadas urgente inventar alegria multiplicar beijos searas urgente descobrir rosas rios manhãs claras cai silêncio ombros luz impura doer urgente amor urgente permanecer   \n",
              "\n",
              "   main_topic  main_topic_prob  \n",
              "0           7         0.486271  \n",
              "1           2         0.825435  \n",
              "2           6         0.495456  \n",
              "3           2         0.305711  \n",
              "4           3         0.679723  "
            ],
            "text/html": [
              "\n",
              "  <div id=\"df-94ce38c6-51d7-4138-9332-a7ff543a910c\">\n",
              "    <div class=\"colab-df-container\">\n",
              "      <div>\n",
              "<style scoped>\n",
              "    .dataframe tbody tr th:only-of-type {\n",
              "        vertical-align: middle;\n",
              "    }\n",
              "\n",
              "    .dataframe tbody tr th {\n",
              "        vertical-align: top;\n",
              "    }\n",
              "\n",
              "    .dataframe thead th {\n",
              "        text-align: right;\n",
              "    }\n",
              "</style>\n",
              "<table border=\"1\" class=\"dataframe\">\n",
              "  <thead>\n",
              "    <tr style=\"text-align: right;\">\n",
              "      <th></th>\n",
              "      <th>Author</th>\n",
              "      <th>Title</th>\n",
              "      <th>Content</th>\n",
              "      <th>Views</th>\n",
              "      <th>clean_poem</th>\n",
              "      <th>main_topic</th>\n",
              "      <th>main_topic_prob</th>\n",
              "    </tr>\n",
              "  </thead>\n",
              "  <tbody>\n",
              "    <tr>\n",
              "      <th>0</th>\n",
              "      <td>Cecília Meireles</td>\n",
              "      <td>Retrato</td>\n",
              "      <td>Eu não tinha este rosto de hoje,\\r\\nAssim calmo, assim triste, assim magro,\\r\\nNem estes olhos tão vazios,\\r\\nNem o lábio amargo.\\n\\r\\nEu não tinha estas mãos sem força,\\r\\nTão paradas e frias e mortas;\\r\\nEu não tinha este coração\\r\\nQue nem se mostra.\\n\\r\\nEu não dei por esta mudança,\\r\\nTão s...</td>\n",
              "      <td>1018431</td>\n",
              "      <td>rosto hoje assim calmo assim triste assim magro olhos tão vazios lábio amargo mãos força tão paradas frias mortas coração mostra dei mudança tão simples tão certa tão fácil espelho ficou perdida face</td>\n",
              "      <td>7</td>\n",
              "      <td>0.486271</td>\n",
              "    </tr>\n",
              "    <tr>\n",
              "      <th>1</th>\n",
              "      <td>Fernando Pessoa</td>\n",
              "      <td>Para ser grande, sê inteiro: nada</td>\n",
              "      <td>Para ser grande, sê inteiro: nada\\r\\nTeu exagera ou exclui.\\r\\nSê todo em cada coisa. Põe quanto és\\r\\nNo mínimo que fazes.\\r\\nAssim em cada lago a lua toda\\r\\nBrilha, porque alta vive.</td>\n",
              "      <td>1979413</td>\n",
              "      <td>grande inteiro nada exagera exclui todo cada coisa põe quanto mínimo fazes assim cada lago lua toda brilha porque alta vive</td>\n",
              "      <td>2</td>\n",
              "      <td>0.825435</td>\n",
              "    </tr>\n",
              "    <tr>\n",
              "      <th>2</th>\n",
              "      <td>Marina Colasanti</td>\n",
              "      <td>Eu sei, mas não devia</td>\n",
              "      <td>Eu sei que a gente se acostuma. Mas não devia.\\r\\nA gente se acostuma a morar em apartamento de fundos \\r\\ne a não ter outra vista que não seja as janelas ao redor. \\n\\r\\nE porque não tem vista, logo se acostuma a não olhar para fora.\\r\\nE porque não olha para fora logo se acostuma a não abrir d...</td>\n",
              "      <td>301509</td>\n",
              "      <td>sei gente acostuma devia gente acostuma morar apartamento fundos ter outra vista janelas redor porque vista logo acostuma olhar porque olha logo acostuma abrir todo cortinas porque abre cortinas logo acostuma acender cedo luz medida acostuma esquece sol esquece esquece amplidão gente acostuma ac...</td>\n",
              "      <td>6</td>\n",
              "      <td>0.495456</td>\n",
              "    </tr>\n",
              "    <tr>\n",
              "      <th>3</th>\n",
              "      <td>Carlos Drummond de Andrade</td>\n",
              "      <td>Quadrilha</td>\n",
              "      <td>João amava Teresa que amava Raimundo\\r\\nque amava Maria que amava Joaquim que amava Lili\\r\\nque não amava ninguém.\\r\\nJoão foi para os Estados Unidos, Teresa para o convento,\\r\\nRaimundo morreu de desastre, Maria ficou pra tia,\\r\\nJoaquim suicidou-se e Lili casou com J. Pinto Fernandes\\r\\nque nã...</td>\n",
              "      <td>1421206</td>\n",
              "      <td>joão amava teresa amava raimundo amava maria amava joaquim amava lili amava ninguém joão estados unidos teresa convento raimundo morreu desastre maria ficou tia joaquim suicidou-se lili casou pinto fernandes entrado história</td>\n",
              "      <td>2</td>\n",
              "      <td>0.305711</td>\n",
              "    </tr>\n",
              "    <tr>\n",
              "      <th>4</th>\n",
              "      <td>Eugénio de Andrade</td>\n",
              "      <td>É urgente o amor</td>\n",
              "      <td>É urgente o amor.\\r\\nÉ urgente um barco no mar.\\n\\r\\nÉ urgente destruir certas palavras,\\r\\nódio, solidão e crueldade,\\r\\nalguns lamentos,\\r\\nmuitas espadas.\\n\\r\\nÉ urgente inventar alegria,\\r\\nmultiplicar os beijos, as searas,\\r\\né urgente descobrir rosas e rios\\r\\ne manhãs claras.\\n\\r\\nCai o s...</td>\n",
              "      <td>621197</td>\n",
              "      <td>urgente amor urgente barco mar urgente destruir certas palavras ódio solidão crueldade alguns lamentos muitas espadas urgente inventar alegria multiplicar beijos searas urgente descobrir rosas rios manhãs claras cai silêncio ombros luz impura doer urgente amor urgente permanecer</td>\n",
              "      <td>3</td>\n",
              "      <td>0.679723</td>\n",
              "    </tr>\n",
              "  </tbody>\n",
              "</table>\n",
              "</div>\n",
              "      <button class=\"colab-df-convert\" onclick=\"convertToInteractive('df-94ce38c6-51d7-4138-9332-a7ff543a910c')\"\n",
              "              title=\"Convert this dataframe to an interactive table.\"\n",
              "              style=\"display:none;\">\n",
              "        \n",
              "  <svg xmlns=\"http://www.w3.org/2000/svg\" height=\"24px\"viewBox=\"0 0 24 24\"\n",
              "       width=\"24px\">\n",
              "    <path d=\"M0 0h24v24H0V0z\" fill=\"none\"/>\n",
              "    <path d=\"M18.56 5.44l.94 2.06.94-2.06 2.06-.94-2.06-.94-.94-2.06-.94 2.06-2.06.94zm-11 1L8.5 8.5l.94-2.06 2.06-.94-2.06-.94L8.5 2.5l-.94 2.06-2.06.94zm10 10l.94 2.06.94-2.06 2.06-.94-2.06-.94-.94-2.06-.94 2.06-2.06.94z\"/><path d=\"M17.41 7.96l-1.37-1.37c-.4-.4-.92-.59-1.43-.59-.52 0-1.04.2-1.43.59L10.3 9.45l-7.72 7.72c-.78.78-.78 2.05 0 2.83L4 21.41c.39.39.9.59 1.41.59.51 0 1.02-.2 1.41-.59l7.78-7.78 2.81-2.81c.8-.78.8-2.07 0-2.86zM5.41 20L4 18.59l7.72-7.72 1.47 1.35L5.41 20z\"/>\n",
              "  </svg>\n",
              "      </button>\n",
              "      \n",
              "  <style>\n",
              "    .colab-df-container {\n",
              "      display:flex;\n",
              "      flex-wrap:wrap;\n",
              "      gap: 12px;\n",
              "    }\n",
              "\n",
              "    .colab-df-convert {\n",
              "      background-color: #E8F0FE;\n",
              "      border: none;\n",
              "      border-radius: 50%;\n",
              "      cursor: pointer;\n",
              "      display: none;\n",
              "      fill: #1967D2;\n",
              "      height: 32px;\n",
              "      padding: 0 0 0 0;\n",
              "      width: 32px;\n",
              "    }\n",
              "\n",
              "    .colab-df-convert:hover {\n",
              "      background-color: #E2EBFA;\n",
              "      box-shadow: 0px 1px 2px rgba(60, 64, 67, 0.3), 0px 1px 3px 1px rgba(60, 64, 67, 0.15);\n",
              "      fill: #174EA6;\n",
              "    }\n",
              "\n",
              "    [theme=dark] .colab-df-convert {\n",
              "      background-color: #3B4455;\n",
              "      fill: #D2E3FC;\n",
              "    }\n",
              "\n",
              "    [theme=dark] .colab-df-convert:hover {\n",
              "      background-color: #434B5C;\n",
              "      box-shadow: 0px 1px 3px 1px rgba(0, 0, 0, 0.15);\n",
              "      filter: drop-shadow(0px 1px 2px rgba(0, 0, 0, 0.3));\n",
              "      fill: #FFFFFF;\n",
              "    }\n",
              "  </style>\n",
              "\n",
              "      <script>\n",
              "        const buttonEl =\n",
              "          document.querySelector('#df-94ce38c6-51d7-4138-9332-a7ff543a910c button.colab-df-convert');\n",
              "        buttonEl.style.display =\n",
              "          google.colab.kernel.accessAllowed ? 'block' : 'none';\n",
              "\n",
              "        async function convertToInteractive(key) {\n",
              "          const element = document.querySelector('#df-94ce38c6-51d7-4138-9332-a7ff543a910c');\n",
              "          const dataTable =\n",
              "            await google.colab.kernel.invokeFunction('convertToInteractive',\n",
              "                                                     [key], {});\n",
              "          if (!dataTable) return;\n",
              "\n",
              "          const docLinkHtml = 'Like what you see? Visit the ' +\n",
              "            '<a target=\"_blank\" href=https://colab.research.google.com/notebooks/data_table.ipynb>data table notebook</a>'\n",
              "            + ' to learn more about interactive tables.';\n",
              "          element.innerHTML = '';\n",
              "          dataTable['output_type'] = 'display_data';\n",
              "          await google.colab.output.renderOutput(dataTable, element);\n",
              "          const docLink = document.createElement('div');\n",
              "          docLink.innerHTML = docLinkHtml;\n",
              "          element.appendChild(docLink);\n",
              "        }\n",
              "      </script>\n",
              "    </div>\n",
              "  </div>\n",
              "  "
            ]
          },
          "metadata": {},
          "execution_count": 88
        }
      ]
    },
    {
      "cell_type": "markdown",
      "source": [
        "- Podemos analisar alguns dos poemas de cada tópico com o código abaixo.\n"
      ],
      "metadata": {
        "id": "zOpOenBKne_R"
      }
    },
    {
      "cell_type": "code",
      "source": [
        "topico = 7\n",
        "pd.options.display.max_colwidth = 300\n",
        "df[df['main_topic'] == topico].sort_values('main_topic_prob', ascending = False)[['main_topic_prob','Author', 'Content']].head(20).sample(10)"
      ],
      "metadata": {
        "colab": {
          "base_uri": "https://localhost:8080/",
          "height": 528
        },
        "id": "7_T7dQq3mdhU",
        "outputId": "51aa298f-f7d0-4db2-919c-eb2dc47f39f5"
      },
      "execution_count": null,
      "outputs": [
        {
          "output_type": "execute_result",
          "data": {
            "text/plain": [
              "       main_topic_prob                  Author  \\\n",
              "14579         0.747186        Florbela Espanca   \n",
              "76            0.761863          Bertolt Brecht   \n",
              "15129         0.909989         Fernando Pessoa   \n",
              "6430          0.709250          António Arnaut   \n",
              "11417         0.819945    Marcos A. P. Ribeiro   \n",
              "4483          0.781968       Reinaldo Ferreira   \n",
              "2881          0.887481       Stéphane Mallarmé   \n",
              "7616          0.751554  Mário Donizete Massari   \n",
              "11755         0.871395           Roberto Saito   \n",
              "212           0.724221          Gonçalves Dias   \n",
              "\n",
              "                                                                                                                                                                                                                                                                                                           Content  \n",
              "14579                                                                                                                                                                                              Há no fado das vielas\\r\\nNotas tão sentimentais,\\r\\nTão delicadas, tão belas,\\r\\nQue não s’esquecem jamais!\\n\\n  \n",
              "76     Quem construiu Tebas, a das sete portas?\\r\\nNos livros vem o nome dos reis,\\r\\nMas foram os reis que transportaram as pedras?\\r\\nBabilónia, tantas vezes destruida,\\r\\nQuem outras tantas a reconstruiu? Em que casas\\r\\nDa Lima Dourada moravam seus obreiros?\\r\\nNo dia em que ficou pronta a Muralha ...  \n",
              "15129                                                                                                                                                         Roçou-me\\r\\nO [...] pelo rosto o manto seu\\r\\nE o seu manto é de Mal e Escuridão.\\r\\nCoroou-me rei e a coroa que me deu\\r\\nÉ um sinal de servidão.\\n  \n",
              "6430   Da tribuna envergonhada\\r\\npor tanta demagogia\\r\\no orador prometia,\\r\\nduma assentada,\\r\\na terra e o céu.\\n\\r\\nO povoléu,\\r\\nincr´´dulo, sorvia\\r\\na fome de tanta fartura.\\n\\r\\nPorém, a certa altura\\r\\no orador entupiu\\r\\ne caíu-lhe a dentadura.\\n\\r\\nQuando a assistência saíu,\\r\\npisou-lhe a f...  \n",
              "11417                                                                                                                                                                                                                                   Robert Lowell morto num táxi em Manhattan.\\n\\r\\nO sol parece infantil.\\n\\n  \n",
              "4483   Oh! vós, que dominais vossos instintos\\r\\nComo se fossem cavalos!\\r\\nOh! vós, que os amestrais, para exibi-los\\r\\nComo se fossem ursos!\\r\\nOh! vós, que, infatigáveis domadores de impulsos,\\r\\nExibindo-os, colheis aplausos, contratos e elogios!\\r\\nGlória a vós! Glória a vós, represadores\\r\\nDo ca...  \n",
              "2881                                                                                                                                                                                   O olho vivo com que vês\\r\\n    Até o seu conteúdo\\r\\n    Me aparta de minhas vestes\\r\\n    E como um deus vou desnudo\\n\\n\\n  \n",
              "7616                                                                                                         A TARDE É BELA\\r\\nA VIDA É BELA\\r\\nARABELA É BELA\\n\\r\\nUm velho leva a vela\\r\\nArabela é ainda mais bela\\r\\ncom o rosto iluminado\\r\\npela vela\\n\\r\\nUm velho leva a vela\\r\\nno enterro de Arabela\\n\\n  \n",
              "11755                                                                                                                                                                     Depois da geada\\r\\nnas faces do espantalho\\r\\nlágrimas geladas.\\n\\r\\nCálidos casacos\\r\\ntodos rodeando um morto —\\r\\npálido, gelado.\\n\\n  \n",
              "212    I\\n\\r\\nAqui na floresta\\r\\nDos ventos batida,\\r\\nFaçanhas de bravos\\r\\nNão geram escravos,\\r\\nQue estimem a vida\\r\\nSem guerra e lidar.\\r\\n— Ouvi-me, Guerreiros,\\r\\n— Ouvi meu cantar.\\n\\r\\nII\\n\\r\\nValente na guerra,\\r\\nQuem há, como eu sou?\\r\\nQuem vibra o tacape\\r\\nCom mais valentia?\\r\\nQuem go...  "
            ],
            "text/html": [
              "\n",
              "  <div id=\"df-ce1603db-72c7-46d4-8f8b-ddf0fe3f54c8\">\n",
              "    <div class=\"colab-df-container\">\n",
              "      <div>\n",
              "<style scoped>\n",
              "    .dataframe tbody tr th:only-of-type {\n",
              "        vertical-align: middle;\n",
              "    }\n",
              "\n",
              "    .dataframe tbody tr th {\n",
              "        vertical-align: top;\n",
              "    }\n",
              "\n",
              "    .dataframe thead th {\n",
              "        text-align: right;\n",
              "    }\n",
              "</style>\n",
              "<table border=\"1\" class=\"dataframe\">\n",
              "  <thead>\n",
              "    <tr style=\"text-align: right;\">\n",
              "      <th></th>\n",
              "      <th>main_topic_prob</th>\n",
              "      <th>Author</th>\n",
              "      <th>Content</th>\n",
              "    </tr>\n",
              "  </thead>\n",
              "  <tbody>\n",
              "    <tr>\n",
              "      <th>14579</th>\n",
              "      <td>0.747186</td>\n",
              "      <td>Florbela Espanca</td>\n",
              "      <td>Há no fado das vielas\\r\\nNotas tão sentimentais,\\r\\nTão delicadas, tão belas,\\r\\nQue não s’esquecem jamais!\\n\\n</td>\n",
              "    </tr>\n",
              "    <tr>\n",
              "      <th>76</th>\n",
              "      <td>0.761863</td>\n",
              "      <td>Bertolt Brecht</td>\n",
              "      <td>Quem construiu Tebas, a das sete portas?\\r\\nNos livros vem o nome dos reis,\\r\\nMas foram os reis que transportaram as pedras?\\r\\nBabilónia, tantas vezes destruida,\\r\\nQuem outras tantas a reconstruiu? Em que casas\\r\\nDa Lima Dourada moravam seus obreiros?\\r\\nNo dia em que ficou pronta a Muralha ...</td>\n",
              "    </tr>\n",
              "    <tr>\n",
              "      <th>15129</th>\n",
              "      <td>0.909989</td>\n",
              "      <td>Fernando Pessoa</td>\n",
              "      <td>Roçou-me\\r\\nO [...] pelo rosto o manto seu\\r\\nE o seu manto é de Mal e Escuridão.\\r\\nCoroou-me rei e a coroa que me deu\\r\\nÉ um sinal de servidão.\\n</td>\n",
              "    </tr>\n",
              "    <tr>\n",
              "      <th>6430</th>\n",
              "      <td>0.709250</td>\n",
              "      <td>António Arnaut</td>\n",
              "      <td>Da tribuna envergonhada\\r\\npor tanta demagogia\\r\\no orador prometia,\\r\\nduma assentada,\\r\\na terra e o céu.\\n\\r\\nO povoléu,\\r\\nincr´´dulo, sorvia\\r\\na fome de tanta fartura.\\n\\r\\nPorém, a certa altura\\r\\no orador entupiu\\r\\ne caíu-lhe a dentadura.\\n\\r\\nQuando a assistência saíu,\\r\\npisou-lhe a f...</td>\n",
              "    </tr>\n",
              "    <tr>\n",
              "      <th>11417</th>\n",
              "      <td>0.819945</td>\n",
              "      <td>Marcos A. P. Ribeiro</td>\n",
              "      <td>Robert Lowell morto num táxi em Manhattan.\\n\\r\\nO sol parece infantil.\\n\\n</td>\n",
              "    </tr>\n",
              "    <tr>\n",
              "      <th>4483</th>\n",
              "      <td>0.781968</td>\n",
              "      <td>Reinaldo Ferreira</td>\n",
              "      <td>Oh! vós, que dominais vossos instintos\\r\\nComo se fossem cavalos!\\r\\nOh! vós, que os amestrais, para exibi-los\\r\\nComo se fossem ursos!\\r\\nOh! vós, que, infatigáveis domadores de impulsos,\\r\\nExibindo-os, colheis aplausos, contratos e elogios!\\r\\nGlória a vós! Glória a vós, represadores\\r\\nDo ca...</td>\n",
              "    </tr>\n",
              "    <tr>\n",
              "      <th>2881</th>\n",
              "      <td>0.887481</td>\n",
              "      <td>Stéphane Mallarmé</td>\n",
              "      <td>O olho vivo com que vês\\r\\n    Até o seu conteúdo\\r\\n    Me aparta de minhas vestes\\r\\n    E como um deus vou desnudo\\n\\n\\n</td>\n",
              "    </tr>\n",
              "    <tr>\n",
              "      <th>7616</th>\n",
              "      <td>0.751554</td>\n",
              "      <td>Mário Donizete Massari</td>\n",
              "      <td>A TARDE É BELA\\r\\nA VIDA É BELA\\r\\nARABELA É BELA\\n\\r\\nUm velho leva a vela\\r\\nArabela é ainda mais bela\\r\\ncom o rosto iluminado\\r\\npela vela\\n\\r\\nUm velho leva a vela\\r\\nno enterro de Arabela\\n\\n</td>\n",
              "    </tr>\n",
              "    <tr>\n",
              "      <th>11755</th>\n",
              "      <td>0.871395</td>\n",
              "      <td>Roberto Saito</td>\n",
              "      <td>Depois da geada\\r\\nnas faces do espantalho\\r\\nlágrimas geladas.\\n\\r\\nCálidos casacos\\r\\ntodos rodeando um morto —\\r\\npálido, gelado.\\n\\n</td>\n",
              "    </tr>\n",
              "    <tr>\n",
              "      <th>212</th>\n",
              "      <td>0.724221</td>\n",
              "      <td>Gonçalves Dias</td>\n",
              "      <td>I\\n\\r\\nAqui na floresta\\r\\nDos ventos batida,\\r\\nFaçanhas de bravos\\r\\nNão geram escravos,\\r\\nQue estimem a vida\\r\\nSem guerra e lidar.\\r\\n— Ouvi-me, Guerreiros,\\r\\n— Ouvi meu cantar.\\n\\r\\nII\\n\\r\\nValente na guerra,\\r\\nQuem há, como eu sou?\\r\\nQuem vibra o tacape\\r\\nCom mais valentia?\\r\\nQuem go...</td>\n",
              "    </tr>\n",
              "  </tbody>\n",
              "</table>\n",
              "</div>\n",
              "      <button class=\"colab-df-convert\" onclick=\"convertToInteractive('df-ce1603db-72c7-46d4-8f8b-ddf0fe3f54c8')\"\n",
              "              title=\"Convert this dataframe to an interactive table.\"\n",
              "              style=\"display:none;\">\n",
              "        \n",
              "  <svg xmlns=\"http://www.w3.org/2000/svg\" height=\"24px\"viewBox=\"0 0 24 24\"\n",
              "       width=\"24px\">\n",
              "    <path d=\"M0 0h24v24H0V0z\" fill=\"none\"/>\n",
              "    <path d=\"M18.56 5.44l.94 2.06.94-2.06 2.06-.94-2.06-.94-.94-2.06-.94 2.06-2.06.94zm-11 1L8.5 8.5l.94-2.06 2.06-.94-2.06-.94L8.5 2.5l-.94 2.06-2.06.94zm10 10l.94 2.06.94-2.06 2.06-.94-2.06-.94-.94-2.06-.94 2.06-2.06.94z\"/><path d=\"M17.41 7.96l-1.37-1.37c-.4-.4-.92-.59-1.43-.59-.52 0-1.04.2-1.43.59L10.3 9.45l-7.72 7.72c-.78.78-.78 2.05 0 2.83L4 21.41c.39.39.9.59 1.41.59.51 0 1.02-.2 1.41-.59l7.78-7.78 2.81-2.81c.8-.78.8-2.07 0-2.86zM5.41 20L4 18.59l7.72-7.72 1.47 1.35L5.41 20z\"/>\n",
              "  </svg>\n",
              "      </button>\n",
              "      \n",
              "  <style>\n",
              "    .colab-df-container {\n",
              "      display:flex;\n",
              "      flex-wrap:wrap;\n",
              "      gap: 12px;\n",
              "    }\n",
              "\n",
              "    .colab-df-convert {\n",
              "      background-color: #E8F0FE;\n",
              "      border: none;\n",
              "      border-radius: 50%;\n",
              "      cursor: pointer;\n",
              "      display: none;\n",
              "      fill: #1967D2;\n",
              "      height: 32px;\n",
              "      padding: 0 0 0 0;\n",
              "      width: 32px;\n",
              "    }\n",
              "\n",
              "    .colab-df-convert:hover {\n",
              "      background-color: #E2EBFA;\n",
              "      box-shadow: 0px 1px 2px rgba(60, 64, 67, 0.3), 0px 1px 3px 1px rgba(60, 64, 67, 0.15);\n",
              "      fill: #174EA6;\n",
              "    }\n",
              "\n",
              "    [theme=dark] .colab-df-convert {\n",
              "      background-color: #3B4455;\n",
              "      fill: #D2E3FC;\n",
              "    }\n",
              "\n",
              "    [theme=dark] .colab-df-convert:hover {\n",
              "      background-color: #434B5C;\n",
              "      box-shadow: 0px 1px 3px 1px rgba(0, 0, 0, 0.15);\n",
              "      filter: drop-shadow(0px 1px 2px rgba(0, 0, 0, 0.3));\n",
              "      fill: #FFFFFF;\n",
              "    }\n",
              "  </style>\n",
              "\n",
              "      <script>\n",
              "        const buttonEl =\n",
              "          document.querySelector('#df-ce1603db-72c7-46d4-8f8b-ddf0fe3f54c8 button.colab-df-convert');\n",
              "        buttonEl.style.display =\n",
              "          google.colab.kernel.accessAllowed ? 'block' : 'none';\n",
              "\n",
              "        async function convertToInteractive(key) {\n",
              "          const element = document.querySelector('#df-ce1603db-72c7-46d4-8f8b-ddf0fe3f54c8');\n",
              "          const dataTable =\n",
              "            await google.colab.kernel.invokeFunction('convertToInteractive',\n",
              "                                                     [key], {});\n",
              "          if (!dataTable) return;\n",
              "\n",
              "          const docLinkHtml = 'Like what you see? Visit the ' +\n",
              "            '<a target=\"_blank\" href=https://colab.research.google.com/notebooks/data_table.ipynb>data table notebook</a>'\n",
              "            + ' to learn more about interactive tables.';\n",
              "          element.innerHTML = '';\n",
              "          dataTable['output_type'] = 'display_data';\n",
              "          await google.colab.output.renderOutput(dataTable, element);\n",
              "          const docLink = document.createElement('div');\n",
              "          docLink.innerHTML = docLinkHtml;\n",
              "          element.appendChild(docLink);\n",
              "        }\n",
              "      </script>\n",
              "    </div>\n",
              "  </div>\n",
              "  "
            ]
          },
          "metadata": {},
          "execution_count": 89
        }
      ]
    },
    {
      "cell_type": "markdown",
      "source": [
        "- Abaixo podemos acessar poemas de algum Autor específico e todas as suas associações com cada tópico"
      ],
      "metadata": {
        "id": "07RO881koOv6"
      }
    },
    {
      "cell_type": "code",
      "source": [
        "# column names\n",
        "topicnames = [\"Topic {}\".format(i + 1) for i in range(doc_topic_matrix.shape[1])]\n",
        "\n",
        "poema_topico = pd.DataFrame(np.round(doc_topic_matrix, 2), columns=topicnames, index = df.index)\n",
        "poema_topico[['Author', 'Title']] = df[['Author','Title']]\n",
        "\n",
        "ordem = ['Author', 'Title']\n",
        "ordem.extend(topicnames)\n",
        "poema_topico = poema_topico[ordem]\n",
        "\n",
        "poema_topico.query('Author == \"Carlos Drummond de Andrade\"').sort_values(by = 'Topic 7', ascending = False).head(10)"
      ],
      "metadata": {
        "colab": {
          "base_uri": "https://localhost:8080/",
          "height": 363
        },
        "id": "UxjK0ywamljL",
        "outputId": "5b062118-3907-4707-a067-e3d3673c3fc9"
      },
      "execution_count": null,
      "outputs": [
        {
          "output_type": "execute_result",
          "data": {
            "text/plain": [
              "                          Author                       Title  Topic 1  \\\n",
              "956   Carlos Drummond de Andrade                   Indagação     0.00   \n",
              "1069  Carlos Drummond de Andrade      O que se passa na cama     0.00   \n",
              "410   Carlos Drummond de Andrade                 Para Sempre     0.00   \n",
              "301   Carlos Drummond de Andrade                     Segredo     0.00   \n",
              "552   Carlos Drummond de Andrade  À Noite Dissolve os Homens     0.00   \n",
              "737   Carlos Drummond de Andrade              Acordar, Viver     0.00   \n",
              "758   Carlos Drummond de Andrade                  Não Passou     0.00   \n",
              "1155  Carlos Drummond de Andrade    Confidência do Itabirano     0.00   \n",
              "581   Carlos Drummond de Andrade             POEMA DO JORNAL     0.01   \n",
              "843   Carlos Drummond de Andrade                      O Arco     0.00   \n",
              "\n",
              "      Topic 2  Topic 3  Topic 4  Topic 5  Topic 6  Topic 7  Topic 8  Topic 9  \\\n",
              "956      0.21     0.00     0.00     0.00     0.12     0.30     0.00     0.36   \n",
              "1069     0.37     0.21     0.00     0.00     0.00     0.29     0.00     0.11   \n",
              "410      0.29     0.00     0.23     0.00     0.00     0.28     0.00     0.00   \n",
              "301      0.19     0.25     0.17     0.00     0.13     0.25     0.00     0.00   \n",
              "552      0.15     0.06     0.17     0.21     0.10     0.24     0.00     0.00   \n",
              "737      0.31     0.24     0.00     0.00     0.00     0.20     0.03     0.00   \n",
              "758      0.61     0.00     0.00     0.00     0.00     0.20     0.00     0.08   \n",
              "1155     0.09     0.00     0.19     0.05     0.38     0.19     0.00     0.06   \n",
              "581      0.19     0.01     0.01     0.01     0.35     0.17     0.01     0.26   \n",
              "843      0.52     0.00     0.00     0.13     0.00     0.16     0.00     0.00   \n",
              "\n",
              "      Topic 10  \n",
              "956       0.00  \n",
              "1069      0.00  \n",
              "410       0.20  \n",
              "301       0.00  \n",
              "552       0.08  \n",
              "737       0.20  \n",
              "758       0.10  \n",
              "1155      0.04  \n",
              "581       0.01  \n",
              "843       0.17  "
            ],
            "text/html": [
              "\n",
              "  <div id=\"df-139d3a82-1a9b-44a1-8392-fe339dbafcb6\">\n",
              "    <div class=\"colab-df-container\">\n",
              "      <div>\n",
              "<style scoped>\n",
              "    .dataframe tbody tr th:only-of-type {\n",
              "        vertical-align: middle;\n",
              "    }\n",
              "\n",
              "    .dataframe tbody tr th {\n",
              "        vertical-align: top;\n",
              "    }\n",
              "\n",
              "    .dataframe thead th {\n",
              "        text-align: right;\n",
              "    }\n",
              "</style>\n",
              "<table border=\"1\" class=\"dataframe\">\n",
              "  <thead>\n",
              "    <tr style=\"text-align: right;\">\n",
              "      <th></th>\n",
              "      <th>Author</th>\n",
              "      <th>Title</th>\n",
              "      <th>Topic 1</th>\n",
              "      <th>Topic 2</th>\n",
              "      <th>Topic 3</th>\n",
              "      <th>Topic 4</th>\n",
              "      <th>Topic 5</th>\n",
              "      <th>Topic 6</th>\n",
              "      <th>Topic 7</th>\n",
              "      <th>Topic 8</th>\n",
              "      <th>Topic 9</th>\n",
              "      <th>Topic 10</th>\n",
              "    </tr>\n",
              "  </thead>\n",
              "  <tbody>\n",
              "    <tr>\n",
              "      <th>956</th>\n",
              "      <td>Carlos Drummond de Andrade</td>\n",
              "      <td>Indagação</td>\n",
              "      <td>0.00</td>\n",
              "      <td>0.21</td>\n",
              "      <td>0.00</td>\n",
              "      <td>0.00</td>\n",
              "      <td>0.00</td>\n",
              "      <td>0.12</td>\n",
              "      <td>0.30</td>\n",
              "      <td>0.00</td>\n",
              "      <td>0.36</td>\n",
              "      <td>0.00</td>\n",
              "    </tr>\n",
              "    <tr>\n",
              "      <th>1069</th>\n",
              "      <td>Carlos Drummond de Andrade</td>\n",
              "      <td>O que se passa na cama</td>\n",
              "      <td>0.00</td>\n",
              "      <td>0.37</td>\n",
              "      <td>0.21</td>\n",
              "      <td>0.00</td>\n",
              "      <td>0.00</td>\n",
              "      <td>0.00</td>\n",
              "      <td>0.29</td>\n",
              "      <td>0.00</td>\n",
              "      <td>0.11</td>\n",
              "      <td>0.00</td>\n",
              "    </tr>\n",
              "    <tr>\n",
              "      <th>410</th>\n",
              "      <td>Carlos Drummond de Andrade</td>\n",
              "      <td>Para Sempre</td>\n",
              "      <td>0.00</td>\n",
              "      <td>0.29</td>\n",
              "      <td>0.00</td>\n",
              "      <td>0.23</td>\n",
              "      <td>0.00</td>\n",
              "      <td>0.00</td>\n",
              "      <td>0.28</td>\n",
              "      <td>0.00</td>\n",
              "      <td>0.00</td>\n",
              "      <td>0.20</td>\n",
              "    </tr>\n",
              "    <tr>\n",
              "      <th>301</th>\n",
              "      <td>Carlos Drummond de Andrade</td>\n",
              "      <td>Segredo</td>\n",
              "      <td>0.00</td>\n",
              "      <td>0.19</td>\n",
              "      <td>0.25</td>\n",
              "      <td>0.17</td>\n",
              "      <td>0.00</td>\n",
              "      <td>0.13</td>\n",
              "      <td>0.25</td>\n",
              "      <td>0.00</td>\n",
              "      <td>0.00</td>\n",
              "      <td>0.00</td>\n",
              "    </tr>\n",
              "    <tr>\n",
              "      <th>552</th>\n",
              "      <td>Carlos Drummond de Andrade</td>\n",
              "      <td>À Noite Dissolve os Homens</td>\n",
              "      <td>0.00</td>\n",
              "      <td>0.15</td>\n",
              "      <td>0.06</td>\n",
              "      <td>0.17</td>\n",
              "      <td>0.21</td>\n",
              "      <td>0.10</td>\n",
              "      <td>0.24</td>\n",
              "      <td>0.00</td>\n",
              "      <td>0.00</td>\n",
              "      <td>0.08</td>\n",
              "    </tr>\n",
              "    <tr>\n",
              "      <th>737</th>\n",
              "      <td>Carlos Drummond de Andrade</td>\n",
              "      <td>Acordar, Viver</td>\n",
              "      <td>0.00</td>\n",
              "      <td>0.31</td>\n",
              "      <td>0.24</td>\n",
              "      <td>0.00</td>\n",
              "      <td>0.00</td>\n",
              "      <td>0.00</td>\n",
              "      <td>0.20</td>\n",
              "      <td>0.03</td>\n",
              "      <td>0.00</td>\n",
              "      <td>0.20</td>\n",
              "    </tr>\n",
              "    <tr>\n",
              "      <th>758</th>\n",
              "      <td>Carlos Drummond de Andrade</td>\n",
              "      <td>Não Passou</td>\n",
              "      <td>0.00</td>\n",
              "      <td>0.61</td>\n",
              "      <td>0.00</td>\n",
              "      <td>0.00</td>\n",
              "      <td>0.00</td>\n",
              "      <td>0.00</td>\n",
              "      <td>0.20</td>\n",
              "      <td>0.00</td>\n",
              "      <td>0.08</td>\n",
              "      <td>0.10</td>\n",
              "    </tr>\n",
              "    <tr>\n",
              "      <th>1155</th>\n",
              "      <td>Carlos Drummond de Andrade</td>\n",
              "      <td>Confidência do Itabirano</td>\n",
              "      <td>0.00</td>\n",
              "      <td>0.09</td>\n",
              "      <td>0.00</td>\n",
              "      <td>0.19</td>\n",
              "      <td>0.05</td>\n",
              "      <td>0.38</td>\n",
              "      <td>0.19</td>\n",
              "      <td>0.00</td>\n",
              "      <td>0.06</td>\n",
              "      <td>0.04</td>\n",
              "    </tr>\n",
              "    <tr>\n",
              "      <th>581</th>\n",
              "      <td>Carlos Drummond de Andrade</td>\n",
              "      <td>POEMA DO JORNAL</td>\n",
              "      <td>0.01</td>\n",
              "      <td>0.19</td>\n",
              "      <td>0.01</td>\n",
              "      <td>0.01</td>\n",
              "      <td>0.01</td>\n",
              "      <td>0.35</td>\n",
              "      <td>0.17</td>\n",
              "      <td>0.01</td>\n",
              "      <td>0.26</td>\n",
              "      <td>0.01</td>\n",
              "    </tr>\n",
              "    <tr>\n",
              "      <th>843</th>\n",
              "      <td>Carlos Drummond de Andrade</td>\n",
              "      <td>O Arco</td>\n",
              "      <td>0.00</td>\n",
              "      <td>0.52</td>\n",
              "      <td>0.00</td>\n",
              "      <td>0.00</td>\n",
              "      <td>0.13</td>\n",
              "      <td>0.00</td>\n",
              "      <td>0.16</td>\n",
              "      <td>0.00</td>\n",
              "      <td>0.00</td>\n",
              "      <td>0.17</td>\n",
              "    </tr>\n",
              "  </tbody>\n",
              "</table>\n",
              "</div>\n",
              "      <button class=\"colab-df-convert\" onclick=\"convertToInteractive('df-139d3a82-1a9b-44a1-8392-fe339dbafcb6')\"\n",
              "              title=\"Convert this dataframe to an interactive table.\"\n",
              "              style=\"display:none;\">\n",
              "        \n",
              "  <svg xmlns=\"http://www.w3.org/2000/svg\" height=\"24px\"viewBox=\"0 0 24 24\"\n",
              "       width=\"24px\">\n",
              "    <path d=\"M0 0h24v24H0V0z\" fill=\"none\"/>\n",
              "    <path d=\"M18.56 5.44l.94 2.06.94-2.06 2.06-.94-2.06-.94-.94-2.06-.94 2.06-2.06.94zm-11 1L8.5 8.5l.94-2.06 2.06-.94-2.06-.94L8.5 2.5l-.94 2.06-2.06.94zm10 10l.94 2.06.94-2.06 2.06-.94-2.06-.94-.94-2.06-.94 2.06-2.06.94z\"/><path d=\"M17.41 7.96l-1.37-1.37c-.4-.4-.92-.59-1.43-.59-.52 0-1.04.2-1.43.59L10.3 9.45l-7.72 7.72c-.78.78-.78 2.05 0 2.83L4 21.41c.39.39.9.59 1.41.59.51 0 1.02-.2 1.41-.59l7.78-7.78 2.81-2.81c.8-.78.8-2.07 0-2.86zM5.41 20L4 18.59l7.72-7.72 1.47 1.35L5.41 20z\"/>\n",
              "  </svg>\n",
              "      </button>\n",
              "      \n",
              "  <style>\n",
              "    .colab-df-container {\n",
              "      display:flex;\n",
              "      flex-wrap:wrap;\n",
              "      gap: 12px;\n",
              "    }\n",
              "\n",
              "    .colab-df-convert {\n",
              "      background-color: #E8F0FE;\n",
              "      border: none;\n",
              "      border-radius: 50%;\n",
              "      cursor: pointer;\n",
              "      display: none;\n",
              "      fill: #1967D2;\n",
              "      height: 32px;\n",
              "      padding: 0 0 0 0;\n",
              "      width: 32px;\n",
              "    }\n",
              "\n",
              "    .colab-df-convert:hover {\n",
              "      background-color: #E2EBFA;\n",
              "      box-shadow: 0px 1px 2px rgba(60, 64, 67, 0.3), 0px 1px 3px 1px rgba(60, 64, 67, 0.15);\n",
              "      fill: #174EA6;\n",
              "    }\n",
              "\n",
              "    [theme=dark] .colab-df-convert {\n",
              "      background-color: #3B4455;\n",
              "      fill: #D2E3FC;\n",
              "    }\n",
              "\n",
              "    [theme=dark] .colab-df-convert:hover {\n",
              "      background-color: #434B5C;\n",
              "      box-shadow: 0px 1px 3px 1px rgba(0, 0, 0, 0.15);\n",
              "      filter: drop-shadow(0px 1px 2px rgba(0, 0, 0, 0.3));\n",
              "      fill: #FFFFFF;\n",
              "    }\n",
              "  </style>\n",
              "\n",
              "      <script>\n",
              "        const buttonEl =\n",
              "          document.querySelector('#df-139d3a82-1a9b-44a1-8392-fe339dbafcb6 button.colab-df-convert');\n",
              "        buttonEl.style.display =\n",
              "          google.colab.kernel.accessAllowed ? 'block' : 'none';\n",
              "\n",
              "        async function convertToInteractive(key) {\n",
              "          const element = document.querySelector('#df-139d3a82-1a9b-44a1-8392-fe339dbafcb6');\n",
              "          const dataTable =\n",
              "            await google.colab.kernel.invokeFunction('convertToInteractive',\n",
              "                                                     [key], {});\n",
              "          if (!dataTable) return;\n",
              "\n",
              "          const docLinkHtml = 'Like what you see? Visit the ' +\n",
              "            '<a target=\"_blank\" href=https://colab.research.google.com/notebooks/data_table.ipynb>data table notebook</a>'\n",
              "            + ' to learn more about interactive tables.';\n",
              "          element.innerHTML = '';\n",
              "          dataTable['output_type'] = 'display_data';\n",
              "          await google.colab.output.renderOutput(dataTable, element);\n",
              "          const docLink = document.createElement('div');\n",
              "          docLink.innerHTML = docLinkHtml;\n",
              "          element.appendChild(docLink);\n",
              "        }\n",
              "      </script>\n",
              "    </div>\n",
              "  </div>\n",
              "  "
            ]
          },
          "metadata": {},
          "execution_count": 90
        }
      ]
    },
    {
      "cell_type": "markdown",
      "source": [
        "# Visualizando cada tópico"
      ],
      "metadata": {
        "id": "c7Nte6mkpa1E"
      }
    },
    {
      "cell_type": "code",
      "source": [
        "!pip install pyLDAvis\n",
        "import pyLDAvis\n",
        "import pyLDAvis.sklearn\n",
        "pyLDAvis.enable_notebook()"
      ],
      "metadata": {
        "colab": {
          "base_uri": "https://localhost:8080/"
        },
        "id": "mKxLJRHuorvK",
        "outputId": "a96e3667-e239-4bfe-cf7e-e44852ba12c1"
      },
      "execution_count": null,
      "outputs": [
        {
          "output_type": "stream",
          "name": "stdout",
          "text": [
            "Looking in indexes: https://pypi.org/simple, https://us-python.pkg.dev/colab-wheels/public/simple/\n",
            "Requirement already satisfied: pyLDAvis in /usr/local/lib/python3.7/dist-packages (3.3.1)\n",
            "Requirement already satisfied: joblib in /usr/local/lib/python3.7/dist-packages (from pyLDAvis) (1.2.0)\n",
            "Requirement already satisfied: sklearn in /usr/local/lib/python3.7/dist-packages (from pyLDAvis) (0.0)\n",
            "Requirement already satisfied: funcy in /usr/local/lib/python3.7/dist-packages (from pyLDAvis) (1.17)\n",
            "Requirement already satisfied: setuptools in /usr/local/lib/python3.7/dist-packages (from pyLDAvis) (57.4.0)\n",
            "Requirement already satisfied: scikit-learn in /usr/local/lib/python3.7/dist-packages (from pyLDAvis) (1.0.2)\n",
            "Requirement already satisfied: gensim in /usr/local/lib/python3.7/dist-packages (from pyLDAvis) (3.6.0)\n",
            "Requirement already satisfied: pandas>=1.2.0 in /usr/local/lib/python3.7/dist-packages (from pyLDAvis) (1.3.5)\n",
            "Requirement already satisfied: jinja2 in /usr/local/lib/python3.7/dist-packages (from pyLDAvis) (2.11.3)\n",
            "Requirement already satisfied: numexpr in /usr/local/lib/python3.7/dist-packages (from pyLDAvis) (2.8.4)\n",
            "Requirement already satisfied: future in /usr/local/lib/python3.7/dist-packages (from pyLDAvis) (0.16.0)\n",
            "Requirement already satisfied: numpy>=1.20.0 in /usr/local/lib/python3.7/dist-packages (from pyLDAvis) (1.21.6)\n",
            "Requirement already satisfied: scipy in /usr/local/lib/python3.7/dist-packages (from pyLDAvis) (1.7.3)\n",
            "Requirement already satisfied: python-dateutil>=2.7.3 in /usr/local/lib/python3.7/dist-packages (from pandas>=1.2.0->pyLDAvis) (2.8.2)\n",
            "Requirement already satisfied: pytz>=2017.3 in /usr/local/lib/python3.7/dist-packages (from pandas>=1.2.0->pyLDAvis) (2022.5)\n",
            "Requirement already satisfied: six>=1.5 in /usr/local/lib/python3.7/dist-packages (from python-dateutil>=2.7.3->pandas>=1.2.0->pyLDAvis) (1.15.0)\n",
            "Requirement already satisfied: smart-open>=1.2.1 in /usr/local/lib/python3.7/dist-packages (from gensim->pyLDAvis) (5.2.1)\n",
            "Requirement already satisfied: MarkupSafe>=0.23 in /usr/local/lib/python3.7/dist-packages (from jinja2->pyLDAvis) (2.0.1)\n",
            "Requirement already satisfied: threadpoolctl>=2.0.0 in /usr/local/lib/python3.7/dist-packages (from scikit-learn->pyLDAvis) (3.1.0)\n"
          ]
        }
      ]
    },
    {
      "cell_type": "code",
      "source": [
        "pyLDAvis.sklearn.prepare(lda, vec_text, tf_vectorizer, sort_topics=False, mds = 'tsne')"
      ],
      "metadata": {
        "colab": {
          "base_uri": "https://localhost:8080/",
          "height": 1000
        },
        "id": "5GhDrqANpdTO",
        "outputId": "db68d5dc-5f42-4737-b816-1dd5bee42da4"
      },
      "execution_count": null,
      "outputs": [
        {
          "output_type": "stream",
          "name": "stderr",
          "text": [
            "/usr/local/lib/python3.7/dist-packages/sklearn/utils/deprecation.py:87: FutureWarning: Function get_feature_names is deprecated; get_feature_names is deprecated in 1.0 and will be removed in 1.2. Please use get_feature_names_out instead.\n",
            "  warnings.warn(msg, category=FutureWarning)\n",
            "/usr/local/lib/python3.7/dist-packages/pyLDAvis/_prepare.py:247: FutureWarning: In a future version of pandas all arguments of DataFrame.drop except for the argument 'labels' will be keyword-only\n",
            "  by='saliency', ascending=False).head(R).drop('saliency', 1)\n",
            "/usr/local/lib/python3.7/dist-packages/sklearn/manifold/_t_sne.py:783: FutureWarning: The default initialization in TSNE will change from 'random' to 'pca' in 1.2.\n",
            "  FutureWarning,\n",
            "/usr/local/lib/python3.7/dist-packages/sklearn/manifold/_t_sne.py:793: FutureWarning: The default learning rate in TSNE will change from 200.0 to 'auto' in 1.2.\n",
            "  FutureWarning,\n",
            "/usr/local/lib/python3.7/dist-packages/sklearn/manifold/_t_sne.py:827: FutureWarning: 'square_distances' has been introduced in 0.24 to help phase out legacy squaring behavior. The 'legacy' setting will be removed in 1.1 (renaming of 0.26), and the default setting will be changed to True. In 1.3, 'square_distances' will be removed altogether, and distances will be squared by default. Set 'square_distances'=True to silence this warning.\n",
            "  FutureWarning,\n"
          ]
        },
        {
          "output_type": "execute_result",
          "data": {
            "text/plain": [
              "PreparedData(topic_coordinates=               x          y  topics  cluster       Freq\n",
              "topic                                                  \n",
              "0      32.420952   8.115230       1        1   7.901508\n",
              "1       0.648955  71.707100       2        1  18.313297\n",
              "2      71.019684   9.971006       3        1   6.400946\n",
              "3       3.785981  33.185135       4        1   9.130662\n",
              "4     -42.666500  -9.222070       5        1  12.878298\n",
              "5      -3.621689 -43.526516       6        1  10.388102\n",
              "6      -3.632402  -4.171708       7        1   9.994701\n",
              "7     -36.584400  35.804413       8        1   5.196940\n",
              "8      44.391380  50.615383       9        1   6.231818\n",
              "9      40.235809 -31.591665      10        1  13.563726, topic_info=        Term         Freq        Total Category  logprob  loglift\n",
              "4723     the  4218.000000  4218.000000  Default  30.0000  30.0000\n",
              "253      and  2772.000000  2772.000000  Default  29.0000  29.0000\n",
              "4310     sei  2168.000000  2168.000000  Default  28.0000  28.0000\n",
              "2817     mar  2973.000000  2973.000000  Default  27.0000  27.0000\n",
              "3670   poema  1819.000000  1819.000000  Default  26.0000  26.0000\n",
              "...      ...          ...          ...      ...      ...      ...\n",
              "3297   olhos   605.287980  3547.316481  Topic10  -5.2102   0.2295\n",
              "5027   vento   481.369588  1761.056794  Topic10  -5.4393   0.7007\n",
              "4901    tudo   501.070315  4191.125535  Topic10  -5.3992  -0.1262\n",
              "1178     céu   457.912649  1995.778415  Topic10  -5.4893   0.5257\n",
              "4332  sempre   439.629252  2915.973593  Topic10  -5.5300   0.1057\n",
              "\n",
              "[683 rows x 6 columns], token_table=      Topic      Freq      Term\n",
              "term                           \n",
              "0         9  0.992457    abaixo\n",
              "5         8  0.052027  abandono\n",
              "5        10  0.943924  abandono\n",
              "13        7  0.993783   abismos\n",
              "20        6  0.008500     abrem\n",
              "...     ...       ...       ...\n",
              "5259     10  0.922611   árvores\n",
              "5267      6  0.985934     época\n",
              "5269      4  0.994902    êxtase\n",
              "5277      3  0.761959      ódio\n",
              "5277      6  0.234790      ódio\n",
              "\n",
              "[1752 rows x 3 columns], R=30, lambda_step=0.01, plot_opts={'xlab': 'PC1', 'ylab': 'PC2'}, topic_order=[1, 2, 3, 4, 5, 6, 7, 8, 9, 10])"
            ],
            "text/html": [
              "\n",
              "<link rel=\"stylesheet\" type=\"text/css\" href=\"https://cdn.jsdelivr.net/gh/bmabey/pyLDAvis@3.3.1/pyLDAvis/js/ldavis.v1.0.0.css\">\n",
              "\n",
              "\n",
              "<div id=\"ldavis_el751396681128154409118670818\"></div>\n",
              "<script type=\"text/javascript\">\n",
              "\n",
              "var ldavis_el751396681128154409118670818_data = {\"mdsDat\": {\"x\": [32.42095184326172, 0.648955225944519, 71.01968383789062, 3.7859814167022705, -42.666500091552734, -3.6216893196105957, -3.632401704788208, -36.58440017700195, 44.391380310058594, 40.235809326171875], \"y\": [8.115229606628418, 71.70709991455078, 9.971006393432617, 33.18513488769531, -9.22206974029541, -43.52651596069336, -4.171707630157471, 35.804412841796875, 50.61538314819336, -31.591665267944336], \"topics\": [1, 2, 3, 4, 5, 6, 7, 8, 9, 10], \"cluster\": [1, 1, 1, 1, 1, 1, 1, 1, 1, 1], \"Freq\": [7.90150845886327, 18.313296687919003, 6.400946220046727, 9.130662116403029, 12.878298087715761, 10.388102137854235, 9.994701362212782, 5.1969401807808575, 6.231818253628636, 13.563726494575704]}, \"tinfo\": {\"Term\": [\"the\", \"and\", \"sei\", \"mar\", \"poema\", \"quero\", \"livro\", \"los\", \"amor\", \"rio\", \"mim\", \"that\", \"deus\", \"paulo\", \"tudo\", \"del\", \"las\", \"noite\", \"terra\", \"publicado\", \"nada\", \"flor\", \"porque\", \"janeiro\", \"alma\", \"publicado livro\", \"rio janeiro\", \"luz\", \"vida\", \"poesia\", \"the\", \"and\", \"that\", \"del\", \"una\", \"with\", \"not\", \"all\", \"con\", \"luis\", \"but\", \"luis borges\", \"debolsillo edi\\u00e7\\u00e3o\", \"debolsillo\", \"from\", \"are\", \"what\", \"borges poesia\", \"this\", \"thy\", \"like\", \"you\", \"completa p\\u00e1g\", \"p\\u00e1g debolsillo\", \"have\", \"was\", \"our\", \"and the\", \"life\", \"andresen\", \"borges\", \"los\", \"las\", \"poesia completa\", \"edi\\u00e7\\u00e3o\", \"completa\", \"p\\u00e1g\", \"poesia\", \"pensar\", \"consci\\u00eancia\", \"pudesse\", \"amei\", \"contar\", \"d\\u00favida\", \"seguir\", \"escrevo\", \"erro\", \"p\\u00e9talas\", \"parar\", \"acabar\", \"limites\", \"querendo\", \"entender\", \"pr\\u00f3ximo\", \"perdidas\", \"ponho\", \"luas\", \"ter sido\", \"devo\", \"vemos\", \"molhado\", \"incerta\", \"chamado\", \"amava\", \"cada instante\", \"inimigo\", \"chuvas\", \"infinitos\", \"sentir\", \"posso\", \"queria\", \"amigo\", \"falta\", \"senti\", \"momento\", \"sido\", \"consigo\", \"ter\", \"saber\", \"escrever\", \"quanto\", \"querer\", \"comigo\", \"viver\", \"penso\", \"dizer\", \"coisa\", \"falar\", \"mim\", \"vontade\", \"vou\", \"encontrar\", \"t\\u00e3o\", \"sinto\", \"ver\", \"tudo\", \"quer\", \"tanto\", \"nunca\", \"talvez\", \"assim\", \"nada\", \"ent\\u00e3o\", \"vida\", \"sempre\", \"amor\", \"pode\", \"cora\\u00e7\\u00e3o\", \"porque\", \"outro\", \"tempo\", \"dia\", \"agora\", \"alma\", \"bem\", \"ainda\", \"mundo\", \"faz\", \"ruy\", \"ruy belo\", \"vol\", \"lda\", \"editorial\", \"po\\u00e9tica ruy\", \"belo vol\", \"presen\\u00e7a lda\", \"belo obra\", \"editorial presen\\u00e7a\", \"toque\", \"invis\\u00edvel\", \"bons\", \"p\\u00e1g editorial\", \"vol p\\u00e1g\", \"espadas\", \"bem sei\", \"criatura\", \"rara\", \"dizes\", \"perfei\\u00e7\\u00e3o\", \"deixem\", \"sei sei\", \"chamam\", \"quieto\", \"intensa\", \"filhas\", \"explicar\", \"farei\", \"possuir\", \"consciente\", \"ideia\", \"quero\", \"pe\\u00e7o\", \"choro\", \"qu\\u00ea\", \"sei\", \"existe\", \"belo\", \"amanh\\u00e3\", \"obra po\\u00e9tica\", \"certeza\", \"prazer\", \"presen\\u00e7a\", \"parte\", \"hoje\", \"\\u00f3dio\", \"deus\", \"amar\", \"amor\", \"nada\", \"tudo\", \"porque\", \"verdade\", \"mim\", \"bem\", \"obra\", \"crian\\u00e7a\", \"vida\", \"todo\", \"mundo\", \"beleza\", \"aqui\", \"assim\", \"toda\", \"sempre\", \"antes\", \"sim\", \"alguma\", \"praia\", \"enorme\", \"oceano\", \"curva\", \"navio\", \"peixe\", \"debaixo\", \"velas\", \"sossego\", \"vindo\", \"pressa\", \"sentado\", \"barcos\", \"plena\", \"pano\", \"resposta\", \"vol\\u00fapia\", \"areias\", \"\\u00eaxtase\", \"tinta\", \"escorre\", \"punhal\", \"absurdo\", \"caras\", \"veludo\", \"loura\", \"bomba\", \"linho\", \"porto alegre\", \"len\\u00e7\\u00f3is\", \"escrita\", \"cais\", \"peixes\", \"quintal\", \"mar\", \"cinco\", \"areia\", \"ondas\", \"\\u00e1guas\", \"chamas\", \"ruas\", \"cidade\", \"chuva\", \"porto\", \"porta\", \"\\u00e1gua\", \"noite\", \"m\\u00e3os\", \"sob\", \"vento\", \"rio\", \"sol\", \"pedras\", \"canta\", \"corpo\", \"dia\", \"vem\", \"horas\", \"frio\", \"onde\", \"sobre\", \"dias\", \"cora\\u00e7\\u00e3o\", \"vai\", \"rua\", \"dentro\", \"olhos\", \"digo\", \"sonhar\", \"sal\", \"inverno\", \"eras\", \"terror\", \"minh\", \"minh alma\", \"fado\", \"mundos\", \"beija\", \"p\\u00f4s\", \"letra\", \"minhalma\", \"guardo\", \"funda\", \"suaves\", \"l\\u00edrios\", \"quebra\", \"ir\\u00e1\", \"invade\", \"encher\", \"nascem\", \"m\\u00e1rmore\", \"quentes\", \"lindos\", \"flutua\", \"meses\", \"vivi\", \"morno\", \"flor\", \"perfume\", \"luar\", \"neve\", \"ave\", \"l\\u00e1bios\", \"voar\", \"rosas\", \"beijo\", \"flores\", \"primavera\", \"asas\", \"luz\", \"peito\", \"alma\", \"c\\u00e9u\", \"brisa\", \"cabelos\", \"estrela\", \"azul\", \"lua\", \"amor\", \"noite\", \"voz\", \"olhos\", \"sol\", \"sombra\", \"sonho\", \"olhar\", \"onde\", \"boca\", \"sonhos\", \"cor\", \"vento\", \"sobre\", \"mim\", \"corpo\", \"mar\", \"dif\\u00edcil\", \"dinheiro\", \"justi\\u00e7a\", \"borboleta\", \"jornal\", \"faca\", \"domingo\", \"todos dias\", \"escola\", \"m\\u00e1rio\", \"literatura\", \"pensei\", \"ant\\u00f3nio\", \"fizeram\", \"etc\", \"leitor\", \"\\u00e9poca\", \"navegar\", \"planeta\", \"arma\", \"neto\", \"cabral\", \"editora\", \"telefone\", \"todas palavras\", \"vieram\", \"quest\\u00e3o\", \"direito\", \"franc\\u00eas\", \"pina\", \"s\\u00e9culo\", \"comum\", \"ano\", \"muitos\", \"gente\", \"pessoas\", \"poeta\", \"pra\\u00e7a\", \"alguns\", \"ordem\", \"feira\", \"todos\", \"trabalho\", \"anos\", \"homem\", \"outros\", \"papel\", \"jo\\u00e3o\", \"uns\", \"bom\", \"povo\", \"poesia\", \"amigos\", \"palavras\", \"hist\\u00f3ria\", \"contra\", \"primeiro\", \"todas\", \"novo\", \"pa\\u00eds\", \"ainda\", \"vez\", \"hoje\", \"porque\", \"sempre\", \"homens\", \"grande\", \"palavra\", \"menos\", \"mundo\", \"vai\", \"tempo\", \"apenas\", \"casa\", \"nome\", \"dia\", \"sobre\", \"vida\", \"onde\", \"v\\u00f3s\", \"escura\", \"conhe\\u00e7o\", \"cora\\u00e7\\u00f5es\", \"p\\u00e1gina\", \"mortas\", \"preso\", \"mui\", \"ando\", \"hist\\u00f3rias\", \"amargura\", \"frias\", \"busco\", \"humanos\", \"perco\", \"gritar\", \"l\\u00e1bio\", \"vossa\", \"abismos\", \"cad\\u00e1ver\", \"vossos\", \"montanha\", \"roma\", \"per\", \"bebo\", \"servir\", \"vossas\", \"sagrada\", \"rey\", \"escravos\", \"negros\", \"gl\\u00f3ria\", \"non\", \"pastor\", \"vil\", \"des\", \"sois\", \"virgem\", \"rei\", \"dorme\", \"vosso\", \"senhor\", \"terra\", \"monte\", \"santa\", \"deus\", \"p\\u00e1tria\", \"almas\", \"amores\", \"mil\", \"filho\", \"cristo\", \"m\\u00e3e\", \"cruz\", \"bela\", \"t\\u00e3o\", \"sangue\", \"pranto\", \"p\\u00e9s\", \"morte\", \"vem\", \"pois\", \"olhos\", \"onde\", \"v\\u00e3o\", \"homens\", \"triste\", \"sobre\", \"dor\", \"bem\", \"aqui\", \"publicado\", \"publicado livro\", \"s\\u00e9rie\", \"integrante\", \"integrante s\\u00e9rie\", \"poema integrante\", \"poesias\", \"pref\", \"est\", \"qui\", \"org\", \"rio janeiro\", \"manuel\", \"obras\", \"completas\", \"dans\", \"silva\", \"ant\\u00f4nio\", \"cultura\", \"introd\", \"pas\", \"nacional\", \"mon\", \"bras\\u00edlia\", \"poesias completas\", \"inl\", \"plus\", \"sonetos\", \"tout\", \"martins\", \"paulo\", \"janeiro\", \"les\", \"brasileira\", \"nota\", \"livro\", \"poema\", \"brasil\", \"une\", \"rio\", \"poemas\", \"notas\", \"jos\\u00e9\", \"poesia\", \"obra\", \"seios\", \"pernas\", \"dom\", \"j\\u00fadice\", \"vinte\", \"mat\\u00e9ria\", \"quixote\", \"publica\\u00e7\\u00f5es\", \"abaixo\", \"dom quixote\", \"publica\\u00e7\\u00f5es dom\", \"m\\u00eas\", \"inscri\\u00e7\\u00e3o\", \"p\\u00e1lpebras\", \"quixote edi\\u00e7\\u00e3o\", \"inscri\\u00e7\\u00e3o amor\", \"jan\", \"pura inscri\\u00e7\\u00e3o\", \"nus\", \"edi\\u00e7\\u00e3o jan\", \"j\\u00fadice pura\", \"joelhos\", \"coxas\", \"espelhos\", \"p\\u00e1g publica\\u00e7\\u00f5es\", \"amor p\\u00e1g\", \"prosa\", \"amarelo\", \"nariz\", \"preta\", \"novas\", \"gato\", \"dona\", \"l\\u00edngua\", \"sala\", \"menina\", \"casa\", \"mulher\", \"cabelo\", \"leite\", \"m\\u00e3o\", \"disse\", \"boca\", \"cobre\", \"jorge\", \"pura\", \"havia\", \"ventre\", \"m\\u00e3e\", \"pai\", \"duas\", \"morreu\", \"corpo\", \"logo\", \"dentes\", \"meio\", \"ch\\u00e3o\", \"feito\", \"verde\", \"rosa\", \"p\\u00e1g\", \"canto\", \"p\\u00e9s\", \"onde\", \"gesto\", \"atrav\\u00e9s\", \"dan\\u00e7a\", \"aus\\u00eancia\", \"sentidos\", \"movimento\", \"barco\", \"existir\", \"cansado\", \"continua\", \"pede\", \"qualquer coisa\", \"eternamente\", \"ausente\", \"torre\", \"animais\", \"ess\\u00eancia\", \"chove\", \"vir\\u00e1\", \"caindo\", \"nudez\", \"toda gente\", \"entende\", \"superf\\u00edcie\", \"erva\", \"agosto\", \"descanso\", \"m\\u00e1scara\", \"nada nada\", \"tento\", \"abrem\", \"che\", \"espa\\u00e7o\", \"\\u00e1rvores\", \"pedra\", \"cujo\", \"abandono\", \"ra\\u00edzes\", \"mem\\u00f3ria\", \"passos\", \"som\", \"p\\u00e1ssaros\", \"sono\", \"mortos\", \"sil\\u00eancio\", \"cada\", \"tempo\", \"morte\", \"hora\", \"vida\", \"meio\", \"caminho\", \"passo\", \"luz\", \"sobre\", \"\\u00e1gua\", \"sombra\", \"sonho\", \"terra\", \"sangue\", \"onde\", \"toda\", \"dia\", \"sol\", \"mundo\", \"noite\", \"corpo\", \"olhos\", \"vento\", \"tudo\", \"c\\u00e9u\", \"sempre\"], \"Freq\": [4218.0, 2772.0, 2168.0, 2973.0, 1819.0, 1767.0, 1482.0, 1702.0, 5096.0, 1920.0, 3705.0, 1292.0, 2258.0, 1097.0, 4191.0, 1187.0, 1350.0, 3895.0, 2675.0, 888.0, 2906.0, 1541.0, 2350.0, 875.0, 3116.0, 808.0, 801.0, 2689.0, 5497.0, 1919.0, 4217.333138022977, 2771.9652092705787, 1291.509220826255, 1186.4419935590158, 820.705283899963, 685.985180831873, 633.965321103038, 573.3712897293582, 502.44213728585777, 447.52596229495003, 439.0533102821871, 438.48199446785566, 435.52113019781495, 435.52112739556765, 417.11973261486895, 413.088281247051, 386.3664392189828, 382.6013309826484, 361.541940576691, 342.527401916606, 340.6148413898348, 325.1744489521206, 316.99063282474253, 316.9906325686292, 309.70123574270764, 300.25852023934846, 276.8728531097841, 273.0828453279691, 273.00927583738286, 262.3357110434875, 462.7377020338806, 1519.8475038458587, 1175.2807432426666, 383.30152122702077, 487.7007251543445, 451.48901605826745, 430.906696245628, 450.84812475506277, 591.6209230537785, 336.2667514624495, 212.89334363147597, 164.08203246820582, 156.09033587593868, 153.355841649597, 152.41817680191988, 151.42356036452142, 146.13720476387687, 140.10755481351978, 132.3252312878722, 126.07309208096063, 114.64738167749321, 105.90133231717343, 97.84203039531832, 96.01635856594301, 95.07047278574724, 88.22605224460621, 83.40583304657224, 80.42243951806478, 100.87715051091926, 73.93962176006342, 72.56358304831194, 71.52943754709939, 70.90149063556012, 74.27270509600007, 69.80755131141052, 69.6433003842092, 68.74040255879233, 65.94552156602069, 830.5895880578424, 586.8586005267497, 350.5986438752738, 457.7811695589583, 408.20017520604506, 190.564270158835, 623.4199110459954, 287.4132831085882, 198.13715521085382, 1497.8637870901373, 782.5924556840167, 287.4589022139113, 717.0534442868376, 392.33990456814587, 459.98721518045454, 646.9773722375946, 325.4563955586844, 742.2122145582008, 829.6536518297268, 348.4232991778811, 2290.4275985818995, 336.90871981879786, 742.6122725977762, 265.661689251778, 1802.7866899916567, 706.5032997914159, 1005.3728662817364, 2136.240804004568, 563.2844675029037, 744.8070398487248, 1160.0518911956588, 691.1322380394676, 1254.4138155279195, 1419.7651298031396, 790.8837928025206, 2091.793703644843, 1342.842475237797, 1681.7756600389748, 681.2825676691921, 1015.9132766322062, 995.2552025546507, 775.4652568506314, 1110.2389802985872, 1170.059941258235, 839.0648509881868, 1050.771868359694, 866.1588221078796, 827.0243136160109, 820.3116135723114, 725.0829054084653, 209.96909909445665, 203.08352184342698, 176.28145911021167, 171.7932982891572, 171.55671305986058, 168.74959501967052, 168.74959300918687, 168.74958341834537, 168.74957726267127, 168.74954482062367, 141.04212151429235, 135.35445441575027, 128.73920543986114, 112.63137055589193, 112.63136649454121, 92.304398271705, 87.64156310201375, 85.75672853438665, 78.29447269313943, 77.987949084102, 74.33175897908949, 70.12797825972766, 65.58295151407422, 65.56899405745841, 59.3827301537998, 57.64364097337623, 56.596380035835196, 56.67064646988205, 55.713782698516226, 55.359198146459, 66.89989853053811, 146.06440182199924, 1533.2356828905392, 106.13946723053287, 250.96092496356692, 243.44384546782322, 1531.1796341613353, 419.98084817669144, 544.0560081137302, 243.54351528094986, 209.3098347901669, 229.4845866763016, 330.52850012591915, 331.83611132637895, 474.6090781172202, 615.2991438108012, 171.52726333356932, 775.3160064274948, 365.34320409025287, 1084.8027100763518, 742.3093372413183, 900.5222826199663, 652.3907616017517, 338.0027340641645, 603.1389026844425, 473.2911447336232, 283.74567383284796, 262.38179904717725, 638.6087134592628, 404.92857407469455, 449.0262350763819, 256.52130135670893, 333.26831518510807, 372.0405503063503, 294.23248131625166, 303.4683298395246, 263.04972368365065, 243.58545001343825, 432.5975610896105, 328.1055980109686, 229.14442187674578, 192.01751779412845, 176.87427558304074, 168.47160894386275, 158.97724316695778, 158.98544301884527, 145.51849956507596, 141.85937764721254, 135.2990265855309, 129.64694376163527, 111.84264744552276, 108.98722584662777, 104.08126390825997, 100.94241298408654, 100.42085264738682, 100.03391472539597, 95.34986028601895, 94.52468763146413, 94.34769538055278, 91.81948335515645, 88.52118993496809, 87.34763023987007, 82.55327958195609, 82.39624940873667, 80.80978066351591, 79.99409438949252, 79.18859377904435, 75.45493912914012, 109.75256403907578, 119.94717844031989, 211.4740927556273, 137.649996745561, 114.64204230633517, 2157.8454016808123, 167.59906223277403, 327.74413356844974, 370.4888704790139, 547.4745428157173, 143.88788532982528, 311.57963811655765, 579.2771630692629, 464.54683464782363, 210.05875916809163, 364.5601768897563, 599.8916389513874, 1278.002501564951, 720.11571499512, 476.99090476857344, 712.9952159173303, 727.5536334829515, 880.2946353603525, 269.94109572826443, 243.8062795119282, 730.0707551540021, 736.2059757252804, 472.20643563085997, 328.6612253772652, 287.6108943791677, 606.0383675886414, 524.1456300497916, 348.85333165745294, 454.48195754304254, 404.3588703058638, 283.4562485116257, 315.4405325479217, 302.0726928667964, 352.0709255238066, 336.84721606530934, 266.0815106088482, 237.94477398439685, 202.03735752112132, 180.9171162044998, 168.10083206622815, 163.14496300938947, 161.4975637137404, 144.93265288326168, 168.52059508742536, 127.13298580614517, 116.84900308361, 113.76990322061994, 111.5500058556237, 107.76966921155659, 103.65288279222867, 126.09097910268844, 94.5618307965781, 92.6029381648763, 89.16020548970883, 89.0924640769756, 87.7315466068228, 86.47416511028162, 87.20300892396173, 80.8817874270897, 78.66976757572242, 77.20036288994827, 72.57067746986321, 67.12675587545374, 1441.6660592735818, 315.999343392134, 521.6941601007355, 231.07092540595696, 304.9199221938774, 638.203625764063, 157.0333994571653, 405.84737684204293, 527.0546659678503, 824.4146496075879, 306.52905296330965, 449.25144921571945, 1475.1296179909539, 687.8424519199342, 1631.81266823223, 1106.85113060326, 275.37605986430765, 410.2586780778318, 392.09389681630904, 571.1215361213013, 645.7228909947265, 1649.1685372994832, 1349.9261666281584, 711.6953764003523, 1191.0221804538137, 1018.0464260735179, 640.7021870655002, 707.8848758457839, 695.5882354502893, 1027.6075603953402, 565.7144336933155, 452.3296391695101, 418.95918238366477, 533.0139134239906, 617.2400103866307, 540.1301852096711, 494.13787980641234, 479.2867300262628, 182.50935570351228, 170.21677163110857, 138.20231515860786, 127.04457529645755, 124.19226671993657, 122.6864091408282, 120.99178946689884, 116.04577021277042, 114.0875777599403, 120.7051765480795, 153.45696094545758, 107.20121817911682, 102.99428573530906, 98.72946875496177, 97.82284850820042, 96.59256918131398, 95.39202127454709, 90.44997705170645, 87.42466523196522, 86.11580393005477, 85.81459599564705, 83.56452557382921, 81.74835987240674, 78.40488355224257, 74.45680490054886, 74.32300276821624, 79.29267917142786, 190.47427358348648, 72.76595255499493, 71.72683702485182, 205.58965754849623, 136.47443458191074, 282.89073218111366, 308.42758562942134, 888.5322270596947, 292.48822539308475, 905.7569280734976, 152.7896436542247, 217.4677800859188, 123.43946554736162, 132.70100453265218, 1285.9920735231633, 209.9792811844143, 492.57767421381, 886.7982813546332, 656.6880617993075, 245.73983605402884, 236.2135889725621, 257.4088009787317, 390.33500153993424, 296.00732948827573, 720.3976662114877, 220.28856731506713, 522.7946421156695, 272.7075812740376, 323.89311470709174, 288.70379864409404, 494.5948427442748, 395.43321469018395, 235.71357581882046, 579.6580828034399, 444.4384150551382, 438.5273979356531, 553.0831503191396, 585.4435731859091, 366.94061573400484, 417.0364007955565, 324.58773403230634, 331.4588400752131, 474.6424866524908, 397.44514854772893, 457.44511586797086, 339.61385816508374, 336.90978548098855, 321.6357598524713, 355.15197550797467, 349.934547588625, 351.64494398893834, 329.34022866488624, 439.33387955373314, 283.5714607564572, 213.7303569535705, 196.2067203629215, 162.2123203187152, 145.6089389798074, 138.7611170758798, 136.1588687178591, 135.35525366948053, 122.10718662141679, 121.29907996880408, 116.89755349594962, 116.17236595042779, 114.6152488207526, 111.54293858190717, 112.67331711380858, 110.10413513560468, 203.43086870279464, 102.68763244808889, 101.90306985992432, 101.43610277542409, 173.8482715548841, 97.80390165427762, 88.00773282596155, 87.17494877860948, 85.50217469113504, 81.38354443515618, 79.77450337829326, 80.0865234882532, 76.97765135718586, 230.44569439738848, 396.2446587020806, 241.54275136616732, 110.76648452087699, 165.56968303965462, 350.84454717501814, 154.0771285997358, 263.6483831210799, 443.63208512986824, 343.3802095229428, 185.1908902791419, 460.7179684699363, 1493.7669912018691, 187.94448682038782, 254.00114265150808, 1174.4982622180858, 242.67659534451107, 352.48473966861394, 311.22308464958996, 413.2912226278562, 421.2381390352159, 210.01029512936327, 406.77934817022043, 255.0482350785827, 335.6249829632459, 846.0893151639829, 447.4051173169036, 242.9015329553754, 332.10750916466316, 524.4906169278985, 467.3830398611193, 429.39764908299105, 594.6969430998871, 532.6539506892633, 322.6748893516281, 316.4296228587326, 321.9636002983684, 385.3769675588758, 314.5674923026352, 326.86327013779743, 307.7100394083164, 888.0066489447037, 807.477308214236, 705.163254519783, 564.9440130208691, 560.6746132059957, 560.6655430137416, 452.51192457907723, 383.9028621147655, 336.6875528773421, 323.2547364630036, 246.28745365339543, 798.5192247565531, 231.1046946157138, 217.52475860711303, 208.8162081355206, 198.38013906069213, 186.22119995646037, 248.00375873069194, 177.18062560021204, 168.99874710463303, 161.34452400874474, 156.1439626442919, 142.5666089208985, 142.2769594612267, 138.21111067869927, 137.9199770102358, 136.27442504675307, 134.86855568941547, 130.44475553337912, 120.75953382678475, 1071.4118054182497, 851.7682671754284, 447.4207527301849, 387.1050207473546, 310.9038526450918, 1284.8754584696535, 1417.4357295765421, 412.7556652430203, 236.78515078094446, 936.8910170762978, 452.3958527490984, 263.7070938227413, 246.19445339686416, 456.01082593627746, 216.29732853375864, 363.83977877249913, 271.9556590514269, 267.72857111244565, 214.7509991758807, 207.76664338385703, 183.62534010841594, 166.81293127238138, 157.60168335669502, 157.23128563241235, 144.65330779790102, 143.198819327402, 135.24701469070195, 133.574283719911, 131.9853893641491, 130.1854083504713, 128.4612238640768, 128.32442733387742, 127.50831162039098, 126.34787603104503, 125.72363551844404, 125.72363546876433, 122.32530890958972, 121.47187743714, 119.23915557597174, 117.85169105418522, 115.47472334995011, 136.21179743554887, 113.35918238166167, 104.5928909047639, 89.98559989449976, 184.77837489833755, 168.28408921438998, 143.72590416693777, 445.5874502201705, 225.07990629675407, 232.04897378317665, 695.9205517080708, 672.0522855805131, 215.96901645488563, 184.8911835864197, 619.3668185272223, 327.70606396646406, 570.2056316427174, 141.35338522194922, 166.10323499247156, 271.6874441440809, 238.01555214217603, 190.7788963452843, 281.16136877428, 230.30619288743134, 240.49304651800966, 177.22005122176668, 384.79789403564536, 207.92046115832855, 177.19200490622075, 229.42568860363738, 230.47581568260927, 206.3815477588063, 212.35745699096458, 214.0659737185202, 211.88457236610753, 220.3181474950464, 208.59153853684174, 203.93016243803396, 432.5200011627011, 303.8716779952068, 265.99601001801693, 280.0725656683626, 268.2927947674141, 250.6787164478076, 220.15920438720738, 215.6316542565413, 184.91395828619972, 153.8347211341359, 152.98060307697165, 152.02988959143406, 147.70160978913572, 131.52879062234112, 129.1946825724474, 126.89400442740224, 169.3172084900536, 119.3724153875226, 112.49750206356603, 104.4000071326675, 170.7273625653675, 97.68310212673029, 94.63522549621156, 93.29305138656461, 91.43576807095671, 85.72547569648361, 78.45116410231606, 77.75846564703403, 84.64302268159027, 74.8045900136429, 116.1134671796494, 179.5621800748134, 668.9527046909392, 407.7982000797484, 628.9993758667194, 130.5098055190355, 126.70792562623554, 152.84259358776532, 462.9641556655702, 349.212533542242, 375.2457411834743, 247.34656244591534, 404.8859423287765, 295.82164167493676, 751.5265859913038, 898.1820757511439, 1240.6069172656405, 886.9914509662233, 535.2908810876605, 1686.175880242309, 452.6645539264078, 467.67241662469894, 293.75910073644695, 912.7612920976907, 991.8611707143476, 570.7731660293508, 535.642539474501, 568.1119936742905, 719.0098881349513, 469.0965829550519, 807.106339815995, 531.4877605499883, 684.1531241303155, 625.7010279340083, 624.5983397896425, 652.9305099336472, 577.3835627651802, 605.2879795850822, 481.36958760563823, 501.07031485207233, 457.91264948512594, 439.6292518101627], \"Total\": [4218.0, 2772.0, 2168.0, 2973.0, 1819.0, 1767.0, 1482.0, 1702.0, 5096.0, 1920.0, 3705.0, 1292.0, 2258.0, 1097.0, 4191.0, 1187.0, 1350.0, 3895.0, 2675.0, 888.0, 2906.0, 1541.0, 2350.0, 875.0, 3116.0, 808.0, 801.0, 2689.0, 5497.0, 1919.0, 4218.320227044276, 2772.952284028204, 1292.4962817312705, 1187.4292580223441, 821.6924544061649, 686.9722432680328, 634.9523839858, 574.358364256886, 503.4294426691678, 448.513187972327, 440.04037287493094, 439.4690803439765, 436.5081979973825, 436.5081988264229, 418.1067995660056, 414.0753480895771, 387.3535079197717, 383.588409252252, 362.52900352351475, 343.5144580556551, 341.60190319651036, 326.16154359939065, 317.9776978744391, 317.97769797691655, 310.6883072084392, 301.24558386818825, 277.8599097981053, 274.0699019220033, 273.9963424966561, 263.32284530969525, 469.2388693750164, 1702.3850805601814, 1350.5797216436226, 400.6472275190929, 665.1695007962295, 626.6569747970483, 762.330568424624, 1919.7908838133576, 593.2038567127071, 337.2336807883689, 213.86046492165588, 165.05405149760216, 157.0573427046231, 154.322767522736, 153.38525474597031, 152.39112347203363, 147.10417166833236, 141.07497505743623, 133.29247059688123, 127.04003527358697, 115.61445373827728, 106.86895626128528, 98.81987522347798, 96.98337904370067, 96.0376716150548, 89.19310148906382, 84.37294829340809, 81.38931339982489, 102.17229308214493, 74.90774230035878, 73.53073470138114, 72.49650559023131, 71.86879591357419, 75.30142839760724, 70.77464271477993, 70.61040654772192, 69.70767756197324, 66.91267919093235, 844.8974323988037, 596.3154126955307, 366.2568403649931, 487.09978290378217, 433.7058493908685, 198.67334127506788, 682.8205476155179, 307.0017912482623, 209.09689791944044, 1797.4256973757213, 902.3648702816354, 313.3595786315896, 865.8372792970436, 454.86432119310103, 550.4657503423149, 808.6609252933386, 377.70704060622865, 971.0716069879595, 1120.0831950437612, 409.3312824321797, 3705.2393098372436, 396.08186890712886, 1041.0654146819563, 300.5603320430403, 3146.6452363499498, 1021.8398608302466, 1603.887607442078, 4191.125535406615, 782.5663656683843, 1120.3810573997546, 1992.9938568718976, 1034.8881634925733, 2316.61481679016, 2906.9208602843737, 1328.7484573979796, 5497.917748181822, 2915.9735928156365, 5096.739727032469, 1164.0749981211397, 2401.8958972909763, 2350.084376466422, 1483.0450691753772, 3104.438974866739, 3516.395191403423, 1778.592556758749, 3116.031729382832, 2196.0080593599405, 2164.939316220054, 2898.0066537589883, 1466.3916131520507, 210.93831189585396, 204.0523631956132, 177.25048519017233, 172.76266989047485, 172.52574683407494, 169.718441313734, 169.71844150995466, 169.71844232624187, 169.71844266478513, 169.7184450545987, 142.01114366219522, 136.32357702689376, 129.70827927361535, 113.60016207619348, 113.60016235257126, 93.27377081066824, 88.61686641435875, 86.72573288427196, 79.26366387184643, 78.95708909384169, 75.30078143427025, 71.0977752003379, 66.55179365954388, 66.53947962417429, 60.351866165446204, 58.612681706726804, 57.56544836073731, 57.64341131890159, 56.683684059615246, 56.3311589545616, 68.12330279563247, 152.84258353835457, 1767.3453378147722, 110.24358063338877, 278.23214235525114, 275.97692784137934, 2168.209045628515, 519.3644273339377, 743.7837811059389, 296.9394815915963, 253.97411861177756, 284.542684372661, 453.4048081621749, 460.6775716309067, 743.4864477816117, 1391.403346930643, 225.7338718019343, 2258.797513428921, 744.6454266927522, 5096.739727032469, 2906.9208602843737, 4191.125535406615, 2350.084376466422, 828.5737421230846, 3705.2393098372436, 2196.0080593599405, 625.6967864535717, 516.1516237753182, 5497.917748181822, 1796.9856476673158, 2898.0066537589883, 589.455116657097, 1527.0612092769127, 2316.61481679016, 1740.2807621508086, 2915.9735928156365, 1133.3854764108412, 698.7113371585175, 433.5596601539808, 329.3596238321349, 230.10656090271408, 192.99702994043048, 177.83628846604134, 169.4335111042855, 159.93918339805526, 159.9475761498638, 146.48048262422776, 142.82137240635865, 136.26107121587862, 130.61182617660884, 112.80481982896407, 109.9673598903739, 105.0433789739041, 101.90440320967704, 101.38303168562118, 100.9959593530227, 96.31180319601879, 95.48675950622729, 95.30975615408589, 92.78146363051737, 89.48775506368506, 88.3098599843799, 83.51556269116476, 83.36037348625503, 81.77177889964796, 80.95597447120974, 80.15054235831168, 76.41704841584675, 113.02959354604405, 124.53763584238847, 231.3716649962808, 145.17804094863254, 119.27378585422616, 2973.264681567782, 180.4591232929787, 384.2909758019397, 467.7789682093743, 747.2119626913254, 157.4554466798686, 396.1379168519987, 934.6929793729122, 713.1357194319161, 269.4253533844735, 605.0715282501171, 1294.427255138788, 3895.2663026911737, 1728.0904521865987, 959.8838468073551, 1761.0567940806209, 1920.3854189550887, 2809.0357954218516, 428.13996889538646, 385.1810407542369, 2749.6374874323683, 3516.395191403423, 1603.630218672654, 760.6503586389223, 673.0396594942351, 4263.056548981894, 3147.3702415323937, 1118.5108778252663, 2401.8958972909763, 1773.7158180383706, 769.2658239703726, 1591.3013876372338, 3547.316481290644, 353.03109800898653, 337.80720927814815, 267.0416991572589, 238.91111814563234, 202.9973910083186, 181.87953082146552, 169.0832489532509, 164.1056204907307, 162.45752537939592, 145.89269389259206, 169.73650481595294, 128.0931503614594, 117.80958713328208, 114.72974907739871, 112.5101247901344, 108.72970102195816, 104.61839921978081, 127.3130075577536, 95.52192101415686, 93.56318220546012, 90.12040121689526, 90.0525029406711, 88.691591337231, 87.43424343888191, 88.18448755720098, 81.84175200297283, 79.62989367068775, 78.16067778739867, 73.5316015600858, 68.08695580235346, 1541.6395579302243, 338.2342851168336, 581.0331369824181, 248.6998896258898, 343.3567764358382, 780.8256229227246, 170.33048975853356, 498.13143618872635, 683.2682176196513, 1221.3112004924717, 387.3700594434416, 622.9203608131505, 2689.0745503929656, 1053.7678838023219, 3116.031729382832, 1995.7784151619737, 352.700259295894, 590.4323380227154, 566.3564473091201, 1009.0212585119067, 1223.7160978919926, 5096.739727032469, 3895.2663026911737, 1509.5872224792724, 3547.316481290644, 2809.0357954218516, 1379.0689730557822, 1634.3790292047165, 1647.4303189275313, 4263.056548981894, 1392.0793533011208, 925.4398835616247, 807.2914437678163, 1761.0567940806209, 3147.3702415323937, 3705.2393098372436, 2749.6374874323683, 2973.264681567782, 183.53273702923397, 171.17936858383464, 139.1777414152975, 128.00681282226532, 125.15658193272449, 123.65546050953716, 121.95466974443853, 117.00923428876428, 115.05069788508634, 121.76701736971715, 154.81901190821486, 108.16359353898177, 103.96207132388614, 99.69635096506427, 98.78500406738057, 97.5600690588008, 96.35532648499253, 91.41223599597522, 88.38705094772834, 87.0781437249103, 86.77695821063782, 84.53032762259575, 82.7105422769828, 79.37134455116916, 75.4189859507025, 75.28625880371656, 80.33340358406228, 192.97920325199115, 73.72827786864025, 72.68979590018783, 210.21386575353404, 139.1862671792163, 293.85625794684626, 336.30142898889693, 1157.956650442209, 339.0807847085289, 1244.0796721733393, 167.53134210320115, 253.67852669528025, 132.55849391906847, 144.50399051802498, 2320.923051757481, 258.4595970615845, 763.8997374529279, 1617.5238544977353, 1105.47945667945, 338.71901463209065, 325.7756636740317, 386.98056085248965, 721.0940597722033, 482.0096433980172, 1919.7908838133576, 314.9423640870371, 1335.284445366458, 463.31870642074045, 630.2458588338951, 519.7689771038908, 1334.4414301735296, 948.1535617004844, 373.15972216735855, 2164.939316220054, 1391.6365624348625, 1391.403346930643, 2350.084376466422, 2915.9735928156365, 963.7467803585391, 1356.0624677522962, 765.147792456585, 859.1567964167991, 2898.0066537589883, 1773.7158180383706, 3104.438974866739, 1233.156244212138, 1358.0193886647264, 1041.832826274384, 3516.395191403423, 3147.3702415323937, 5497.917748181822, 4263.056548981894, 440.5873702699441, 284.52750149925413, 214.72707462921193, 197.16176847979094, 163.16770613640034, 146.5639308166294, 139.7162090430149, 137.1137906454593, 136.31022013526973, 123.06223206578159, 122.25402489859533, 117.85295095356786, 117.12750932898173, 115.57025526723082, 112.49809637772792, 113.63969640599478, 111.05902187373042, 205.26579885394256, 103.64438812950152, 102.85861529771799, 102.39247599944234, 175.5125596136817, 98.75959668964857, 88.96258934224842, 88.1299594247283, 86.45717241161223, 82.33834610881216, 80.7294823555786, 81.05884196877471, 77.93247041464858, 233.93367107013992, 404.8105119566966, 246.5253254554612, 112.18509012940174, 168.6329187626665, 376.8736878002376, 160.3015410549531, 288.6654504413752, 535.5022796681027, 406.383792748445, 209.29567188006303, 635.7017269196855, 2675.700955821595, 213.3121702235746, 314.1027263336409, 2258.797513428921, 300.1732417267104, 488.2198574385214, 422.33237405454946, 639.0102629864931, 685.9492953605297, 263.4817535896965, 751.8184366658396, 364.2969444396634, 597.869908002723, 3146.6452363499498, 1148.42086336404, 362.3483019798483, 730.0155784982421, 2004.4472318152598, 1603.630218672654, 1524.2900568651648, 3547.316481290644, 4263.056548981894, 996.236915245099, 963.7467803585391, 1114.7507798082931, 3147.3702415323937, 1510.109065003481, 2196.0080593599405, 1527.0612092769127, 888.9750452244034, 808.41844128043, 706.1111771462021, 565.8830586897274, 561.6136537745713, 561.6045850448626, 453.4514369831344, 384.8419190339277, 337.6289216597318, 324.2050279494925, 247.2286899754991, 801.6041586761311, 232.04510591969887, 218.4646834847813, 209.75570048451968, 199.3191162803776, 187.16028483751361, 249.30230865391454, 178.120085834814, 169.93778390071816, 162.28360455771156, 157.0922938953273, 143.50572911227363, 143.21611474767383, 139.1501829920787, 138.8590000350067, 137.21396521167338, 135.80844307969195, 131.38436061815742, 121.71043084532255, 1097.1143262279588, 875.7640875188706, 457.4062613949395, 401.0427651523487, 320.20642834558527, 1482.464817353682, 1819.8856663578679, 512.6305218548807, 269.419700981205, 1920.3854189550887, 716.4336378780847, 325.41706101450694, 366.4737375228054, 1919.7908838133576, 625.6967864535717, 364.8870631650147, 272.9422977713509, 268.87529568696783, 215.7127775574884, 208.7285424568452, 184.58729050952303, 167.77525382204578, 158.5634218044061, 158.1932305303449, 145.61501635475688, 144.16052789941443, 136.2093979539267, 134.5359971054392, 132.94733473341486, 131.1471124671133, 129.4229310854866, 129.2861360116811, 128.47001400137012, 127.30991487694313, 126.68533745730659, 126.68533744540508, 123.28731303587656, 122.43685787969365, 120.20157521895311, 118.81338899609979, 116.43642083881996, 137.35493979932588, 114.36416406236654, 105.55495280056122, 90.9477838683474, 187.21749427420616, 172.14395383283522, 147.50369895541976, 507.11249318985307, 263.9443493724584, 291.3317247760765, 1358.0193886647264, 1325.8175194791397, 277.26637065156865, 222.4683362975832, 1420.418931813159, 544.8229503280819, 1392.0793533011208, 153.034594433554, 204.42532813039415, 513.3380203569695, 423.59630552340116, 274.25264588223786, 751.8184366658396, 476.62415369238954, 594.9089295556623, 264.62936199862037, 2749.6374874323683, 495.2942916765233, 265.495012259575, 832.127558500053, 955.8029610054261, 558.167599022595, 715.404388118332, 803.8650280958484, 762.330568424624, 1109.9984266256552, 730.0155784982421, 4263.056548981894, 433.48678410298476, 304.8380784783619, 266.9623884306715, 281.1472456239471, 269.3238713958418, 251.6450885728881, 221.13394093419427, 216.59803278738593, 185.88082677322456, 154.80112685091638, 153.9470462591954, 152.99627956713297, 148.66822477374242, 132.49958728403274, 130.16161608676433, 127.86041120372778, 170.71141899751154, 120.39235463657386, 113.46859879167263, 105.36634973483618, 172.33492967221665, 98.64974250157086, 95.60175144237341, 94.25942422859549, 92.4151789288103, 86.69214010392288, 79.41762354579373, 78.72492845122977, 85.69698172832635, 75.7720552565542, 117.64898685989844, 182.9624557115409, 740.6141748430088, 442.22342449088484, 753.9395482323146, 138.72014915874558, 134.54473341561575, 168.1961972236993, 637.1720789230249, 453.99850617149343, 508.11048964928807, 311.324143000875, 615.1882658624538, 406.64446139355766, 1432.3936731894373, 1942.421049924953, 3104.438974866739, 2004.4472318152598, 1013.5475282244784, 5497.917748181822, 832.127558500053, 892.2499574628195, 426.9365822949218, 2689.0745503929656, 3147.3702415323937, 1294.427255138788, 1379.0689730557822, 1634.3790292047165, 2675.700955821595, 1148.42086336404, 4263.056548981894, 1740.2807621508086, 3516.395191403423, 2809.0357954218516, 2898.0066537589883, 3895.2663026911737, 2749.6374874323683, 3547.316481290644, 1761.0567940806209, 4191.125535406615, 1995.7784151619737, 2915.9735928156365], \"Category\": [\"Default\", \"Default\", \"Default\", \"Default\", \"Default\", \"Default\", \"Default\", \"Default\", \"Default\", \"Default\", \"Default\", \"Default\", \"Default\", \"Default\", \"Default\", \"Default\", \"Default\", \"Default\", \"Default\", \"Default\", \"Default\", \"Default\", \"Default\", \"Default\", \"Default\", \"Default\", \"Default\", \"Default\", \"Default\", \"Default\", \"Topic1\", \"Topic1\", \"Topic1\", \"Topic1\", \"Topic1\", \"Topic1\", \"Topic1\", \"Topic1\", \"Topic1\", \"Topic1\", \"Topic1\", \"Topic1\", \"Topic1\", \"Topic1\", \"Topic1\", \"Topic1\", \"Topic1\", \"Topic1\", \"Topic1\", \"Topic1\", \"Topic1\", \"Topic1\", \"Topic1\", \"Topic1\", \"Topic1\", \"Topic1\", \"Topic1\", \"Topic1\", \"Topic1\", \"Topic1\", \"Topic1\", \"Topic1\", \"Topic1\", \"Topic1\", \"Topic1\", \"Topic1\", \"Topic1\", \"Topic1\", \"Topic2\", \"Topic2\", \"Topic2\", \"Topic2\", \"Topic2\", \"Topic2\", \"Topic2\", \"Topic2\", \"Topic2\", \"Topic2\", \"Topic2\", \"Topic2\", \"Topic2\", \"Topic2\", \"Topic2\", \"Topic2\", \"Topic2\", \"Topic2\", \"Topic2\", \"Topic2\", \"Topic2\", \"Topic2\", \"Topic2\", \"Topic2\", \"Topic2\", \"Topic2\", \"Topic2\", \"Topic2\", \"Topic2\", \"Topic2\", \"Topic2\", \"Topic2\", \"Topic2\", \"Topic2\", \"Topic2\", \"Topic2\", \"Topic2\", \"Topic2\", \"Topic2\", \"Topic2\", \"Topic2\", \"Topic2\", \"Topic2\", \"Topic2\", \"Topic2\", \"Topic2\", \"Topic2\", \"Topic2\", \"Topic2\", \"Topic2\", \"Topic2\", \"Topic2\", \"Topic2\", \"Topic2\", \"Topic2\", \"Topic2\", \"Topic2\", \"Topic2\", \"Topic2\", \"Topic2\", \"Topic2\", \"Topic2\", \"Topic2\", \"Topic2\", \"Topic2\", \"Topic2\", \"Topic2\", \"Topic2\", \"Topic2\", \"Topic2\", \"Topic2\", \"Topic2\", \"Topic2\", \"Topic2\", \"Topic2\", \"Topic2\", \"Topic2\", \"Topic2\", \"Topic2\", \"Topic2\", \"Topic3\", \"Topic3\", \"Topic3\", \"Topic3\", \"Topic3\", \"Topic3\", \"Topic3\", \"Topic3\", \"Topic3\", \"Topic3\", \"Topic3\", \"Topic3\", \"Topic3\", \"Topic3\", \"Topic3\", \"Topic3\", \"Topic3\", \"Topic3\", \"Topic3\", \"Topic3\", \"Topic3\", \"Topic3\", \"Topic3\", \"Topic3\", \"Topic3\", \"Topic3\", \"Topic3\", \"Topic3\", \"Topic3\", \"Topic3\", \"Topic3\", \"Topic3\", \"Topic3\", \"Topic3\", \"Topic3\", \"Topic3\", \"Topic3\", \"Topic3\", \"Topic3\", \"Topic3\", \"Topic3\", \"Topic3\", \"Topic3\", \"Topic3\", \"Topic3\", \"Topic3\", \"Topic3\", \"Topic3\", \"Topic3\", \"Topic3\", \"Topic3\", \"Topic3\", \"Topic3\", \"Topic3\", \"Topic3\", \"Topic3\", \"Topic3\", \"Topic3\", \"Topic3\", \"Topic3\", \"Topic3\", \"Topic3\", \"Topic3\", \"Topic3\", \"Topic3\", \"Topic3\", \"Topic3\", \"Topic3\", \"Topic4\", \"Topic4\", \"Topic4\", \"Topic4\", \"Topic4\", \"Topic4\", \"Topic4\", \"Topic4\", \"Topic4\", \"Topic4\", \"Topic4\", \"Topic4\", \"Topic4\", \"Topic4\", \"Topic4\", \"Topic4\", \"Topic4\", \"Topic4\", \"Topic4\", \"Topic4\", \"Topic4\", \"Topic4\", \"Topic4\", \"Topic4\", \"Topic4\", \"Topic4\", \"Topic4\", \"Topic4\", \"Topic4\", \"Topic4\", \"Topic4\", \"Topic4\", \"Topic4\", \"Topic4\", \"Topic4\", \"Topic4\", \"Topic4\", \"Topic4\", \"Topic4\", \"Topic4\", \"Topic4\", \"Topic4\", \"Topic4\", \"Topic4\", \"Topic4\", \"Topic4\", \"Topic4\", \"Topic4\", \"Topic4\", \"Topic4\", \"Topic4\", \"Topic4\", \"Topic4\", \"Topic4\", \"Topic4\", \"Topic4\", \"Topic4\", \"Topic4\", \"Topic4\", \"Topic4\", \"Topic4\", \"Topic4\", \"Topic4\", \"Topic4\", \"Topic4\", \"Topic4\", \"Topic4\", \"Topic4\", \"Topic5\", \"Topic5\", \"Topic5\", \"Topic5\", \"Topic5\", \"Topic5\", \"Topic5\", \"Topic5\", \"Topic5\", \"Topic5\", \"Topic5\", \"Topic5\", \"Topic5\", \"Topic5\", \"Topic5\", \"Topic5\", \"Topic5\", \"Topic5\", \"Topic5\", \"Topic5\", \"Topic5\", \"Topic5\", \"Topic5\", \"Topic5\", \"Topic5\", \"Topic5\", \"Topic5\", \"Topic5\", \"Topic5\", \"Topic5\", \"Topic5\", \"Topic5\", \"Topic5\", \"Topic5\", \"Topic5\", \"Topic5\", \"Topic5\", \"Topic5\", \"Topic5\", \"Topic5\", \"Topic5\", \"Topic5\", \"Topic5\", \"Topic5\", \"Topic5\", \"Topic5\", \"Topic5\", \"Topic5\", \"Topic5\", \"Topic5\", \"Topic5\", \"Topic5\", \"Topic5\", \"Topic5\", \"Topic5\", \"Topic5\", \"Topic5\", \"Topic5\", \"Topic5\", \"Topic5\", \"Topic5\", \"Topic5\", \"Topic5\", \"Topic5\", \"Topic5\", \"Topic5\", \"Topic5\", \"Topic5\", \"Topic6\", \"Topic6\", \"Topic6\", \"Topic6\", \"Topic6\", \"Topic6\", \"Topic6\", \"Topic6\", \"Topic6\", \"Topic6\", \"Topic6\", \"Topic6\", \"Topic6\", \"Topic6\", \"Topic6\", \"Topic6\", \"Topic6\", \"Topic6\", \"Topic6\", \"Topic6\", \"Topic6\", \"Topic6\", \"Topic6\", \"Topic6\", \"Topic6\", \"Topic6\", \"Topic6\", \"Topic6\", \"Topic6\", \"Topic6\", \"Topic6\", \"Topic6\", \"Topic6\", \"Topic6\", \"Topic6\", \"Topic6\", \"Topic6\", \"Topic6\", \"Topic6\", \"Topic6\", \"Topic6\", \"Topic6\", \"Topic6\", \"Topic6\", \"Topic6\", \"Topic6\", \"Topic6\", \"Topic6\", \"Topic6\", \"Topic6\", \"Topic6\", \"Topic6\", \"Topic6\", \"Topic6\", \"Topic6\", \"Topic6\", \"Topic6\", \"Topic6\", \"Topic6\", \"Topic6\", \"Topic6\", \"Topic6\", \"Topic6\", \"Topic6\", \"Topic6\", \"Topic6\", \"Topic6\", \"Topic6\", \"Topic6\", \"Topic6\", \"Topic6\", \"Topic6\", \"Topic6\", \"Topic6\", \"Topic6\", \"Topic6\", \"Topic6\", \"Topic6\", \"Topic6\", \"Topic7\", \"Topic7\", \"Topic7\", \"Topic7\", \"Topic7\", \"Topic7\", \"Topic7\", \"Topic7\", \"Topic7\", \"Topic7\", \"Topic7\", \"Topic7\", \"Topic7\", \"Topic7\", \"Topic7\", \"Topic7\", \"Topic7\", \"Topic7\", \"Topic7\", \"Topic7\", \"Topic7\", \"Topic7\", \"Topic7\", \"Topic7\", \"Topic7\", \"Topic7\", \"Topic7\", \"Topic7\", \"Topic7\", \"Topic7\", \"Topic7\", \"Topic7\", \"Topic7\", \"Topic7\", \"Topic7\", \"Topic7\", \"Topic7\", \"Topic7\", \"Topic7\", \"Topic7\", \"Topic7\", \"Topic7\", \"Topic7\", \"Topic7\", \"Topic7\", \"Topic7\", \"Topic7\", \"Topic7\", \"Topic7\", \"Topic7\", \"Topic7\", \"Topic7\", \"Topic7\", \"Topic7\", \"Topic7\", \"Topic7\", \"Topic7\", \"Topic7\", \"Topic7\", \"Topic7\", \"Topic7\", \"Topic7\", \"Topic7\", \"Topic7\", \"Topic7\", \"Topic7\", \"Topic7\", \"Topic7\", \"Topic7\", \"Topic7\", \"Topic7\", \"Topic8\", \"Topic8\", \"Topic8\", \"Topic8\", \"Topic8\", \"Topic8\", \"Topic8\", \"Topic8\", \"Topic8\", \"Topic8\", \"Topic8\", \"Topic8\", \"Topic8\", \"Topic8\", \"Topic8\", \"Topic8\", \"Topic8\", \"Topic8\", \"Topic8\", \"Topic8\", \"Topic8\", \"Topic8\", \"Topic8\", \"Topic8\", \"Topic8\", \"Topic8\", \"Topic8\", \"Topic8\", \"Topic8\", \"Topic8\", \"Topic8\", \"Topic8\", \"Topic8\", \"Topic8\", \"Topic8\", \"Topic8\", \"Topic8\", \"Topic8\", \"Topic8\", \"Topic8\", \"Topic8\", \"Topic8\", \"Topic8\", \"Topic8\", \"Topic8\", \"Topic9\", \"Topic9\", \"Topic9\", \"Topic9\", \"Topic9\", \"Topic9\", \"Topic9\", \"Topic9\", \"Topic9\", \"Topic9\", \"Topic9\", \"Topic9\", \"Topic9\", \"Topic9\", \"Topic9\", \"Topic9\", \"Topic9\", \"Topic9\", \"Topic9\", \"Topic9\", \"Topic9\", \"Topic9\", \"Topic9\", \"Topic9\", \"Topic9\", \"Topic9\", \"Topic9\", \"Topic9\", \"Topic9\", \"Topic9\", \"Topic9\", \"Topic9\", \"Topic9\", \"Topic9\", \"Topic9\", \"Topic9\", \"Topic9\", \"Topic9\", \"Topic9\", \"Topic9\", \"Topic9\", \"Topic9\", \"Topic9\", \"Topic9\", \"Topic9\", \"Topic9\", \"Topic9\", \"Topic9\", \"Topic9\", \"Topic9\", \"Topic9\", \"Topic9\", \"Topic9\", \"Topic9\", \"Topic9\", \"Topic9\", \"Topic9\", \"Topic9\", \"Topic9\", \"Topic9\", \"Topic9\", \"Topic9\", \"Topic9\", \"Topic9\", \"Topic10\", \"Topic10\", \"Topic10\", \"Topic10\", \"Topic10\", \"Topic10\", \"Topic10\", \"Topic10\", \"Topic10\", \"Topic10\", \"Topic10\", \"Topic10\", \"Topic10\", \"Topic10\", \"Topic10\", \"Topic10\", \"Topic10\", \"Topic10\", \"Topic10\", \"Topic10\", \"Topic10\", \"Topic10\", \"Topic10\", \"Topic10\", \"Topic10\", \"Topic10\", \"Topic10\", \"Topic10\", \"Topic10\", \"Topic10\", \"Topic10\", \"Topic10\", \"Topic10\", \"Topic10\", \"Topic10\", \"Topic10\", \"Topic10\", \"Topic10\", \"Topic10\", \"Topic10\", \"Topic10\", \"Topic10\", \"Topic10\", \"Topic10\", \"Topic10\", \"Topic10\", \"Topic10\", \"Topic10\", \"Topic10\", \"Topic10\", \"Topic10\", \"Topic10\", \"Topic10\", \"Topic10\", \"Topic10\", \"Topic10\", \"Topic10\", \"Topic10\", \"Topic10\", \"Topic10\", \"Topic10\", \"Topic10\", \"Topic10\", \"Topic10\", \"Topic10\", \"Topic10\", \"Topic10\", \"Topic10\", \"Topic10\", \"Topic10\", \"Topic10\", \"Topic10\"], \"logprob\": [30.0, 29.0, 28.0, 27.0, 26.0, 25.0, 24.0, 23.0, 22.0, 21.0, 20.0, 19.0, 18.0, 17.0, 16.0, 15.0, 14.0, 13.0, 12.0, 11.0, 10.0, 9.0, 8.0, 7.0, 6.0, 5.0, 4.0, 3.0, 2.0, 1.0, -2.7286, -3.1483, -3.912, -3.9969, -4.3654, -4.5447, -4.6236, -4.7241, -4.8561, -4.9719, -4.991, -4.9923, -4.9991, -4.9991, -5.0422, -5.0519, -5.1188, -5.1286, -5.1852, -5.2392, -5.2448, -5.2912, -5.3167, -5.3167, -5.34, -5.371, -5.452, -5.4658, -5.4661, -5.506, -4.9384, -3.7492, -4.0063, -5.1268, -4.8859, -4.963, -5.0097, -4.9645, -5.5333, -6.0983, -6.5554, -6.8158, -6.8657, -6.8834, -6.8895, -6.8961, -6.9316, -6.9738, -7.0309, -7.0793, -7.1743, -7.2537, -7.3328, -7.3517, -7.3616, -7.4363, -7.4925, -7.5289, -7.3023, -7.6129, -7.6317, -7.6461, -7.6549, -7.6084, -7.6704, -7.6728, -7.6858, -7.7273, -5.194, -5.5414, -6.0565, -5.7898, -5.9044, -6.6662, -5.481, -6.2552, -6.6272, -4.6044, -5.2536, -6.2551, -5.341, -5.944, -5.785, -5.4439, -6.1309, -5.3065, -5.1952, -6.0628, -4.1797, -6.0964, -5.306, -6.3339, -4.4191, -5.3558, -5.0031, -4.2494, -5.5824, -5.303, -4.86, -5.3778, -4.7817, -4.6579, -5.243, -4.2704, -4.7136, -4.4886, -5.3922, -4.9926, -5.0132, -5.2627, -4.9038, -4.8514, -5.1839, -4.9589, -5.1521, -5.1983, -5.2065, -5.3299, -5.518, -5.5514, -5.6929, -5.7187, -5.7201, -5.7366, -5.7366, -5.7366, -5.7366, -5.7366, -5.9159, -5.9571, -6.0072, -6.1409, -6.1409, -6.3399, -6.3917, -6.4135, -6.5045, -6.5084, -6.5565, -6.6147, -6.6817, -6.6819, -6.781, -6.8107, -6.829, -6.8277, -6.8448, -6.8511, -6.6618, -5.8809, -3.5299, -6.2002, -5.3397, -5.3701, -3.5312, -4.8248, -4.5659, -5.3697, -5.5212, -5.4292, -5.0643, -5.0603, -4.7025, -4.4429, -5.7202, -4.2117, -4.9642, -3.8758, -4.2552, -4.062, -4.3843, -5.0419, -4.4628, -4.7053, -5.2169, -5.2952, -4.4057, -4.8613, -4.7579, -5.3178, -5.056, -4.946, -5.1806, -5.1497, -5.2926, -5.3695, -5.1504, -5.4268, -5.7858, -5.9626, -6.0447, -6.0934, -6.1514, -6.1514, -6.2399, -6.2653, -6.3127, -6.3554, -6.5031, -6.529, -6.575, -6.6056, -6.6108, -6.6147, -6.6626, -6.6713, -6.6732, -6.7004, -6.7369, -6.7503, -6.8067, -6.8086, -6.8281, -6.8382, -6.8483, -6.8966, -6.522, -6.4331, -5.8661, -6.2955, -6.4784, -3.5433, -6.0986, -5.4279, -5.3054, -4.9149, -6.2511, -5.4785, -4.8584, -5.0791, -5.8728, -5.3215, -4.8234, -4.0671, -4.6408, -5.0527, -4.6507, -4.6305, -4.4399, -5.622, -5.7238, -4.627, -4.6187, -5.0628, -5.4252, -5.5586, -4.8132, -4.9584, -5.3655, -5.101, -5.2179, -5.5731, -5.4662, -5.5095, -5.7003, -5.7445, -5.9803, -6.092, -6.2556, -6.366, -6.4395, -6.4694, -6.4796, -6.5878, -6.437, -6.7189, -6.8032, -6.8299, -6.8496, -6.8841, -6.923, -6.7271, -7.0148, -7.0358, -7.0737, -7.0744, -7.0898, -7.1042, -7.0958, -7.1711, -7.1988, -7.2177, -7.2795, -7.3575, -4.2905, -5.8083, -5.307, -6.1214, -5.844, -5.1054, -6.5076, -5.5581, -5.2968, -4.8494, -5.8388, -5.4565, -4.2676, -5.0305, -4.1666, -4.5548, -5.9459, -5.5473, -5.5926, -5.2165, -5.0937, -4.1561, -4.3563, -4.9964, -4.4815, -4.6384, -5.1015, -5.0018, -5.0193, -4.6291, -5.226, -5.4497, -5.5263, -5.2855, -5.1388, -5.2723, -5.3613, -5.3918, -6.1424, -6.2121, -6.4205, -6.5047, -6.5274, -6.5396, -6.5535, -6.5952, -6.6122, -6.5559, -6.3158, -6.6745, -6.7145, -6.7568, -6.766, -6.7787, -6.7912, -6.8444, -6.8784, -6.8935, -6.897, -6.9236, -6.9456, -6.9873, -7.039, -7.0408, -6.9761, -6.0997, -7.062, -7.0763, -6.0233, -6.4331, -5.7041, -5.6177, -4.5596, -5.6708, -4.5404, -6.3201, -5.9672, -6.5335, -6.4611, -4.1899, -6.0022, -5.1496, -4.5616, -4.862, -5.8449, -5.8845, -5.7985, -5.3822, -5.6588, -4.7694, -5.9543, -5.09, -5.7408, -5.5688, -5.6838, -5.1455, -5.3692, -5.8866, -4.9868, -5.2524, -5.2658, -5.0337, -4.9768, -5.444, -5.316, -5.5666, -5.5457, -5.1866, -5.3641, -5.2235, -5.5214, -5.5294, -5.5758, -5.4767, -5.4915, -5.4866, -5.5521, -5.2253, -5.6631, -5.9459, -6.0314, -6.2217, -6.3297, -6.3778, -6.3968, -6.4027, -6.5057, -6.5123, -6.5493, -6.5555, -6.569, -6.5962, -6.5861, -6.6092, -5.9953, -6.6789, -6.6866, -6.6912, -6.1524, -6.7276, -6.8332, -6.8427, -6.8621, -6.9114, -6.9314, -6.9275, -6.9671, -5.8706, -5.3286, -5.8236, -6.6032, -6.2012, -5.4503, -6.2731, -5.736, -5.2156, -5.4718, -6.0892, -5.1778, -4.0015, -6.0745, -5.7733, -4.242, -5.8189, -5.4456, -5.5701, -5.2864, -5.2674, -5.9634, -5.3023, -5.7691, -5.4946, -4.57, -5.2071, -5.8179, -5.5051, -5.0482, -5.1634, -5.2482, -4.9225, -5.0327, -5.534, -5.5535, -5.5362, -5.3564, -5.5594, -5.5211, -5.5814, -3.8676, -3.9627, -4.0982, -4.3199, -4.3275, -4.3275, -4.5418, -4.7062, -4.8375, -4.8782, -5.1501, -3.9739, -5.2137, -5.2743, -5.3152, -5.3664, -5.4297, -5.1432, -5.4794, -5.5267, -5.5731, -5.6058, -5.6968, -5.6988, -5.7278, -5.7299, -5.7419, -5.7523, -5.7857, -5.8628, -3.6799, -3.9093, -4.5531, -4.6979, -4.9171, -3.4982, -3.4, -4.6338, -5.1895, -3.814, -4.5421, -5.0818, -5.1505, -4.5341, -5.28, -4.9415, -5.2326, -5.2482, -5.4687, -5.5018, -5.6253, -5.7213, -5.7781, -5.7805, -5.8639, -5.874, -5.9311, -5.9436, -5.9555, -5.9693, -5.9826, -5.9837, -5.99, -5.9992, -6.0041, -6.0041, -6.0315, -6.0385, -6.0571, -6.0688, -6.0892, -5.924, -6.1077, -6.1881, -6.3386, -5.6191, -5.7126, -5.8703, -4.7388, -5.4218, -5.3913, -4.293, -4.3279, -5.4631, -5.6184, -4.4095, -5.0461, -4.4922, -5.8869, -5.7256, -5.2336, -5.3659, -5.5871, -5.1993, -5.3988, -5.3555, -5.6608, -4.8855, -5.5011, -5.661, -5.4026, -5.3981, -5.5085, -5.4799, -5.4719, -5.4822, -5.4431, -5.4978, -5.5204, -5.5463, -5.8993, -6.0325, -5.9809, -6.0239, -6.0918, -6.2216, -6.2424, -6.3961, -6.5801, -6.5856, -6.5919, -6.6207, -6.7367, -6.7546, -6.7726, -6.4842, -6.8337, -6.893, -6.9677, -6.4759, -7.0342, -7.0659, -7.0802, -7.1003, -7.1648, -7.2535, -7.2623, -7.1775, -7.3011, -6.8614, -6.4254, -5.1102, -5.6052, -5.1718, -6.7445, -6.7741, -6.5865, -5.4783, -5.7603, -5.6884, -6.1052, -5.6123, -5.9262, -4.9938, -4.8156, -4.4926, -4.8281, -5.3331, -4.1857, -5.5008, -5.4682, -5.9332, -4.7995, -4.7164, -5.269, -5.3325, -5.2736, -5.0381, -5.4651, -4.9225, -5.3403, -5.0878, -5.1771, -5.1788, -5.1345, -5.2574, -5.2102, -5.4393, -5.3992, -5.4893, -5.53], \"loglift\": [30.0, 29.0, 28.0, 27.0, 26.0, 25.0, 24.0, 23.0, 22.0, 21.0, 20.0, 19.0, 18.0, 17.0, 16.0, 15.0, 14.0, 13.0, 12.0, 11.0, 10.0, 9.0, 8.0, 7.0, 6.0, 5.0, 4.0, 3.0, 2.0, 1.0, 2.5379, 2.5378, 2.5374, 2.5373, 2.5369, 2.5367, 2.5366, 2.5364, 2.5362, 2.5359, 2.5359, 2.5359, 2.5359, 2.5359, 2.5358, 2.5357, 2.5356, 2.5355, 2.5354, 2.5352, 2.5352, 2.5351, 2.535, 2.535, 2.5349, 2.5348, 2.5346, 2.5345, 2.5345, 2.5344, 2.5242, 2.4247, 2.3991, 2.4939, 2.2278, 2.2103, 1.9676, 1.0893, 1.6949, 1.6947, 1.693, 1.6916, 1.6914, 1.6913, 1.6912, 1.6912, 1.6909, 1.6907, 1.6903, 1.6899, 1.6891, 1.6884, 1.6876, 1.6875, 1.6874, 1.6866, 1.686, 1.6856, 1.6848, 1.6845, 1.6843, 1.6841, 1.684, 1.6838, 1.6838, 1.6838, 1.6836, 1.683, 1.6805, 1.6816, 1.6539, 1.6355, 1.6369, 1.6559, 1.6065, 1.6316, 1.6437, 1.5152, 1.5551, 1.6113, 1.509, 1.5497, 1.518, 1.4745, 1.5487, 1.4288, 1.3974, 1.5364, 1.2165, 1.5357, 1.3597, 1.5741, 1.1405, 1.3285, 1.2305, 1.0236, 1.3687, 1.2892, 1.1564, 1.2938, 1.0841, 0.9809, 1.1787, 0.7312, 0.9221, 0.5888, 1.1618, 0.8371, 0.8383, 1.0492, 0.6693, 0.5972, 0.9463, 0.6105, 0.7672, 0.7352, 0.4354, 0.9933, 2.7441, 2.744, 2.7432, 2.7431, 2.7431, 2.743, 2.743, 2.743, 2.743, 2.743, 2.7419, 2.7416, 2.7412, 2.7402, 2.7402, 2.7383, 2.7377, 2.7375, 2.7364, 2.7364, 2.7358, 2.735, 2.7341, 2.734, 2.7325, 2.7321, 2.7317, 2.7317, 2.7315, 2.7313, 2.7306, 2.7034, 2.6066, 2.7108, 2.6456, 2.6233, 2.4009, 2.5363, 2.436, 2.5505, 2.5553, 2.5337, 2.4326, 2.4207, 2.2999, 1.9328, 2.4741, 1.6794, 2.0367, 1.2015, 1.3836, 1.211, 1.4672, 1.8521, 0.9334, 1.214, 1.9579, 2.0721, 0.5959, 1.2586, 0.884, 1.9167, 1.2266, 0.9199, 0.9713, 0.486, 1.2881, 1.695, 2.3913, 2.3897, 2.3893, 2.3884, 2.3881, 2.3878, 2.3875, 2.3875, 2.3869, 2.3868, 2.3864, 2.3861, 2.385, 2.3846, 2.3843, 2.384, 2.384, 2.384, 2.3835, 2.3834, 2.3834, 2.3831, 2.3827, 2.3826, 2.3819, 2.3819, 2.3817, 2.3816, 2.3815, 2.3809, 2.3641, 2.356, 2.3036, 2.3403, 2.3539, 2.073, 2.3196, 2.2344, 2.1604, 2.0825, 2.3034, 2.1534, 1.9151, 1.9649, 2.1446, 1.8869, 1.6245, 1.2791, 1.5182, 1.6942, 1.4893, 1.4229, 1.2332, 1.9323, 1.9362, 1.0674, 0.8299, 1.1709, 1.5544, 1.5433, 0.4427, 0.601, 1.2284, 0.7287, 0.915, 1.3952, 0.7752, -0.0697, 2.0469, 2.0468, 2.046, 2.0456, 2.0449, 2.0443, 2.0438, 2.0438, 2.0437, 2.043, 2.0424, 2.0421, 2.0414, 2.0412, 2.0411, 2.0408, 2.0404, 2.04, 2.0395, 2.0393, 2.0389, 2.0389, 2.0387, 2.0386, 2.0384, 2.0378, 2.0375, 2.0373, 2.0365, 2.0354, 1.9826, 1.9816, 1.9419, 1.9761, 1.9309, 1.8479, 1.9683, 1.8447, 1.79, 1.6566, 1.8156, 1.7228, 1.4492, 1.6231, 1.4028, 1.4601, 1.8021, 1.6856, 1.6819, 1.4805, 1.4103, 0.9213, 0.9899, 1.2977, 0.9582, 1.0347, 1.283, 1.2129, 1.1874, 0.6269, 1.1492, 1.3338, 1.3937, 0.8545, 0.4206, 0.1239, 0.3332, 0.2245, 2.2589, 2.2589, 2.2575, 2.257, 2.2568, 2.2566, 2.2566, 2.2562, 2.2561, 2.2558, 2.2557, 2.2556, 2.2552, 2.2548, 2.2547, 2.2545, 2.2545, 2.2539, 2.2536, 2.2534, 2.2534, 2.253, 2.2528, 2.2523, 2.2517, 2.2516, 2.2515, 2.2514, 2.2514, 2.2512, 2.2423, 2.2448, 2.2265, 2.178, 1.9997, 2.1167, 1.9471, 2.1724, 2.1105, 2.1932, 2.1793, 1.6741, 2.0568, 1.8257, 1.6635, 1.7437, 1.9436, 1.943, 1.8568, 1.6507, 1.7769, 1.2843, 1.9071, 1.3268, 1.7345, 1.5988, 1.6765, 1.272, 1.39, 1.8051, 0.9468, 1.1231, 1.1099, 0.8178, 0.6589, 1.2989, 1.0853, 1.407, 1.3121, 0.4553, 0.7687, 0.3496, 0.975, 0.8705, 1.0892, -0.0281, 0.0679, -0.485, -0.2961, 2.3003, 2.2997, 2.2985, 2.2983, 2.2972, 2.2966, 2.2963, 2.2961, 2.2961, 2.2953, 2.2953, 2.295, 2.2949, 2.2948, 2.2946, 2.2946, 2.2945, 2.2941, 2.2938, 2.2938, 2.2937, 2.2936, 2.2934, 2.2923, 2.2922, 2.292, 2.2915, 2.2912, 2.291, 2.2908, 2.2881, 2.2817, 2.2827, 2.2904, 2.2848, 2.2315, 2.2635, 2.2125, 2.1149, 2.1347, 2.1808, 1.9812, 1.7202, 2.1765, 2.0907, 1.6491, 2.0905, 1.9774, 1.9978, 1.8673, 1.8155, 2.0763, 1.6889, 1.9466, 1.7257, 0.9896, 1.3604, 1.9032, 1.5155, 0.9624, 1.0702, 1.0362, 0.5172, 0.2232, 1.1758, 1.1894, 1.0612, 0.203, 0.7344, 0.3983, 0.7012, 2.956, 2.9559, 2.9558, 2.9554, 2.9554, 2.9554, 2.955, 2.9547, 2.9543, 2.9542, 2.9533, 2.9532, 2.953, 2.9528, 2.9526, 2.9524, 2.9521, 2.9519, 2.9518, 2.9516, 2.9513, 2.951, 2.9505, 2.9505, 2.9503, 2.9503, 2.9502, 2.9502, 2.9499, 2.9493, 2.9334, 2.9293, 2.935, 2.9217, 2.9276, 2.8141, 2.7072, 2.7404, 2.828, 2.2394, 2.4974, 2.7468, 2.5593, 1.5196, 1.8949, 2.7726, 2.7719, 2.7712, 2.771, 2.7709, 2.7703, 2.7697, 2.7694, 2.7694, 2.7689, 2.7688, 2.7684, 2.7683, 2.7682, 2.7681, 2.768, 2.768, 2.768, 2.7679, 2.7679, 2.7679, 2.7677, 2.7676, 2.7675, 2.7674, 2.7672, 2.7671, 2.7667, 2.7663, 2.7649, 2.7624, 2.7528, 2.7496, 2.6462, 2.6162, 2.548, 2.107, 2.0961, 2.5257, 2.5905, 1.9455, 2.2672, 1.8829, 2.6961, 2.5679, 2.1392, 2.1991, 2.4126, 1.7919, 2.0482, 1.8698, 2.3746, 0.809, 1.9075, 2.3711, 1.4871, 1.3531, 1.7806, 1.5609, 1.4524, 1.4952, 1.1585, 1.5228, -0.2645, 1.9955, 1.9946, 1.9941, 1.9939, 1.9939, 1.9939, 1.9934, 1.9933, 1.9926, 1.9915, 1.9915, 1.9914, 1.9912, 1.9904, 1.9903, 1.9902, 1.9896, 1.9893, 1.9892, 1.9886, 1.9884, 1.9879, 1.9876, 1.9875, 1.9871, 1.9866, 1.9855, 1.9854, 1.9854, 1.9849, 1.9846, 1.979, 1.896, 1.9167, 1.8166, 1.9368, 1.9378, 1.902, 1.6784, 1.7354, 1.6947, 1.7677, 1.5794, 1.6796, 1.3528, 1.2265, 1.0805, 1.1825, 1.3594, 0.8159, 1.3889, 1.3518, 1.6239, 0.9173, 0.843, 1.1789, 1.0521, 0.9411, 0.6837, 1.1024, 0.3335, 0.8116, 0.3608, 0.496, 0.4631, 0.2117, 0.4371, 0.2295, 0.7007, -0.1262, 0.5257, 0.1057]}, \"token.table\": {\"Topic\": [9, 8, 10, 7, 6, 10, 4, 2, 2, 3, 4, 5, 6, 7, 8, 10, 10, 2, 3, 4, 5, 6, 7, 8, 9, 10, 4, 3, 6, 7, 1, 2, 3, 4, 5, 7, 8, 9, 10, 2, 7, 8, 3, 4, 6, 2, 3, 4, 5, 10, 9, 7, 2, 2, 2, 6, 8, 2, 5, 6, 7, 10, 1, 2, 3, 4, 5, 6, 7, 8, 9, 10, 9, 2, 7, 8, 1, 1, 7, 1, 10, 3, 4, 6, 3, 4, 5, 6, 7, 9, 1, 2, 3, 4, 5, 6, 8, 9, 10, 6, 8, 1, 2, 3, 4, 5, 6, 8, 10, 2, 3, 4, 6, 7, 9, 10, 1, 4, 7, 8, 9, 4, 6, 2, 5, 8, 9, 10, 2, 3, 4, 5, 6, 7, 8, 9, 10, 10, 10, 10, 4, 5, 9, 4, 5, 8, 10, 10, 4, 7, 5, 2, 3, 4, 5, 8, 9, 2, 4, 7, 8, 9, 3, 4, 5, 8, 10, 2, 3, 4, 5, 6, 7, 8, 3, 3, 2, 3, 4, 5, 6, 7, 8, 9, 10, 3, 2, 3, 4, 5, 9, 10, 2, 3, 4, 6, 7, 10, 4, 3, 6, 1, 6, 1, 6, 7, 8, 9, 6, 8, 8, 2, 4, 5, 7, 7, 1, 2, 7, 9, 10, 4, 5, 9, 10, 6, 1, 2, 3, 4, 5, 6, 7, 8, 9, 10, 2, 7, 10, 4, 10, 2, 4, 5, 7, 10, 10, 2, 4, 7, 8, 2, 3, 5, 6, 7, 8, 9, 10, 4, 1, 2, 4, 5, 6, 9, 10, 3, 6, 9, 2, 3, 4, 8, 1, 10, 3, 9, 10, 2, 4, 5, 10, 2, 2, 3, 4, 5, 6, 7, 8, 9, 10, 2, 4, 6, 9, 10, 4, 10, 8, 9, 2, 3, 4, 6, 9, 10, 2, 5, 6, 10, 1, 6, 8, 1, 8, 3, 4, 6, 1, 7, 3, 2, 2, 9, 2, 10, 3, 5, 6, 9, 2, 4, 5, 6, 8, 10, 2, 3, 4, 5, 6, 7, 8, 9, 10, 7, 2, 3, 4, 5, 7, 8, 9, 10, 9, 3, 4, 6, 8, 10, 3, 4, 7, 5, 7, 8, 8, 10, 8, 4, 2, 4, 5, 6, 7, 8, 10, 8, 10, 4, 1, 1, 3, 1, 5, 9, 2, 4, 5, 6, 9, 10, 1, 7, 10, 2, 3, 4, 5, 6, 7, 8, 9, 10, 2, 2, 3, 4, 5, 6, 7, 8, 9, 10, 2, 3, 4, 5, 6, 7, 8, 10, 6, 5, 6, 2, 6, 2, 4, 6, 7, 8, 9, 2, 3, 4, 5, 6, 9, 3, 9, 9, 6, 4, 6, 9, 2, 3, 5, 7, 8, 10, 2, 4, 7, 2, 4, 6, 8, 9, 2, 6, 3, 3, 1, 9, 9, 5, 2, 3, 5, 6, 10, 4, 10, 2, 2, 3, 4, 5, 6, 7, 8, 9, 10, 5, 2, 10, 6, 4, 7, 2, 4, 2, 4, 5, 7, 3, 2, 5, 6, 10, 9, 6, 10, 8, 2, 4, 5, 6, 7, 8, 10, 6, 10, 3, 4, 10, 10, 3, 6, 5, 2, 4, 10, 2, 8, 10, 3, 2, 3, 4, 5, 6, 8, 9, 10, 6, 9, 3, 8, 9, 10, 3, 2, 4, 7, 8, 9, 6, 2, 4, 5, 6, 8, 10, 2, 3, 4, 5, 7, 8, 9, 5, 6, 7, 3, 4, 5, 6, 7, 10, 1, 5, 4, 6, 9, 1, 6, 7, 10, 10, 2, 7, 8, 9, 10, 2, 3, 4, 5, 6, 7, 8, 9, 10, 7, 5, 1, 2, 6, 9, 4, 5, 6, 7, 9, 10, 7, 2, 3, 4, 5, 6, 7, 8, 10, 2, 3, 4, 5, 6, 7, 8, 9, 10, 2, 3, 4, 5, 6, 7, 9, 10, 1, 2, 3, 5, 6, 9, 10, 2, 3, 4, 5, 6, 7, 8, 9, 10, 7, 3, 9, 2, 2, 2, 8, 9, 9, 8, 8, 3, 8, 5, 5, 3, 5, 9, 6, 8, 9, 8, 9, 6, 6, 8, 9, 6, 8, 9, 6, 9, 9, 1, 2, 5, 6, 10, 3, 6, 9, 10, 6, 2, 4, 1, 8, 5, 1, 1, 2, 5, 4, 6, 4, 5, 6, 8, 9, 6, 9, 10, 1, 2, 5, 6, 8, 9, 4, 2, 4, 5, 7, 8, 9, 10, 4, 5, 8, 2, 1, 1, 1, 2, 3, 4, 5, 6, 7, 8, 10, 7, 2, 3, 4, 5, 7, 8, 9, 10, 5, 9, 10, 5, 8, 1, 2, 3, 4, 5, 7, 8, 10, 8, 9, 2, 4, 6, 8, 9, 10, 2, 4, 5, 6, 7, 10, 2, 4, 6, 9, 10, 1, 2, 3, 4, 5, 6, 8, 10, 5, 2, 4, 5, 7, 8, 9, 2, 3, 4, 5, 6, 7, 9, 10, 5, 5, 5, 2, 2, 3, 5, 7, 9, 8, 5, 7, 2, 5, 7, 5, 2, 9, 10, 7, 2, 4, 5, 6, 7, 8, 9, 10, 6, 7, 10, 10, 7, 3, 4, 5, 6, 9, 2, 3, 4, 5, 6, 7, 8, 9, 10, 1, 2, 3, 4, 5, 6, 7, 8, 9, 10, 5, 6, 5, 10, 2, 4, 7, 9, 2, 3, 4, 5, 6, 7, 8, 9, 10, 2, 4, 5, 6, 7, 8, 9, 10, 9, 8, 1, 2, 3, 4, 5, 6, 7, 9, 10, 10, 9, 5, 6, 4, 2, 7, 6, 5, 9, 2, 3, 4, 5, 6, 7, 8, 9, 10, 2, 3, 4, 5, 6, 7, 8, 1, 7, 1, 6, 8, 9, 6, 7, 8, 9, 2, 9, 2, 3, 4, 5, 6, 7, 9, 10, 3, 10, 1, 2, 3, 4, 5, 6, 7, 9, 10, 9, 3, 6, 8, 3, 8, 8, 4, 2, 3, 4, 5, 7, 10, 2, 3, 4, 5, 6, 7, 8, 9, 10, 4, 5, 7, 8, 2, 3, 4, 5, 6, 7, 8, 9, 10, 2, 6, 8, 1, 2, 3, 4, 5, 6, 8, 9, 10, 2, 3, 6, 7, 8, 10, 2, 6, 7, 9, 2, 4, 6, 10, 2, 3, 4, 5, 6, 9, 10, 4, 4, 5, 6, 2, 2, 3, 6, 8, 9, 8, 2, 5, 6, 7, 10, 2, 5, 7, 10, 3, 7, 6, 8, 9, 2, 4, 5, 6, 8, 9, 10, 10, 3, 5, 6, 10, 2, 3, 4, 7, 10, 4, 5, 7, 8, 10, 4, 4, 7, 8, 2, 4, 6, 2, 3, 5, 7, 7, 2, 3, 2, 4, 5, 9, 2, 6, 3, 4, 8, 6, 6, 4, 8, 2, 3, 4, 5, 6, 7, 8, 9, 10, 1, 2, 3, 4, 6, 8, 8, 2, 5, 6, 8, 1, 2, 4, 5, 6, 7, 8, 9, 1, 8, 8, 8, 2, 4, 5, 6, 7, 8, 2, 3, 5, 6, 7, 9, 10, 2, 1, 2, 3, 4, 5, 6, 7, 10, 2, 4, 5, 6, 9, 10, 4, 5, 10, 4, 2, 6, 8, 3, 4, 6, 7, 8, 3, 4, 2, 4, 5, 7, 8, 2, 3, 4, 5, 7, 10, 4, 6, 8, 3, 4, 6, 10, 3, 7, 4, 9, 3, 4, 5, 8, 10, 2, 5, 6, 7, 9, 10, 9, 2, 8, 8, 9, 9, 2, 4, 3, 5, 7, 8, 9, 10, 9, 1, 3, 9, 1, 3, 9, 7, 9, 5, 6, 8, 10, 2, 5, 7, 8, 2, 3, 5, 6, 7, 9, 10, 2, 5, 10, 2, 3, 4, 5, 7, 10, 5, 5, 2, 4, 5, 6, 7, 9, 2, 2, 3, 7, 2, 9, 3, 4, 5, 6, 8, 9, 10, 6, 8, 3, 4, 6, 10, 9, 9, 3, 7, 3, 3, 5, 10, 4, 5, 7, 8, 9, 10, 4, 7, 2, 4, 5, 6, 7, 8, 10, 6, 8, 7, 1, 2, 5, 7, 8, 9, 10, 1, 2, 3, 4, 5, 7, 8, 9, 2, 4, 6, 9, 10, 2, 4, 6, 7, 10, 3, 3, 1, 2, 3, 5, 6, 9, 10, 7, 5, 4, 6, 9, 10, 3, 4, 5, 7, 9, 10, 6, 7, 9, 2, 2, 3, 4, 5, 6, 7, 10, 3, 9, 2, 3, 4, 5, 6, 7, 8, 9, 10, 2, 3, 6, 7, 9, 4, 2, 3, 7, 10, 2, 4, 8, 7, 2, 3, 10, 8, 2, 3, 4, 5, 6, 7, 8, 9, 10, 2, 3, 5, 6, 7, 9, 2, 3, 4, 5, 10, 1, 2, 4, 5, 6, 7, 8, 9, 1, 2, 3, 4, 5, 6, 7, 8, 9, 10, 3, 5, 7, 1, 2, 3, 4, 5, 6, 7, 8, 10, 4, 5, 8, 10, 1, 2, 3, 4, 5, 6, 7, 8, 10, 8, 5, 2, 3, 4, 5, 7, 8, 10, 2, 4, 5, 7, 8, 10, 2, 5, 6, 7, 10, 4, 5, 10, 4, 6, 8, 2, 3, 4, 5, 6, 7, 8, 10, 2, 4, 5, 6, 7, 8, 9, 10, 6, 2, 3, 4, 5, 6, 8, 9, 10, 10, 2, 3, 4, 6, 10, 2, 2, 3, 4, 5, 6, 7, 8, 9, 10, 5, 1, 1, 1, 1, 4, 2, 3, 4, 5, 6, 8, 9, 10, 10, 1, 2, 4, 5, 6, 7, 9, 10, 6, 1, 2, 3, 4, 5, 6, 7, 8, 9, 10, 1, 2, 3, 4, 5, 6, 7, 9, 10, 6, 3, 10, 8, 2, 6, 10, 1, 2, 3, 4, 5, 7, 8, 10, 2, 3, 4, 5, 6, 7, 8, 9, 10, 2, 3, 4, 5, 6, 7, 8, 10, 1, 1, 8, 10, 2, 5, 6, 7, 8, 2, 3, 4, 5, 6, 8, 9, 10, 4, 4, 2, 3, 4, 5, 7, 8, 9, 10, 2, 2, 4, 5, 9, 10, 7, 9, 1, 2, 3, 4, 5, 6, 7, 8, 9, 10, 2, 3, 5, 6, 10, 5, 6, 8, 9, 10, 1, 2, 3, 4, 5, 6, 7, 8, 10, 1, 2, 3, 4, 5, 6, 7, 8, 9, 10, 6, 5, 7, 4, 9, 2, 7, 8, 10, 2, 4, 5, 6, 8, 10, 5, 5, 6, 3, 3, 4, 2, 3, 7, 9, 10, 2, 7, 7, 2, 7, 7, 2, 3, 4, 5, 7, 9, 1, 2, 4, 5, 6, 7, 8, 9, 10, 2, 3, 4, 5, 6, 7, 8, 9, 10, 7, 1, 1, 1, 1, 2, 4, 5, 6, 7, 8, 9, 10, 4, 7, 8, 2, 8, 9, 10, 6, 4, 3, 6], \"Freq\": [0.9924571327967412, 0.052027305880317384, 0.9439239781143296, 0.9937827012042719, 0.008499860701655202, 0.9859838413920035, 0.9851674548616476, 0.9918133266308751, 0.4717213039106422, 0.05791095864457229, 0.11582191728914458, 0.112448463387519, 0.1675482104474033, 0.01349381560650228, 0.00562242316937595, 0.05566198937682191, 0.9920161146893689, 0.3819968503523357, 0.025866775840061428, 0.04480495100867783, 0.08683846174877764, 0.26790589262920766, 0.036028723491514134, 0.0009238134228593367, 0.04157160402867015, 0.11455286443455776, 0.998709150768819, 0.08672393476341218, 0.8554133565300202, 0.05518795848580775, 0.9976349882905535, 0.33728796471792133, 0.020218022623433914, 0.0016046049701138026, 0.5237430622451452, 0.014762365725046984, 0.009627629820682816, 0.000641841988045521, 0.09210432528453227, 0.2662734790879949, 0.7209866510690325, 0.010241287657230575, 0.8217162591251236, 0.11450144594366476, 0.06398610214498913, 0.37736080814734296, 0.4901661742839153, 0.00940044717804769, 0.10071907690765382, 0.021486736406966148, 0.9880717524274246, 0.9897424653328551, 0.9827170821948367, 0.993613901094591, 0.940259092848887, 0.014370772161445871, 0.04516528393597274, 0.2635402837614511, 0.00635036828340846, 0.6985405111749305, 0.01587592070852115, 0.01270073656681692, 0.005886115753740329, 0.33001488992637446, 0.2128811864269419, 0.014715289384350821, 0.3235401625972601, 0.0027468540184121533, 0.05356365335903699, 0.017069735685846955, 0.024133074590335347, 0.015500104818182866, 0.9876634748090689, 0.1397003962390518, 0.736386834412629, 0.12075796963036681, 0.9996565811702968, 0.9960962443723289, 0.9903879537868143, 0.9949763367164765, 0.9932706989158917, 0.030627219113461765, 0.003403024345940196, 0.9630558899010755, 0.024872374041326067, 0.12174372557070127, 0.0746171221239782, 0.6453726527565132, 0.12043465325273674, 0.013090723179645297, 0.020293183986118703, 0.244400520180647, 0.23204814731953127, 0.151757723722279, 0.04235099266668251, 0.2708698905973236, 0.013234685208338285, 0.01147006051389318, 0.013234685208338285, 0.99074593924847, 0.9947761869477012, 0.004865563490564322, 0.32923646286151914, 0.09487848806600428, 0.03000430819181332, 0.04135728966979674, 0.2757152644653116, 0.003243708993709548, 0.22057221157224927, 0.23247267224350363, 0.2180659150903851, 0.12180258320363851, 0.1833587274033268, 0.20169460014365947, 0.001964557793607073, 0.03994600847001048, 0.9974030134985372, 0.853519912393281, 0.04944170224229371, 0.02602194854857564, 0.07025926108115423, 0.9863796216819974, 0.9876186643537523, 0.0016053416502466152, 0.7207984009607302, 0.006421366600986461, 0.03692285795567215, 0.2327745392857592, 0.5413070791533264, 0.16057913352873798, 0.02892151060867055, 0.127340979545639, 0.04618808410638431, 0.04100811205707018, 0.001294993012328532, 0.012949930123285321, 0.03971311904474165, 0.9972507421561463, 0.9962295181873903, 0.9959194136104694, 0.01164968998579664, 0.8882888614169938, 0.09902236487927145, 0.1100075930646908, 0.5658949156751211, 0.008919534572812768, 0.31416582884240524, 0.9948721533682081, 0.9912032089218268, 0.9871784869514958, 0.9956608932371293, 0.06293282621838035, 0.06293282621838035, 0.002927108196203737, 0.7712930096996847, 0.023416865569629897, 0.07610481310129716, 0.17227828097936462, 0.015053442027323123, 0.5619951690200633, 0.08028502414572332, 0.17060567630966206, 0.4359958760855142, 0.13741504265730214, 0.2867054593714082, 0.01357185606491873, 0.1272361506086131, 0.008066860494159398, 0.7313953514704521, 0.03361191872566416, 0.10083575617699247, 0.020167151235398494, 0.008066860494159398, 0.0994912794279659, 0.9957668556610306, 0.9957668624366167, 0.3943519224844779, 0.2153908306410601, 0.026411560628290667, 0.009107434699410576, 0.12295036844204277, 0.1489065573353629, 0.013205780314145333, 0.06511815810078561, 0.0040983456147347585, 0.9930389502662577, 0.03304409327738211, 0.004310099123136797, 0.12858462384024777, 0.40658601728257115, 0.4094594166979957, 0.01724039649254719, 0.11926322070544829, 0.2718092006775333, 0.012481034724988774, 0.5408448380828469, 0.05269770217217482, 0.0013867816361098637, 0.988191427779679, 0.9945394443779394, 0.992134693458361, 0.9867042783916729, 0.012786664514794897, 0.998466040062579, 0.17166359833898398, 0.019507227083975454, 0.8056484785681862, 0.0019507227083975453, 0.032415495626910366, 0.9649843698164855, 0.9915085341491323, 0.0878933292022133, 0.12475182209346403, 0.7796988880841502, 0.0028352686839423643, 0.9903736591391623, 0.997635733130272, 0.07213280122288371, 0.1262324021400465, 0.7790342532071441, 0.021639840366865115, 0.24727642880966832, 0.6944064096709863, 0.04911655092794782, 0.008468370849646176, 0.9937261851750592, 0.03449303641071466, 0.26307375531157, 0.020078036119669726, 0.01184089309621548, 0.014929821730010822, 0.13951660995975632, 0.016474286046908496, 0.004118571511727124, 0.03346339353278288, 0.4623096521913696, 0.9890547986529339, 0.9916524707703601, 0.9870323899587039, 0.9119526369116622, 0.08211895782616863, 0.3395909380165212, 0.001120762171671687, 0.11431774151051209, 0.02017371909009037, 0.5245166963423495, 0.9952613360478584, 0.04413509025966513, 0.6334683543151937, 0.2466372690981287, 0.07528927161942876, 0.15855878330839804, 0.005405413067331751, 0.34324372977556616, 0.004504510889443126, 0.12252269619285303, 0.0963965330340829, 0.19819847913549754, 0.07027036987531277, 0.9938267470810048, 0.015463696744895715, 0.05817295442127436, 0.025036461396497827, 0.002209099534985102, 0.24815551442999315, 0.5125110921165438, 0.13770053768073803, 0.8048001673453056, 0.18626379418908817, 0.003514411211114871, 0.9879113612169187, 0.9918923377937224, 0.9145444189858632, 0.08256303782511265, 0.01639680659254928, 0.9838083955529568, 0.9021243838877511, 0.09344714733498617, 0.9884348583365038, 0.01682709149607483, 0.6520497954728997, 0.0014022576246729025, 0.3281282841734592, 0.9898479251249751, 0.05440451863143453, 0.020924814858244052, 0.23226544492650897, 0.10776279651995686, 0.003138722228736608, 0.021971055601156253, 0.0010462407429122026, 0.24063537086980658, 0.31701094510239736, 0.0010698700237065034, 0.6194547437260656, 0.3049129567563535, 0.002139740047413007, 0.07061142156462924, 0.9309587508482402, 0.06649705363201716, 0.07187917242317444, 0.9213603010606907, 0.7410163849191329, 0.019641398154483042, 0.02678372475611324, 0.07588722014232084, 0.005356744951222648, 0.13124025130495487, 0.8356559871598597, 0.13443161532571654, 0.007266573801390084, 0.02179972140417025, 0.7196919816396565, 0.08138423739162413, 0.19787540071689005, 0.9969252627433476, 0.9963972350559529, 0.007184616846663469, 0.007184616846663469, 0.9771078911462318, 0.9971605898503095, 0.9966139592295595, 0.9835107408253188, 0.9963417628230821, 0.9469293995757135, 0.04782471715028856, 0.9932677919642915, 0.9948247996173315, 0.2205488509788594, 0.19833529764285918, 0.514085091490291, 0.06505397762685781, 0.04459356069968939, 0.19200005301255155, 0.519019498143607, 0.11024519172978765, 0.003716130058307449, 0.13006455204076073, 0.42299918208191906, 0.04829518220620335, 0.18901735104841658, 0.14738357328444818, 0.005828728886955578, 0.0886799466372527, 0.008743093330433365, 0.0070777422198746295, 0.08201854219501777, 0.9941075367260666, 0.14220056345140925, 0.0400052736052558, 0.2654895430166976, 0.17966004691814877, 0.022184742635641852, 0.00036368430550232545, 0.1400184576183953, 0.2098458442748418, 0.9882644989051785, 0.5076027816858116, 0.02906122795911135, 0.0019374151972740901, 0.044560549537304074, 0.4146068522166553, 0.9916318621920395, 0.2011524489947549, 0.7970191375263873, 0.17019083180992406, 0.6999784211537199, 0.1290156305655876, 0.05046130675645029, 0.9443473121564268, 0.9937116253365567, 0.9952974251022956, 0.043592013692030654, 0.003006345771864183, 0.5546707949089418, 0.0020042305145761222, 0.1182496003599912, 0.04910364760711499, 0.22948439391896597, 0.9933818877737646, 0.9963950411279698, 0.9940757079746181, 0.9988357633882038, 0.9988357652852476, 0.9845596406182244, 0.9987963425924635, 0.3276897718701394, 0.6666791910461457, 0.3537984723534635, 0.19795118790646715, 0.10557396688344915, 0.04775965168536985, 0.04084707052038211, 0.25325183722636907, 0.06633522267346847, 0.9313465263354974, 0.9821497611927874, 0.02789094623376141, 0.3431029100184935, 0.0004427134322819272, 0.06950600886826257, 0.027448232801479483, 0.5197455694989824, 0.005312561187383126, 0.004427134322819271, 0.0013281402968457815, 0.9885263113239279, 0.33272710725470056, 0.05346384287511428, 0.20930525721321336, 0.020759896435549693, 0.10095566074822111, 0.04834496430196504, 0.008815846431534801, 0.030713271438895438, 0.1945173857796711, 0.23066382733946442, 0.08404030918569633, 0.3120219989979577, 0.02950351279923382, 0.24765069834508388, 0.02771542111443177, 0.03933801706564509, 0.02950351279923382, 0.9970973187788884, 0.9970792997704687, 0.993110334536273, 0.005181905527375433, 0.9845620502013321, 0.33405347533616764, 0.027531879835398433, 0.0018354586556932288, 0.03303825580247812, 0.0018354586556932288, 0.6020304390673791, 0.764104309775376, 0.1915409725312937, 0.007208531224296, 0.005148950874497143, 0.004119160699597714, 0.028834124897184, 0.9878783639971305, 0.9967446035355109, 0.9957764221702347, 0.9921719295666244, 0.01355898200630523, 0.006779491003152615, 0.9762467044539765, 0.4502986014446794, 0.04370545249316007, 0.1854170711831033, 0.20859420508099122, 0.005297630605231523, 0.10661481593028439, 0.14026149914714606, 0.014764368331278532, 0.8440297229380895, 0.18490225063886506, 0.15800737781866653, 0.1731357437800282, 0.07900368890933326, 0.40342309230297835, 0.9914285653117184, 0.9914092900684495, 0.9969526471050111, 0.9957668416395897, 0.733647588194961, 0.2660975883412051, 0.9945902385306622, 0.9883123410643619, 0.8850136616228809, 0.03327119028657447, 0.03659830931523191, 0.003327119028657447, 0.03992542834388936, 0.9951910936464696, 0.993705644161382, 0.9917033367870193, 0.5952970222437549, 0.02333022463913578, 0.07676396494167256, 0.08955795909861798, 0.06020703132680201, 0.0421449219287614, 0.011288818373775376, 0.051928564519366734, 0.04891821295302663, 0.9950866806545423, 0.9924939472768871, 0.9846867263017426, 0.990867522714762, 0.9915773733250277, 0.9880348921356238, 0.9158807311820519, 0.07978055149669443, 0.9908713615311792, 0.9635641401758166, 0.03211880467252722, 0.998146043892156, 0.9863437405864741, 0.08101384234607509, 0.010801845646143345, 0.004050692117303754, 0.9033043421587372, 0.9900036649539378, 0.005857838953436249, 0.9899747831307261, 0.9981372399715044, 0.0776895896728171, 0.0035313449851280504, 0.6921436170850979, 0.005297017477692075, 0.10770602204640553, 0.0423761398215366, 0.070626899702561, 0.9920534085634585, 0.9955052616336854, 0.8086807218507306, 0.17136329582075005, 0.01925430290120787, 0.9972389740585826, 0.988838076994749, 0.9946992999190148, 0.9910282679980993, 0.8501671260799829, 0.0903913323705729, 0.0561892066087345, 0.940729760903682, 0.02536281218122672, 0.029974232577813394, 0.9879386093025252, 0.4944109019019768, 0.05319179358393681, 0.08524325894861669, 0.06069320037141508, 0.18753516968695672, 0.006137514644300401, 0.05250984751234788, 0.06069320037141508, 0.9203898073901979, 0.07612246527287352, 0.3278585147551569, 0.014332612666892107, 0.36906477617247174, 0.28665225333784217, 0.990177295985017, 0.1618195408184788, 0.0014578337010673764, 0.6137479881493655, 0.14724120380780503, 0.0743495187544362, 0.9930152813184879, 0.004540620383014863, 0.025297742133939954, 0.9353677989010619, 0.000648660054716409, 0.032433002735820456, 0.000648660054716409, 0.06550337044951479, 0.0016375842612378697, 0.06059061766580118, 0.6746847156300023, 0.12855036450717278, 0.05813424127394437, 0.009825505567427218, 0.9920897336207343, 0.9901221364489511, 0.9927625829759332, 0.2035541265175228, 0.4279094046499749, 0.2733865640819284, 0.001485796543923524, 0.07280403065225267, 0.020801151614929337, 0.9973528305037028, 0.993288852860813, 0.005809091622068095, 0.017427274866204285, 0.97592739250744, 0.005181541120480354, 0.767731676017839, 0.00949949205421398, 0.21676113687342813, 0.9988770497259979, 0.009881166328081639, 0.9782354664800823, 0.004940583164040819, 0.0024702915820204096, 0.004940583164040819, 0.21237959669908602, 0.10618979834954301, 0.07964234876215726, 0.03097202451861671, 0.3075079577205516, 0.13642439371295456, 0.016960870569718674, 0.007374291552051598, 0.1025026525735172, 0.9943708367214449, 0.9954659654756767, 0.9977845731800347, 0.33050335466692554, 0.10623322114294036, 0.5618557029337734, 0.01726673214168734, 0.0021583415177109174, 0.5892272343350805, 0.1467672232043424, 0.04316683035421835, 0.20072576114711532, 0.991368334151344, 0.03449754530624444, 0.4419997992362568, 0.026591857840230083, 0.009343085187107868, 0.3155087997800272, 0.07186988605467591, 0.011499181768748144, 0.08911865870779812, 0.08469735986832819, 0.08284267315588303, 0.03400258972816095, 0.0024729156165935236, 0.5483690379796139, 0.055022372469205896, 0.0006182289041483809, 0.03523904753645771, 0.15703014165368875, 0.008300935643098896, 0.04254229517088184, 0.12970211942342025, 0.002075233910774724, 0.3808054226271618, 0.32788695790240635, 0.006225701732324172, 0.10168646162796147, 0.00789306843263119, 0.1529282008822293, 0.0730108830018385, 0.14799503311183482, 0.06511781456920732, 0.024665838851972467, 0.5278489514322108, 0.2024583282594667, 0.007887986815303897, 0.43252461037249706, 0.2511009136205074, 0.05784523664556192, 0.0013146644692173162, 0.0039439934076519485, 0.0039439934076519485, 0.04206926301495412, 0.9950657263331968, 0.9552311706597298, 0.03925607550656424, 0.9931513169332922, 0.9863601457605955, 0.9913552891483584, 0.993813868494011, 0.9960159576844022, 0.9890055720918056, 0.9984395032221463, 0.9989073382200612, 0.98954694293306, 0.9944816045072941, 0.9875677293735216, 0.9961863719331934, 0.9902909162467719, 0.9939807283999448, 0.9900520190999839, 0.026262780499667845, 0.972864738509435, 0.9895584305945417, 0.18099518459082178, 0.812032449785849, 0.9907589204270041, 0.11187704820853255, 0.6712622892511952, 0.21556797093839197, 0.7244248920819928, 0.23328937202640446, 0.03990476100451655, 0.9915378608438313, 0.9966957100754106, 0.9945902386240995, 0.869996773363407, 0.07774439251332572, 0.010365919001776764, 0.037761562077901066, 0.0029616911433647895, 0.9955854474177879, 0.1123755425875929, 0.8315790151481874, 0.05394026044204459, 0.9942592388032931, 0.01769448104035935, 0.9731964572197642, 0.019676162658012034, 0.9772494120145977, 0.9931280029666332, 0.9963636649760452, 0.9982379981174633, 0.9946853207500487, 0.9897148829005732, 0.985645233027018, 0.9882507200776267, 0.01821291114901273, 0.006070970383004244, 0.1052301533054069, 0.8667996602400504, 0.003372761323891247, 0.3412112815351684, 0.4199523465048226, 0.2382421965748513, 0.8928649677191918, 0.05227959350461057, 0.03172020280055023, 0.015860101400275117, 0.0017622334889194574, 0.005286700466758372, 0.9905617939338816, 0.0065374640521449565, 0.129932098036381, 0.5279002222107052, 0.03432168627376102, 0.023698307189025467, 0.0032687320260724783, 0.27457349019008814, 0.0946589729557271, 0.8983997069616282, 0.005163216706676024, 0.9837276245386893, 0.9988558018223566, 0.9966571474315631, 0.011156254480046295, 0.01599063142139969, 0.016362506570734566, 0.04574064336818981, 0.5485158452689428, 0.0063218775386929, 0.0074375029866975305, 0.008925003584037037, 0.33952201134274224, 0.9904643327857283, 0.01792973948216032, 0.0064034783864858275, 0.08708730605620725, 0.8170838421155916, 0.024333217868646145, 0.02561391354594331, 0.015368348127565986, 0.005122782709188662, 0.09465355447677708, 0.879489277013387, 0.02563533767079379, 0.9896867760573642, 0.9954961087605936, 0.028924434657009005, 0.00033633063554661634, 0.001008991906639849, 0.725801511509598, 0.16110237442682923, 0.056839877407378156, 0.012107902879678188, 0.01378955605741127, 0.9941629419895374, 0.9968183589027072, 0.1490156151341935, 0.006008694158636835, 0.007210432990364202, 0.018026082475910504, 0.27519819246556704, 0.5443876907724973, 0.15223517038592385, 0.023541521193699563, 0.004708304238739912, 0.09259665002855161, 0.0015694347462466376, 0.7266482875121931, 0.013730052925319003, 0.13043550279053054, 0.05492021170127601, 0.7963430696685022, 0.003432513231329751, 0.019786842251496153, 0.26654040444662463, 0.28283545100668034, 0.00465572758858733, 0.01396718276576199, 0.38526145795560157, 0.00931145517717466, 0.017458978457202488, 0.9851501059067608, 0.12049884713921655, 0.20500453214593983, 0.004694760278151294, 0.6463119982921615, 0.0015649200927170981, 0.018779041112605175, 0.6180437506209526, 0.16274252472682726, 0.0021591048056627165, 0.14573957438223337, 0.00026988810070783956, 0.00026988810070783956, 0.0010795524028313582, 0.06936124188191477, 0.9935933987550097, 0.9932627506149727, 0.9936394084074357, 0.9927821379245492, 0.9123919925602451, 0.013180622685461003, 0.005858054526871557, 0.02343221810748623, 0.04393540895153668, 0.9964758960119428, 0.005697597950830906, 0.9913820434445776, 0.01875186022348167, 0.09844726617327877, 0.8813374305036386, 0.9840357702948457, 0.003778870161827369, 0.6688600186434444, 0.32498283391715377, 0.9961523219697556, 0.17810396518979202, 0.003991125270359485, 0.04440126863274927, 0.06385800432575175, 0.26141870520854626, 0.0034922346115645493, 0.0019955626351797423, 0.4425160143511079, 0.14017158823376769, 0.13033498555069625, 0.7279085985472847, 0.9974365143522311, 0.9918768882384759, 0.026761706089262965, 0.005947045797613993, 0.04460284348210494, 0.9158450528325548, 0.0029735228988069964, 0.2956666315240735, 0.012068025776492798, 0.046009348272878794, 0.07542516110307998, 0.027153057997108796, 0.008296767721338798, 0.0022627548330923994, 0.5068570826126975, 0.026398806386077996, 0.002760518161551922, 0.28295311155907205, 0.15493408181710164, 0.009661813565431727, 0.10938553215149492, 0.1639057658421454, 0.04692880874638267, 0.007936489714461776, 0.005521036323103844, 0.21566548137124392, 0.9938811610864539, 0.9937009431101669, 0.9835963189881723, 0.9907916276903463, 0.02394195077181973, 0.05985487692954932, 0.5413541091183683, 0.3737604537156302, 0.23936600138523317, 0.014784370673793812, 0.0007040176511330387, 0.06476962390423956, 0.01619240597605989, 0.15910798915606675, 0.009152229464729503, 0.43578692605135094, 0.05984150034630829, 0.0324057111299595, 0.4166448573851935, 0.2193172235402616, 0.01736020239104973, 0.038192445260309404, 0.000578673413034991, 0.026618976999609585, 0.24882956760504613, 0.9911210388409779, 0.9930468015442241, 0.001720033066022605, 0.4884893907504198, 0.2552529069977546, 0.03302463486763402, 0.007912152103703983, 0.05882513085797309, 0.000688013226409042, 0.005160099198067815, 0.1489548635175576, 0.9918669045948911, 0.9947425223939064, 0.992202289678157, 0.9845509085234782, 0.9915393885486846, 0.012824147914562137, 0.9831846734497639, 0.9910464917570414, 0.9288303277797385, 0.06835547866777296, 0.07213884190815448, 0.0005134437146487864, 0.3280905336605745, 0.3465745073879308, 0.001283609286621966, 0.06341029875912511, 0.001540331143946359, 0.0187406955846807, 0.16763937283282873, 0.029755253643577975, 0.16509366537727133, 0.20060800037121923, 0.15357550267653147, 0.3090706991365196, 0.1410974930840633, 0.0009598468917283217, 0.016225513515132402, 0.9816435676655104, 0.9985000702260198, 0.012491941591138105, 0.9712484587109876, 0.01561492698892263, 0.01229191852304782, 0.17208685932266946, 0.811266622521156, 0.003072979630761955, 0.010682762354840199, 0.9881555178227184, 0.090702607123852, 0.048515347996478976, 0.0949213330365893, 0.025312355476423815, 0.4165991838828086, 0.13710859216396232, 0.002109362956368651, 0.181405214247704, 0.005802654179869475, 0.9922538647576803, 0.017059761565630053, 0.5820389240038488, 0.09984978092824648, 0.03763182698300747, 0.11640778480076977, 0.08279001936261643, 0.04816873853824956, 0.0030105461586405974, 0.013045700020775923, 0.9897108180599344, 0.453893972525738, 0.19977727663984945, 0.34521513403365983, 0.8229184971381884, 0.17324599939751337, 0.9978729583318959, 0.9948339622597393, 0.36056153220895615, 0.0060700594647972415, 0.0904438860254789, 0.42247613874988804, 0.005463053518317518, 0.11411711793818814, 0.18661994312927505, 0.012967548918348417, 0.0851347776813309, 0.33574675569028184, 0.009866613307439013, 0.16773242622646323, 0.005919967984463407, 0.025371291361986032, 0.17055145860001722, 0.7909718588168565, 0.03206642670879148, 0.12826570683516592, 0.04703075917289417, 0.14144780700692533, 0.03401315425539664, 0.1421515274397956, 0.24114153499688099, 0.07717467413810686, 0.12502766357328557, 0.0018765878209874008, 0.04785298943517872, 0.18930079644210404, 0.060350715849897, 0.9278922561921663, 0.9950301480964007, 0.996905239770897, 0.522573464629046, 0.016857208536420837, 0.005394306731654668, 0.006742883414568335, 0.20565794414433422, 0.004045730048741001, 0.02697153365827334, 0.21172653921744572, 0.16372986300774253, 0.08684014833559825, 0.5943122651717505, 0.0018091697569916302, 0.02351920684089119, 0.12935563762490154, 0.06504076589456106, 0.006294267667215587, 0.44269682592749626, 0.482560521153195, 0.14245613863701337, 0.07318847489608027, 0.4247545418076087, 0.3594076892218227, 0.07788602672703047, 0.1385472590817369, 0.14903191652576023, 0.19995739553958783, 0.3916768459445859, 0.029207260022636426, 0.014229177959745952, 0.9911249839929276, 0.0295229956631215, 0.2420885644375963, 0.7262656933127889, 0.9903034988316026, 0.008070086573739959, 0.6388818537544134, 0.00941510100269662, 0.17888691905123577, 0.16543677476166918, 0.9920903620472943, 0.0632412426568515, 0.11945568057405284, 0.10774433934130256, 0.021080414218950502, 0.6886268644857164, 0.052863610064245975, 0.09251131761243046, 0.08370071593505614, 0.7687249963509103, 0.008913840500966158, 0.9894362956072436, 0.020964086832297047, 0.976197260756093, 0.0018229640723736564, 0.005359635247833686, 0.07771471109358843, 0.24654322140034954, 0.6324369592443749, 0.024118358615251585, 0.005359635247833686, 0.010719270495667371, 0.9938482336478163, 0.015916395456552424, 0.022548226896782604, 0.12600479736437337, 0.8342843951809563, 0.011678423794209507, 0.002335684758841902, 0.6306348848873135, 0.11678423794209508, 0.23823984540187396, 0.09774448584288221, 0.6528952064068249, 0.1679686795552442, 0.07591804725660754, 0.005693853544245566, 0.9941278717441127, 0.9505569788534872, 0.0413285642979777, 0.006888094049662951, 0.9979705851553657, 0.0016857611235732528, 0.9892422810586224, 0.8604552339780783, 0.005295109132172789, 0.13237772830431974, 0.9891798412190406, 0.9955724017226435, 0.9891951606322352, 0.9827255254262441, 0.005913061117707674, 0.056174080618222905, 0.9342636565978125, 0.9965476301070041, 0.13271173723005755, 0.8611517171372624, 0.9615072314505037, 0.018141645876424597, 0.009070822938212299, 0.9905104163294803, 0.9843070796812914, 0.9900671609758165, 0.9911527575943115, 0.585013853144479, 0.10480424388197714, 0.0008590511793604683, 0.00515430707616281, 0.2199171019162799, 0.012885767690407024, 0.0008590511793604683, 0.038657303071221075, 0.031784893636337325, 0.003296910410865416, 0.01703403712280465, 0.03187013397169902, 0.114842379311812, 0.053849536710801796, 0.7786203420327158, 0.9989234684670277, 0.05583210765824872, 0.008374816148737307, 0.3042849867374555, 0.6309028165382105, 0.23492141972471534, 0.03646230461359218, 0.06563214830446593, 0.003646230461359218, 0.375040847454091, 0.0010417801318169195, 0.23752587005425763, 0.045317435734035995, 0.9559532019518295, 0.03993538180477617, 0.9990044424908258, 0.9917342329895162, 0.000803807040953458, 0.10208349420108917, 0.06671598439913702, 0.728249179103833, 0.04420938725244019, 0.05867791398960244, 0.323429256642858, 0.11415150234453811, 0.04920323376919746, 0.2040294093629388, 0.2814424971598095, 0.024929638443060047, 0.0032802155846131643, 0.9866233882537417, 0.004680683004471337, 0.42338905358627094, 0.27743684717411926, 0.004680683004471337, 0.004255166367701215, 0.2353107001338772, 0.0021275831838506076, 0.04765786331825361, 0.08759294980095561, 0.6032344656103547, 0.0016526971660557662, 0.13882656194868434, 0.1669224137716324, 0.0016526971660557662, 0.7794366690514357, 0.007423206371918435, 0.20784977841371619, 0.9814563838145718, 0.9843783801370787, 0.013415718979721686, 0.0016769648724652107, 0.9763690472685755, 0.026970414758414513, 0.6140955975762074, 0.3547646864376063, 0.0020746472891088087, 0.9957668635878766, 0.9958719170968332, 0.1738658623643935, 0.005519551186171222, 0.10211169694416761, 0.6706254691198035, 0.04691618508245539, 0.09704352315615933, 0.7300319582883804, 0.015438742320298076, 0.04190515772652335, 0.10586566162490109, 0.011027673085927198, 0.0835664528454374, 0.9132619489537087, 0.9978122990446541, 0.7206775854631735, 0.021707156188649806, 0.028219303045244747, 0.22792513998082295, 0.9957668576473213, 0.9948738299734828, 0.9953156908182146, 0.989578812940408, 0.1394015843082584, 0.018070575743663126, 0.7925238219006543, 0.02065208656418643, 0.028396619025756343, 0.07310940374266431, 0.04232649690364776, 0.5560162547797365, 0.06733760871034872, 0.14621880748532862, 0.11543590064631208, 0.9901354854706687, 0.9898603342820469, 0.9989031804327452, 0.9982454120193209, 0.9964467101050513, 0.9919497527074528, 0.9959765124331368, 0.9945494770392, 0.011688204968390355, 0.08571350310152927, 0.21233572359242475, 0.007792136645593569, 0.5298652919003627, 0.15389469875047299, 0.9963414497536748, 0.5653715302151306, 0.1561002600825999, 0.27809458098748885, 0.9969252624220598, 0.9947168906696546, 0.9931540628293458, 0.992843521772475, 0.9928743608488696, 0.14775596764389298, 0.048181293796921626, 0.009636258759384326, 0.7933853045226428, 0.003331409536198565, 0.03997691443438278, 0.8095325172962513, 0.14658201959273687, 0.04246484720746908, 0.01917767293240539, 0.06438218770164666, 0.012328504027974894, 0.45478481525418496, 0.28629526020519475, 0.12054537271797673, 0.9923801152047089, 0.9914659733297627, 0.9934882104979826, 0.8281001721040683, 0.025408931361631106, 0.010394562829758178, 0.07160698838277857, 0.06236737697854908, 0.0011549514255286865, 0.9945361126680073, 0.9865680734785394, 0.7194278015247254, 0.014056315837960886, 0.07283727297852459, 0.12267330185856773, 0.05366956956312338, 0.016612009626681048, 0.9918689552917429, 0.8617954447862408, 0.12311363496946297, 0.013190746603871033, 0.9583438759811588, 0.04095486649492132, 0.8674026333164023, 0.006789844487799627, 0.10694005068284412, 0.007355664861782929, 0.0016974611219499067, 0.0005658203739833022, 0.009618946357716138, 0.9834016296512698, 0.9962831299776134, 0.9776002590915706, 0.9641682719835062, 0.008384071930291358, 0.025152215790874073, 0.9953792123427924, 0.9912532388587592, 0.880508388511618, 0.11595172194391677, 0.9840574632799018, 0.023781750515322525, 0.05945437628830631, 0.9096519572110866, 0.024276273871433805, 0.04668514206044963, 0.8291281229935854, 0.022408868189015822, 0.02614367955385179, 0.05228735910770358, 0.986358351465462, 0.9869373662014244, 0.012497491265612072, 0.37909056839023286, 0.026557168939425654, 0.08071296442374463, 0.011976762462878236, 0.4879228881616046, 0.001562186408201509, 0.0024949970360720795, 0.9967513159107958, 0.9923086290840616, 0.0609555065681468, 0.0012439899299621796, 0.4092726869575571, 0.003731969789886539, 0.036075707968903206, 0.2662138450119064, 0.22143020753326798, 0.01806752063041888, 0.04818005501445035, 0.032120036676300236, 0.0020075022922687647, 0.8150459306611184, 0.04015004584537529, 0.014052516045881352, 0.032120036676300236, 0.012999407601896973, 0.3678832351336843, 0.39258210957728856, 0.20799052163035156, 0.016899229882466064, 0.015146240096581474, 0.7876044850222366, 0.15903552101410545, 0.03534122689202344, 0.0025243733494302455, 0.9955517236891644, 0.9948426806769969, 0.011081991696860848, 0.8677199498642044, 0.035462373429954716, 0.017731186714977358, 0.03878697093901297, 0.006649195018116509, 0.022163983393721696, 0.990963866801901, 0.9960991142561393, 0.10987164555312143, 0.022732064597197538, 0.8524524223949076, 0.015154709731465025, 0.002612282740329339, 0.12277728879547893, 0.031347392883952066, 0.3892301283090715, 0.04440880658559876, 0.40838686840481997, 0.13689788847717696, 0.8086526435628592, 0.05093874920081003, 0.9909687880476874, 0.24536379509743497, 0.7061127261168665, 0.0036896811292847363, 0.005995731835087697, 0.0018448405646423682, 0.01568114479946013, 0.021215666493387235, 0.9917088085955029, 0.9975689377493399, 0.4605665851394806, 0.10391040602923501, 0.026063336165748716, 0.04835434736013906, 0.20061910074951314, 0.005829956773917476, 0.0010288159012795547, 0.0027435090700788124, 0.1508929988543347, 0.009438388706403561, 0.0487650083164184, 0.19191390369687242, 0.7251828656086736, 0.025169036550409495, 0.992865377293414, 0.9613770965655429, 0.015100163820401198, 0.015100163820401198, 0.9950844632190213, 0.9835513378714542, 0.0011835756171738319, 0.015386483023259814, 0.9947121517063305, 0.9348479656521369, 0.006514619969701302, 0.05537426974246107, 0.9938005820063752, 0.09564409740441616, 0.00558505678273963, 0.15917411830807945, 0.19059006271098988, 0.006981320978424538, 0.004188792587054723, 0.008377585174109446, 0.004886924684897176, 0.5249953375775253, 0.3706824066334569, 0.34921431358518723, 0.012880855828961823, 0.21324972427947908, 0.05009221711262932, 0.005724824812871922, 0.6918892353891551, 0.1066703347346788, 0.00195725384834273, 0.1546230540190757, 0.04599546543605416, 0.006250756297187879, 0.10417927161979798, 0.4969351256264364, 0.1135554060655798, 0.013543305310573737, 0.04688067222890909, 0.05521501395849293, 0.16251966372688484, 0.012073571611803299, 0.009531767061949973, 0.017792631848973284, 0.16648819801539286, 0.19603667590743776, 0.11120394905608301, 0.12232434396169131, 0.019063534123899946, 0.02986620346077658, 0.31518376418181243, 0.00623824320975922, 0.0311912160487961, 0.9606894543029199, 0.0017799701976560667, 0.02883551720202828, 0.009967833106873974, 0.31327475478746775, 0.36240193224277517, 0.0035599403953121334, 0.03346343971593405, 0.023851600648591296, 0.22285226874653957, 0.0019680758818622847, 0.22239257465043819, 0.03542536587352113, 0.7380284556983568, 0.10224289194728817, 0.005801015145945428, 0.005801015145945428, 0.02465431437026807, 0.46480633856887743, 0.0021753806797295354, 0.0050758882527022495, 0.001450253786486357, 0.3886680147783437, 0.9940471810046628, 0.9976104438982428, 0.09055427006550391, 0.0807646192476116, 0.0403823096238058, 0.43319204869173494, 0.0012237063522365394, 0.006118531761182697, 0.34753260403517716, 0.19774380081363124, 0.0572700625307238, 0.48841638233749357, 0.03998098704975058, 0.006483403305364959, 0.2085494729892395, 0.08940352580180246, 0.13004149207534904, 0.030884854367895394, 0.09102904445274432, 0.6583350536314545, 0.994248953132717, 0.9940890013191496, 0.9866387447313367, 0.019028240528575855, 0.9799543872216564, 0.9984263425050245, 0.6677049988358079, 0.022224623694969, 0.14107804606371627, 0.06087614316448031, 0.04251667141646244, 0.04734811135015135, 0.004831439933688913, 0.011595455840853393, 0.6649523348145847, 0.005355320817298668, 0.008032981225948003, 0.11960216491967027, 0.17226281962310716, 0.009818088165047558, 0.005355320817298668, 0.015173408982346226, 0.9827224225704646, 0.35755252687730726, 0.01159629816899375, 0.06539023689738142, 0.004509671510164236, 0.147208562867504, 0.0016105969679157987, 0.01191841756257691, 0.3997501674367012, 0.9898108180655768, 0.8334141445663712, 0.11293929996460171, 0.0011127024627054355, 0.028930264030341324, 0.023366751716814148, 0.982930026783739, 0.005232273797092243, 0.023171498244265645, 0.09567586371825815, 0.0007474676852988918, 0.01719175676187451, 0.5583583609182722, 0.02466643361486343, 0.00635347532504058, 0.2687146328649516, 0.9951642121711383, 0.9996160285036907, 0.9996870254098273, 0.9985407966855804, 0.9985023685507532, 0.9862579004822085, 0.17468445702076668, 0.1689382577766625, 0.03907415485990833, 0.12641638337029168, 0.15629661943963333, 0.021260937203185417, 0.006895439092925, 0.30512317986193127, 0.9934136421941445, 0.006744394917976766, 0.19408869819510913, 0.09966716934343442, 0.008992526557302354, 0.3709417204887221, 0.0457120099996203, 0.0329725973767753, 0.24204883983405504, 0.981185295283206, 0.025041936232721128, 0.29271241018691807, 0.22537742609449016, 0.04173656038786855, 0.0717868838671339, 0.11463641919867895, 0.01446867426779443, 0.021703011401691646, 0.07568229617000163, 0.11630588161419368, 0.005601219734603421, 0.20767599323683453, 0.005170356678095465, 0.03705422285968417, 0.002154315282539777, 0.5540898906692308, 0.024990057277461418, 0.011202439469206842, 0.15209465894730828, 0.9913747466608182, 0.9928798287506194, 0.9910755864771224, 0.9894632769711398, 0.054167073535536577, 0.8125061030330487, 0.1315486071577317, 0.003588245976098704, 0.37855995047841323, 0.002691184482074028, 0.03498539826696236, 0.23233892695239106, 0.28885380107594566, 0.021529475856592224, 0.03767658274903639, 0.5096482989963147, 0.21497805121520577, 0.05416206173790423, 0.046288281837680266, 0.04724267940134377, 0.00023859939091587764, 0.003578990863738165, 0.004294789036485798, 0.1195382948488547, 0.5729911904817865, 0.005402579167049567, 0.01016956078503448, 0.04194943823826723, 0.050212206376107744, 0.26885776325434907, 0.004449182843452585, 0.046080822307187484, 0.9991572827492188, 0.011135043165270543, 0.8796684100563729, 0.10763875059761525, 0.031009309546621372, 0.15763065686199199, 0.6641160461234744, 0.0697709464798981, 0.07493916473766832, 0.2074740475658537, 0.01747743335473224, 0.22777042178425244, 0.10993869368299312, 0.22382390457511933, 0.015786068836532347, 0.010711975281932663, 0.18605009700198838, 0.9967198181244367, 0.9836808134445398, 0.10788023197966073, 0.09977362495228739, 0.2943321936092478, 0.08979626245705864, 0.2912142678294888, 0.011848117963084126, 0.003117925779758981, 0.10102079526419099, 0.987881862775693, 0.01760306658149767, 0.4048705313744464, 0.3026591770302664, 0.0011356817149353335, 0.2731314524419477, 0.30264065359515113, 0.6964381305623357, 0.0012469701684332186, 0.6266025096376924, 0.009975761347465749, 0.0268098586213142, 0.06546593384274398, 0.030550769126613857, 0.08666442670610869, 0.021198492863364716, 0.06983032943226024, 0.06172502333744432, 0.42724018636281297, 0.4079298954537593, 0.01206893181815856, 0.11827553181795387, 0.03379300909084396, 0.3466570853056878, 0.03774089235182891, 0.022364973245528243, 0.29633589550324924, 0.2949380846754037, 0.0467075971949698, 0.21844783918878183, 0.007185784183841508, 0.10275671382893356, 0.03161745040890263, 0.31904881776256294, 0.00934151943899396, 0.015808725204451316, 0.24934671117930032, 0.0003637740853182836, 0.38050769324292466, 0.11622582025919162, 0.010367561431571084, 0.07039028550908788, 0.06402423901601792, 0.035831747403850936, 0.011276996644866793, 0.004547176066478545, 0.30666155392331307, 0.9829150920213734, 0.011860080550552496, 0.9843866856958572, 0.990745183458299, 0.9965096174760296, 0.0034642178288776166, 0.9145535068236909, 0.0831412278930628, 0.9870572228148426, 0.8000881206981818, 0.0012366122421919347, 0.059357387625212865, 0.017312571390687086, 0.004946448968767739, 0.1174781630082338, 0.9927704340881055, 0.9217375011518412, 0.07045127397338914, 0.9929450958126819, 0.9947168882496085, 0.9901386217884083, 0.8508341998331106, 0.025247305633029987, 0.08584083915230196, 0.010098922253211995, 0.030296766759635985, 0.0048717321910580575, 0.9889616347847856, 0.9837457737243895, 0.10989238235743432, 0.883916988527189, 0.986400602330879, 0.7136919443500918, 0.023053306412385198, 0.1373592840404618, 0.012487207640041983, 0.09125267121569142, 0.021132197544686433, 0.03179677151822148, 0.15037223197158908, 0.009936491099444212, 0.4716521108536186, 0.009274058359481264, 0.01854811671896253, 0.05365705193699875, 0.001324865479925895, 0.2537117394058089, 0.1455477083624495, 0.029109541672489903, 0.1535779267548605, 0.15960059054916878, 0.09435506611082933, 0.32422006759359445, 0.0040151091962055034, 0.0020075545981027517, 0.08833240231652108, 0.9963971498570839, 0.9958652211521439, 0.9965057553575789, 0.9985847415560668, 0.9964387475403375, 0.0030901697906315496, 0.4635254685947324, 0.023176273429736622, 0.010815594267210423, 0.010043051819552536, 0.008497966924236761, 0.03862712238289437, 0.4411217376126537, 0.7320546609422616, 0.2516019675633367, 0.014721391719131402, 0.01809040307896421, 0.027135604618446316, 0.031658205388187366, 0.9226105570271748, 0.9859340782244806, 0.9949023350593907, 0.7619591983560091, 0.23478975298179353], \"Term\": [\"abaixo\", \"abandono\", \"abandono\", \"abismos\", \"abrem\", \"abrem\", \"absurdo\", \"acabar\", \"agora\", \"agora\", \"agora\", \"agora\", \"agora\", \"agora\", \"agora\", \"agora\", \"agosto\", \"ainda\", \"ainda\", \"ainda\", \"ainda\", \"ainda\", \"ainda\", \"ainda\", \"ainda\", \"ainda\", \"alguma\", \"alguns\", \"alguns\", \"alguns\", \"all\", \"alma\", \"alma\", \"alma\", \"alma\", \"alma\", \"alma\", \"alma\", \"alma\", \"almas\", \"almas\", \"almas\", \"amanh\\u00e3\", \"amanh\\u00e3\", \"amanh\\u00e3\", \"amar\", \"amar\", \"amar\", \"amar\", \"amar\", \"amarelo\", \"amargura\", \"amava\", \"amei\", \"amigo\", \"amigo\", \"amigo\", \"amigos\", \"amigos\", \"amigos\", \"amigos\", \"amigos\", \"amor\", \"amor\", \"amor\", \"amor\", \"amor\", \"amor\", \"amor\", \"amor\", \"amor\", \"amor\", \"amor p\\u00e1g\", \"amores\", \"amores\", \"amores\", \"and\", \"and the\", \"ando\", \"andresen\", \"animais\", \"ano\", \"ano\", \"ano\", \"anos\", \"anos\", \"anos\", \"anos\", \"anos\", \"anos\", \"antes\", \"antes\", \"antes\", \"antes\", \"antes\", \"antes\", \"antes\", \"antes\", \"antes\", \"ant\\u00f3nio\", \"ant\\u00f4nio\", \"apenas\", \"apenas\", \"apenas\", \"apenas\", \"apenas\", \"apenas\", \"apenas\", \"apenas\", \"aqui\", \"aqui\", \"aqui\", \"aqui\", \"aqui\", \"aqui\", \"aqui\", \"are\", \"areia\", \"areia\", \"areia\", \"areia\", \"areias\", \"arma\", \"asas\", \"asas\", \"asas\", \"asas\", \"asas\", \"assim\", \"assim\", \"assim\", \"assim\", \"assim\", \"assim\", \"assim\", \"assim\", \"assim\", \"atrav\\u00e9s\", \"ausente\", \"aus\\u00eancia\", \"ave\", \"ave\", \"ave\", \"azul\", \"azul\", \"azul\", \"azul\", \"barco\", \"barcos\", \"bebo\", \"beija\", \"beijo\", \"beijo\", \"beijo\", \"beijo\", \"beijo\", \"beijo\", \"bela\", \"bela\", \"bela\", \"bela\", \"bela\", \"beleza\", \"beleza\", \"beleza\", \"beleza\", \"beleza\", \"belo\", \"belo\", \"belo\", \"belo\", \"belo\", \"belo\", \"belo\", \"belo obra\", \"belo vol\", \"bem\", \"bem\", \"bem\", \"bem\", \"bem\", \"bem\", \"bem\", \"bem\", \"bem\", \"bem sei\", \"boca\", \"boca\", \"boca\", \"boca\", \"boca\", \"boca\", \"bom\", \"bom\", \"bom\", \"bom\", \"bom\", \"bom\", \"bomba\", \"bons\", \"borboleta\", \"borges\", \"borges\", \"borges poesia\", \"brasil\", \"brasil\", \"brasil\", \"brasil\", \"brasileira\", \"brasileira\", \"bras\\u00edlia\", \"brisa\", \"brisa\", \"brisa\", \"brisa\", \"busco\", \"but\", \"cabelo\", \"cabelo\", \"cabelo\", \"cabelo\", \"cabelos\", \"cabelos\", \"cabelos\", \"cabelos\", \"cabral\", \"cada\", \"cada\", \"cada\", \"cada\", \"cada\", \"cada\", \"cada\", \"cada\", \"cada\", \"cada\", \"cada instante\", \"cad\\u00e1ver\", \"caindo\", \"cais\", \"cais\", \"caminho\", \"caminho\", \"caminho\", \"caminho\", \"caminho\", \"cansado\", \"canta\", \"canta\", \"canta\", \"canta\", \"canto\", \"canto\", \"canto\", \"canto\", \"canto\", \"canto\", \"canto\", \"canto\", \"caras\", \"casa\", \"casa\", \"casa\", \"casa\", \"casa\", \"casa\", \"casa\", \"certeza\", \"certeza\", \"certeza\", \"chamado\", \"chamam\", \"chamas\", \"chamas\", \"che\", \"che\", \"choro\", \"choro\", \"chove\", \"chuva\", \"chuva\", \"chuva\", \"chuva\", \"chuvas\", \"ch\\u00e3o\", \"ch\\u00e3o\", \"ch\\u00e3o\", \"ch\\u00e3o\", \"ch\\u00e3o\", \"ch\\u00e3o\", \"ch\\u00e3o\", \"ch\\u00e3o\", \"ch\\u00e3o\", \"cidade\", \"cidade\", \"cidade\", \"cidade\", \"cidade\", \"cinco\", \"cinco\", \"cobre\", \"cobre\", \"coisa\", \"coisa\", \"coisa\", \"coisa\", \"coisa\", \"coisa\", \"comigo\", \"comigo\", \"comigo\", \"comigo\", \"completa\", \"completa\", \"completa\", \"completa p\\u00e1g\", \"completas\", \"comum\", \"comum\", \"comum\", \"con\", \"conhe\\u00e7o\", \"consciente\", \"consci\\u00eancia\", \"consigo\", \"consigo\", \"contar\", \"continua\", \"contra\", \"contra\", \"contra\", \"contra\", \"cor\", \"cor\", \"cor\", \"cor\", \"cor\", \"cor\", \"cora\\u00e7\\u00e3o\", \"cora\\u00e7\\u00e3o\", \"cora\\u00e7\\u00e3o\", \"cora\\u00e7\\u00e3o\", \"cora\\u00e7\\u00e3o\", \"cora\\u00e7\\u00e3o\", \"cora\\u00e7\\u00e3o\", \"cora\\u00e7\\u00e3o\", \"cora\\u00e7\\u00e3o\", \"cora\\u00e7\\u00f5es\", \"corpo\", \"corpo\", \"corpo\", \"corpo\", \"corpo\", \"corpo\", \"corpo\", \"corpo\", \"coxas\", \"crian\\u00e7a\", \"crian\\u00e7a\", \"crian\\u00e7a\", \"crian\\u00e7a\", \"crian\\u00e7a\", \"criatura\", \"cristo\", \"cristo\", \"cruz\", \"cruz\", \"cruz\", \"cujo\", \"cujo\", \"cultura\", \"curva\", \"c\\u00e9u\", \"c\\u00e9u\", \"c\\u00e9u\", \"c\\u00e9u\", \"c\\u00e9u\", \"c\\u00e9u\", \"c\\u00e9u\", \"dans\", \"dan\\u00e7a\", \"debaixo\", \"debolsillo\", \"debolsillo edi\\u00e7\\u00e3o\", \"deixem\", \"del\", \"dentes\", \"dentes\", \"dentro\", \"dentro\", \"dentro\", \"dentro\", \"dentro\", \"dentro\", \"des\", \"des\", \"descanso\", \"deus\", \"deus\", \"deus\", \"deus\", \"deus\", \"deus\", \"deus\", \"deus\", \"deus\", \"devo\", \"dia\", \"dia\", \"dia\", \"dia\", \"dia\", \"dia\", \"dia\", \"dia\", \"dia\", \"dias\", \"dias\", \"dias\", \"dias\", \"dias\", \"dias\", \"dias\", \"dias\", \"dif\\u00edcil\", \"digo\", \"dinheiro\", \"direito\", \"direito\", \"disse\", \"disse\", \"disse\", \"disse\", \"disse\", \"disse\", \"dizer\", \"dizer\", \"dizer\", \"dizer\", \"dizer\", \"dizer\", \"dizes\", \"dom\", \"dom quixote\", \"domingo\", \"dona\", \"dona\", \"dona\", \"dor\", \"dor\", \"dor\", \"dor\", \"dor\", \"dor\", \"dorme\", \"dorme\", \"dorme\", \"duas\", \"duas\", \"duas\", \"duas\", \"duas\", \"d\\u00favida\", \"editora\", \"editorial\", \"editorial presen\\u00e7a\", \"edi\\u00e7\\u00e3o\", \"edi\\u00e7\\u00e3o\", \"edi\\u00e7\\u00e3o jan\", \"encher\", \"encontrar\", \"encontrar\", \"encontrar\", \"encontrar\", \"encontrar\", \"enorme\", \"entende\", \"entender\", \"ent\\u00e3o\", \"ent\\u00e3o\", \"ent\\u00e3o\", \"ent\\u00e3o\", \"ent\\u00e3o\", \"ent\\u00e3o\", \"ent\\u00e3o\", \"ent\\u00e3o\", \"ent\\u00e3o\", \"eras\", \"erro\", \"erva\", \"escola\", \"escorre\", \"escravos\", \"escrever\", \"escrever\", \"escrevo\", \"escrita\", \"escrita\", \"escura\", \"espadas\", \"espa\\u00e7o\", \"espa\\u00e7o\", \"espa\\u00e7o\", \"espa\\u00e7o\", \"espelhos\", \"ess\\u00eancia\", \"ess\\u00eancia\", \"est\", \"estrela\", \"estrela\", \"estrela\", \"estrela\", \"estrela\", \"estrela\", \"estrela\", \"etc\", \"eternamente\", \"existe\", \"existe\", \"existe\", \"existir\", \"explicar\", \"faca\", \"fado\", \"falar\", \"falar\", \"falar\", \"falta\", \"falta\", \"falta\", \"farei\", \"faz\", \"faz\", \"faz\", \"faz\", \"faz\", \"faz\", \"faz\", \"faz\", \"feira\", \"feira\", \"feito\", \"feito\", \"feito\", \"feito\", \"filhas\", \"filho\", \"filho\", \"filho\", \"filho\", \"filho\", \"fizeram\", \"flor\", \"flor\", \"flor\", \"flor\", \"flor\", \"flor\", \"flores\", \"flores\", \"flores\", \"flores\", \"flores\", \"flores\", \"flores\", \"flutua\", \"franc\\u00eas\", \"frias\", \"frio\", \"frio\", \"frio\", \"frio\", \"frio\", \"frio\", \"from\", \"funda\", \"gato\", \"gato\", \"gato\", \"gente\", \"gente\", \"gente\", \"gente\", \"gesto\", \"gl\\u00f3ria\", \"gl\\u00f3ria\", \"gl\\u00f3ria\", \"gl\\u00f3ria\", \"gl\\u00f3ria\", \"grande\", \"grande\", \"grande\", \"grande\", \"grande\", \"grande\", \"grande\", \"grande\", \"grande\", \"gritar\", \"guardo\", \"have\", \"havia\", \"havia\", \"havia\", \"hist\\u00f3ria\", \"hist\\u00f3ria\", \"hist\\u00f3ria\", \"hist\\u00f3ria\", \"hist\\u00f3ria\", \"hist\\u00f3ria\", \"hist\\u00f3rias\", \"hoje\", \"hoje\", \"hoje\", \"hoje\", \"hoje\", \"hoje\", \"hoje\", \"hoje\", \"homem\", \"homem\", \"homem\", \"homem\", \"homem\", \"homem\", \"homem\", \"homem\", \"homem\", \"homens\", \"homens\", \"homens\", \"homens\", \"homens\", \"homens\", \"homens\", \"homens\", \"hora\", \"hora\", \"hora\", \"hora\", \"hora\", \"hora\", \"hora\", \"horas\", \"horas\", \"horas\", \"horas\", \"horas\", \"horas\", \"horas\", \"horas\", \"horas\", \"humanos\", \"ideia\", \"ideia\", \"incerta\", \"infinitos\", \"inimigo\", \"inl\", \"inscri\\u00e7\\u00e3o\", \"inscri\\u00e7\\u00e3o amor\", \"integrante\", \"integrante s\\u00e9rie\", \"intensa\", \"introd\", \"invade\", \"inverno\", \"invis\\u00edvel\", \"ir\\u00e1\", \"jan\", \"janeiro\", \"janeiro\", \"joelhos\", \"jorge\", \"jorge\", \"jornal\", \"jos\\u00e9\", \"jos\\u00e9\", \"jos\\u00e9\", \"jo\\u00e3o\", \"jo\\u00e3o\", \"jo\\u00e3o\", \"justi\\u00e7a\", \"j\\u00fadice\", \"j\\u00fadice pura\", \"las\", \"las\", \"las\", \"las\", \"las\", \"lda\", \"leite\", \"leite\", \"leite\", \"leitor\", \"len\\u00e7\\u00f3is\", \"len\\u00e7\\u00f3is\", \"les\", \"les\", \"letra\", \"life\", \"like\", \"limites\", \"lindos\", \"linho\", \"literatura\", \"livro\", \"livro\", \"livro\", \"livro\", \"livro\", \"logo\", \"logo\", \"logo\", \"los\", \"los\", \"los\", \"los\", \"los\", \"los\", \"loura\", \"lua\", \"lua\", \"lua\", \"lua\", \"lua\", \"lua\", \"lua\", \"luar\", \"luar\", \"luar\", \"luas\", \"luis\", \"luis borges\", \"luz\", \"luz\", \"luz\", \"luz\", \"luz\", \"luz\", \"luz\", \"luz\", \"luz\", \"l\\u00e1bio\", \"l\\u00e1bios\", \"l\\u00e1bios\", \"l\\u00e1bios\", \"l\\u00e1bios\", \"l\\u00e1bios\", \"l\\u00e1bios\", \"l\\u00e1bios\", \"l\\u00e1bios\", \"l\\u00edngua\", \"l\\u00edngua\", \"l\\u00edngua\", \"l\\u00edrios\", \"manuel\", \"mar\", \"mar\", \"mar\", \"mar\", \"mar\", \"mar\", \"mar\", \"mar\", \"martins\", \"mat\\u00e9ria\", \"meio\", \"meio\", \"meio\", \"meio\", \"meio\", \"meio\", \"mem\\u00f3ria\", \"mem\\u00f3ria\", \"mem\\u00f3ria\", \"mem\\u00f3ria\", \"mem\\u00f3ria\", \"mem\\u00f3ria\", \"menina\", \"menina\", \"menina\", \"menina\", \"menina\", \"menos\", \"menos\", \"menos\", \"menos\", \"menos\", \"menos\", \"menos\", \"menos\", \"meses\", \"mil\", \"mil\", \"mil\", \"mil\", \"mil\", \"mil\", \"mim\", \"mim\", \"mim\", \"mim\", \"mim\", \"mim\", \"mim\", \"mim\", \"minh\", \"minh alma\", \"minhalma\", \"molhado\", \"momento\", \"momento\", \"momento\", \"momento\", \"momento\", \"mon\", \"montanha\", \"montanha\", \"monte\", \"monte\", \"monte\", \"morno\", \"morreu\", \"morreu\", \"morreu\", \"mortas\", \"morte\", \"morte\", \"morte\", \"morte\", \"morte\", \"morte\", \"morte\", \"morte\", \"mortos\", \"mortos\", \"mortos\", \"movimento\", \"mui\", \"muitos\", \"muitos\", \"muitos\", \"muitos\", \"muitos\", \"mulher\", \"mulher\", \"mulher\", \"mulher\", \"mulher\", \"mulher\", \"mulher\", \"mulher\", \"mulher\", \"mundo\", \"mundo\", \"mundo\", \"mundo\", \"mundo\", \"mundo\", \"mundo\", \"mundo\", \"mundo\", \"mundo\", \"mundos\", \"m\\u00e1rio\", \"m\\u00e1rmore\", \"m\\u00e1scara\", \"m\\u00e3e\", \"m\\u00e3e\", \"m\\u00e3e\", \"m\\u00e3e\", \"m\\u00e3o\", \"m\\u00e3o\", \"m\\u00e3o\", \"m\\u00e3o\", \"m\\u00e3o\", \"m\\u00e3o\", \"m\\u00e3o\", \"m\\u00e3o\", \"m\\u00e3o\", \"m\\u00e3os\", \"m\\u00e3os\", \"m\\u00e3os\", \"m\\u00e3os\", \"m\\u00e3os\", \"m\\u00e3os\", \"m\\u00e3os\", \"m\\u00e3os\", \"m\\u00eas\", \"nacional\", \"nada\", \"nada\", \"nada\", \"nada\", \"nada\", \"nada\", \"nada\", \"nada\", \"nada\", \"nada nada\", \"nariz\", \"nascem\", \"navegar\", \"navio\", \"negros\", \"negros\", \"neto\", \"neve\", \"neve\", \"noite\", \"noite\", \"noite\", \"noite\", \"noite\", \"noite\", \"noite\", \"noite\", \"noite\", \"nome\", \"nome\", \"nome\", \"nome\", \"nome\", \"nome\", \"nome\", \"non\", \"non\", \"not\", \"nota\", \"nota\", \"nota\", \"notas\", \"notas\", \"notas\", \"notas\", \"novas\", \"novas\", \"novo\", \"novo\", \"novo\", \"novo\", \"novo\", \"novo\", \"novo\", \"novo\", \"nudez\", \"nudez\", \"nunca\", \"nunca\", \"nunca\", \"nunca\", \"nunca\", \"nunca\", \"nunca\", \"nunca\", \"nunca\", \"nus\", \"obra\", \"obra\", \"obra\", \"obra po\\u00e9tica\", \"obra po\\u00e9tica\", \"obras\", \"oceano\", \"olhar\", \"olhar\", \"olhar\", \"olhar\", \"olhar\", \"olhar\", \"olhos\", \"olhos\", \"olhos\", \"olhos\", \"olhos\", \"olhos\", \"olhos\", \"olhos\", \"olhos\", \"ondas\", \"ondas\", \"ondas\", \"ondas\", \"onde\", \"onde\", \"onde\", \"onde\", \"onde\", \"onde\", \"onde\", \"onde\", \"onde\", \"ordem\", \"ordem\", \"org\", \"our\", \"outro\", \"outro\", \"outro\", \"outro\", \"outro\", \"outro\", \"outro\", \"outro\", \"outros\", \"outros\", \"outros\", \"outros\", \"outros\", \"outros\", \"pai\", \"pai\", \"pai\", \"pai\", \"palavra\", \"palavra\", \"palavra\", \"palavra\", \"palavras\", \"palavras\", \"palavras\", \"palavras\", \"palavras\", \"palavras\", \"palavras\", \"pano\", \"papel\", \"papel\", \"papel\", \"parar\", \"parte\", \"parte\", \"parte\", \"parte\", \"parte\", \"pas\", \"passo\", \"passo\", \"passo\", \"passo\", \"passo\", \"passos\", \"passos\", \"passos\", \"passos\", \"pastor\", \"pastor\", \"paulo\", \"paulo\", \"paulo\", \"pa\\u00eds\", \"pa\\u00eds\", \"pa\\u00eds\", \"pa\\u00eds\", \"pa\\u00eds\", \"pa\\u00eds\", \"pa\\u00eds\", \"pede\", \"pedra\", \"pedra\", \"pedra\", \"pedra\", \"pedras\", \"pedras\", \"pedras\", \"pedras\", \"pedras\", \"peito\", \"peito\", \"peito\", \"peito\", \"peito\", \"peixe\", \"peixes\", \"peixes\", \"peixes\", \"pensar\", \"pensar\", \"pensei\", \"penso\", \"penso\", \"penso\", \"per\", \"perco\", \"perdidas\", \"perfei\\u00e7\\u00e3o\", \"perfume\", \"perfume\", \"perfume\", \"pernas\", \"pessoas\", \"pessoas\", \"pe\\u00e7o\", \"pe\\u00e7o\", \"pe\\u00e7o\", \"pina\", \"planeta\", \"plena\", \"plus\", \"pode\", \"pode\", \"pode\", \"pode\", \"pode\", \"pode\", \"pode\", \"pode\", \"pode\", \"poema\", \"poema\", \"poema\", \"poema\", \"poema\", \"poema\", \"poema integrante\", \"poemas\", \"poemas\", \"poemas\", \"poemas\", \"poesia\", \"poesia\", \"poesia\", \"poesia\", \"poesia\", \"poesia\", \"poesia\", \"poesia\", \"poesia completa\", \"poesia completa\", \"poesias\", \"poesias completas\", \"poeta\", \"poeta\", \"poeta\", \"poeta\", \"poeta\", \"poeta\", \"pois\", \"pois\", \"pois\", \"pois\", \"pois\", \"pois\", \"pois\", \"ponho\", \"porque\", \"porque\", \"porque\", \"porque\", \"porque\", \"porque\", \"porque\", \"porque\", \"porta\", \"porta\", \"porta\", \"porta\", \"porta\", \"porta\", \"porto\", \"porto\", \"porto\", \"porto alegre\", \"posso\", \"posso\", \"posso\", \"possuir\", \"povo\", \"povo\", \"povo\", \"povo\", \"po\\u00e9tica ruy\", \"praia\", \"pranto\", \"pranto\", \"pranto\", \"pranto\", \"pranto\", \"prazer\", \"prazer\", \"prazer\", \"prazer\", \"prazer\", \"prazer\", \"pra\\u00e7a\", \"pra\\u00e7a\", \"pref\", \"presen\\u00e7a\", \"presen\\u00e7a\", \"presen\\u00e7a\", \"presen\\u00e7a\", \"presen\\u00e7a lda\", \"preso\", \"pressa\", \"preta\", \"primavera\", \"primavera\", \"primavera\", \"primavera\", \"primavera\", \"primeiro\", \"primeiro\", \"primeiro\", \"primeiro\", \"primeiro\", \"primeiro\", \"prosa\", \"pr\\u00f3ximo\", \"publicado\", \"publicado livro\", \"publica\\u00e7\\u00f5es\", \"publica\\u00e7\\u00f5es dom\", \"pudesse\", \"punhal\", \"pura\", \"pura\", \"pura\", \"pura\", \"pura\", \"pura\", \"pura inscri\\u00e7\\u00e3o\", \"p\\u00e1g\", \"p\\u00e1g\", \"p\\u00e1g\", \"p\\u00e1g debolsillo\", \"p\\u00e1g editorial\", \"p\\u00e1g publica\\u00e7\\u00f5es\", \"p\\u00e1gina\", \"p\\u00e1lpebras\", \"p\\u00e1ssaros\", \"p\\u00e1ssaros\", \"p\\u00e1ssaros\", \"p\\u00e1ssaros\", \"p\\u00e1tria\", \"p\\u00e1tria\", \"p\\u00e1tria\", \"p\\u00e1tria\", \"p\\u00e9s\", \"p\\u00e9s\", \"p\\u00e9s\", \"p\\u00e9s\", \"p\\u00e9s\", \"p\\u00e9s\", \"p\\u00e9s\", \"p\\u00e9talas\", \"p\\u00f4s\", \"qualquer coisa\", \"quanto\", \"quanto\", \"quanto\", \"quanto\", \"quanto\", \"quanto\", \"quebra\", \"quentes\", \"quer\", \"quer\", \"quer\", \"quer\", \"quer\", \"quer\", \"querendo\", \"querer\", \"querer\", \"querer\", \"queria\", \"queria\", \"quero\", \"quero\", \"quero\", \"quero\", \"quero\", \"quero\", \"quero\", \"quest\\u00e3o\", \"qui\", \"quieto\", \"quintal\", \"quintal\", \"quintal\", \"quixote\", \"quixote edi\\u00e7\\u00e3o\", \"qu\\u00ea\", \"qu\\u00ea\", \"rara\", \"ra\\u00edzes\", \"ra\\u00edzes\", \"ra\\u00edzes\", \"rei\", \"rei\", \"rei\", \"rei\", \"rei\", \"rei\", \"resposta\", \"rey\", \"rio\", \"rio\", \"rio\", \"rio\", \"rio\", \"rio\", \"rio\", \"rio janeiro\", \"rio janeiro\", \"roma\", \"rosa\", \"rosa\", \"rosa\", \"rosa\", \"rosa\", \"rosa\", \"rosa\", \"rosas\", \"rosas\", \"rosas\", \"rosas\", \"rosas\", \"rosas\", \"rosas\", \"rosas\", \"rua\", \"rua\", \"rua\", \"rua\", \"rua\", \"ruas\", \"ruas\", \"ruas\", \"ruas\", \"ruas\", \"ruy\", \"ruy belo\", \"saber\", \"saber\", \"saber\", \"saber\", \"saber\", \"saber\", \"saber\", \"sagrada\", \"sal\", \"sala\", \"sala\", \"sala\", \"sala\", \"sangue\", \"sangue\", \"sangue\", \"sangue\", \"sangue\", \"sangue\", \"santa\", \"santa\", \"santa\", \"seguir\", \"sei\", \"sei\", \"sei\", \"sei\", \"sei\", \"sei\", \"sei\", \"sei sei\", \"seios\", \"sempre\", \"sempre\", \"sempre\", \"sempre\", \"sempre\", \"sempre\", \"sempre\", \"sempre\", \"sempre\", \"senhor\", \"senhor\", \"senhor\", \"senhor\", \"senhor\", \"sentado\", \"senti\", \"senti\", \"senti\", \"sentidos\", \"sentir\", \"sentir\", \"sentir\", \"servir\", \"sido\", \"sido\", \"sido\", \"silva\", \"sil\\u00eancio\", \"sil\\u00eancio\", \"sil\\u00eancio\", \"sil\\u00eancio\", \"sil\\u00eancio\", \"sil\\u00eancio\", \"sil\\u00eancio\", \"sil\\u00eancio\", \"sil\\u00eancio\", \"sim\", \"sim\", \"sim\", \"sim\", \"sim\", \"sim\", \"sinto\", \"sinto\", \"sinto\", \"sinto\", \"sinto\", \"sob\", \"sob\", \"sob\", \"sob\", \"sob\", \"sob\", \"sob\", \"sob\", \"sobre\", \"sobre\", \"sobre\", \"sobre\", \"sobre\", \"sobre\", \"sobre\", \"sobre\", \"sobre\", \"sobre\", \"sois\", \"sois\", \"sois\", \"sol\", \"sol\", \"sol\", \"sol\", \"sol\", \"sol\", \"sol\", \"sol\", \"sol\", \"som\", \"som\", \"som\", \"som\", \"sombra\", \"sombra\", \"sombra\", \"sombra\", \"sombra\", \"sombra\", \"sombra\", \"sombra\", \"sombra\", \"sonetos\", \"sonhar\", \"sonho\", \"sonho\", \"sonho\", \"sonho\", \"sonho\", \"sonho\", \"sonho\", \"sonhos\", \"sonhos\", \"sonhos\", \"sonhos\", \"sonhos\", \"sonhos\", \"sono\", \"sono\", \"sono\", \"sono\", \"sono\", \"sossego\", \"suaves\", \"superf\\u00edcie\", \"s\\u00e9culo\", \"s\\u00e9culo\", \"s\\u00e9rie\", \"talvez\", \"talvez\", \"talvez\", \"talvez\", \"talvez\", \"talvez\", \"talvez\", \"talvez\", \"tanto\", \"tanto\", \"tanto\", \"tanto\", \"tanto\", \"tanto\", \"tanto\", \"tanto\", \"telefone\", \"tempo\", \"tempo\", \"tempo\", \"tempo\", \"tempo\", \"tempo\", \"tempo\", \"tempo\", \"tento\", \"ter\", \"ter\", \"ter\", \"ter\", \"ter\", \"ter sido\", \"terra\", \"terra\", \"terra\", \"terra\", \"terra\", \"terra\", \"terra\", \"terra\", \"terra\", \"terror\", \"that\", \"the\", \"this\", \"thy\", \"tinta\", \"toda\", \"toda\", \"toda\", \"toda\", \"toda\", \"toda\", \"toda\", \"toda\", \"toda gente\", \"todas\", \"todas\", \"todas\", \"todas\", \"todas\", \"todas\", \"todas\", \"todas\", \"todas palavras\", \"todo\", \"todo\", \"todo\", \"todo\", \"todo\", \"todo\", \"todo\", \"todo\", \"todo\", \"todo\", \"todos\", \"todos\", \"todos\", \"todos\", \"todos\", \"todos\", \"todos\", \"todos\", \"todos\", \"todos dias\", \"toque\", \"torre\", \"tout\", \"trabalho\", \"trabalho\", \"trabalho\", \"triste\", \"triste\", \"triste\", \"triste\", \"triste\", \"triste\", \"triste\", \"triste\", \"tudo\", \"tudo\", \"tudo\", \"tudo\", \"tudo\", \"tudo\", \"tudo\", \"tudo\", \"tudo\", \"t\\u00e3o\", \"t\\u00e3o\", \"t\\u00e3o\", \"t\\u00e3o\", \"t\\u00e3o\", \"t\\u00e3o\", \"t\\u00e3o\", \"t\\u00e3o\", \"una\", \"une\", \"une\", \"une\", \"uns\", \"uns\", \"uns\", \"uns\", \"uns\", \"vai\", \"vai\", \"vai\", \"vai\", \"vai\", \"vai\", \"vai\", \"vai\", \"velas\", \"veludo\", \"vem\", \"vem\", \"vem\", \"vem\", \"vem\", \"vem\", \"vem\", \"vem\", \"vemos\", \"vento\", \"vento\", \"vento\", \"vento\", \"vento\", \"ventre\", \"ventre\", \"ver\", \"ver\", \"ver\", \"ver\", \"ver\", \"ver\", \"ver\", \"ver\", \"ver\", \"ver\", \"verdade\", \"verdade\", \"verdade\", \"verdade\", \"verdade\", \"verde\", \"verde\", \"verde\", \"verde\", \"verde\", \"vez\", \"vez\", \"vez\", \"vez\", \"vez\", \"vez\", \"vez\", \"vez\", \"vez\", \"vida\", \"vida\", \"vida\", \"vida\", \"vida\", \"vida\", \"vida\", \"vida\", \"vida\", \"vida\", \"vieram\", \"vil\", \"vil\", \"vindo\", \"vinte\", \"virgem\", \"virgem\", \"virgem\", \"vir\\u00e1\", \"viver\", \"viver\", \"viver\", \"viver\", \"viver\", \"viver\", \"vivi\", \"voar\", \"voar\", \"vol\", \"vol p\\u00e1g\", \"vol\\u00fapia\", \"vontade\", \"vontade\", \"vontade\", \"vontade\", \"vontade\", \"vossa\", \"vossa\", \"vossas\", \"vosso\", \"vosso\", \"vossos\", \"vou\", \"vou\", \"vou\", \"vou\", \"vou\", \"vou\", \"voz\", \"voz\", \"voz\", \"voz\", \"voz\", \"voz\", \"voz\", \"voz\", \"voz\", \"v\\u00e3o\", \"v\\u00e3o\", \"v\\u00e3o\", \"v\\u00e3o\", \"v\\u00e3o\", \"v\\u00e3o\", \"v\\u00e3o\", \"v\\u00e3o\", \"v\\u00e3o\", \"v\\u00f3s\", \"was\", \"what\", \"with\", \"you\", \"\\u00e1gua\", \"\\u00e1gua\", \"\\u00e1gua\", \"\\u00e1gua\", \"\\u00e1gua\", \"\\u00e1gua\", \"\\u00e1gua\", \"\\u00e1gua\", \"\\u00e1guas\", \"\\u00e1guas\", \"\\u00e1guas\", \"\\u00e1rvores\", \"\\u00e1rvores\", \"\\u00e1rvores\", \"\\u00e1rvores\", \"\\u00e9poca\", \"\\u00eaxtase\", \"\\u00f3dio\", \"\\u00f3dio\"]}, \"R\": 30, \"lambda.step\": 0.01, \"plot.opts\": {\"xlab\": \"PC1\", \"ylab\": \"PC2\"}, \"topic.order\": [1, 2, 3, 4, 5, 6, 7, 8, 9, 10]};\n",
              "\n",
              "function LDAvis_load_lib(url, callback){\n",
              "  var s = document.createElement('script');\n",
              "  s.src = url;\n",
              "  s.async = true;\n",
              "  s.onreadystatechange = s.onload = callback;\n",
              "  s.onerror = function(){console.warn(\"failed to load library \" + url);};\n",
              "  document.getElementsByTagName(\"head\")[0].appendChild(s);\n",
              "}\n",
              "\n",
              "if(typeof(LDAvis) !== \"undefined\"){\n",
              "   // already loaded: just create the visualization\n",
              "   !function(LDAvis){\n",
              "       new LDAvis(\"#\" + \"ldavis_el751396681128154409118670818\", ldavis_el751396681128154409118670818_data);\n",
              "   }(LDAvis);\n",
              "}else if(typeof define === \"function\" && define.amd){\n",
              "   // require.js is available: use it to load d3/LDAvis\n",
              "   require.config({paths: {d3: \"https://d3js.org/d3.v5\"}});\n",
              "   require([\"d3\"], function(d3){\n",
              "      window.d3 = d3;\n",
              "      LDAvis_load_lib(\"https://cdn.jsdelivr.net/gh/bmabey/pyLDAvis@3.3.1/pyLDAvis/js/ldavis.v3.0.0.js\", function(){\n",
              "        new LDAvis(\"#\" + \"ldavis_el751396681128154409118670818\", ldavis_el751396681128154409118670818_data);\n",
              "      });\n",
              "    });\n",
              "}else{\n",
              "    // require.js not available: dynamically load d3 & LDAvis\n",
              "    LDAvis_load_lib(\"https://d3js.org/d3.v5.js\", function(){\n",
              "         LDAvis_load_lib(\"https://cdn.jsdelivr.net/gh/bmabey/pyLDAvis@3.3.1/pyLDAvis/js/ldavis.v3.0.0.js\", function(){\n",
              "                 new LDAvis(\"#\" + \"ldavis_el751396681128154409118670818\", ldavis_el751396681128154409118670818_data);\n",
              "            })\n",
              "         });\n",
              "}\n",
              "</script>"
            ]
          },
          "metadata": {},
          "execution_count": 92
        }
      ]
    },
    {
      "cell_type": "markdown",
      "source": [
        "- Podemos examinar a nossa relação entre os documentose os tópicos. Reduz nossa matriz para duas dimensão (x,y), tentando representar graficamente semelhanças e diferenças."
      ],
      "metadata": {
        "id": "QRXXqqTOqnC5"
      }
    }
  ]
}